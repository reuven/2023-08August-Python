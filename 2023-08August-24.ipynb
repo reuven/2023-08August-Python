{
 "cells": [
  {
   "cell_type": "markdown",
   "id": "17635665-f35c-4f89-a626-50d566f2135f",
   "metadata": {},
   "source": [
    "# Day 4: Functions\n",
    "\n",
    "1. What are functions? Do we even need functions?\n",
    "2. Writing some simple functions\n",
    "3. Return values\n",
    "4. Arguments and parameters\n",
    "5. Default argument values\n",
    "6. Complex return values\n",
    "7. Local vs. global variables"
   ]
  },
  {
   "cell_type": "markdown",
   "id": "819a47d1-64d6-4825-b828-f11330f88c65",
   "metadata": {},
   "source": [
    "# What are functions? Do we need them?\n",
    "\n",
    "Abstraction: The idea that you can brush aside, or ignore, the lower-level details of something and then concentrate on the higher-level ideas.\n",
    "\n",
    "Just as your car contains hundreds or thousands of parts and processes, but you only pay attention to a small number of them when you are driving, your software will typicaly contain hundreds or thousands or millions of parts and processes. You cannot possibly concentrate on one part of the software if you're trying to pay attention to all of those underlying parts.\n",
    "\n",
    "Abstraction allows us to sweep up all of that detail under a single word/name. That allows us to concentrate on the things that are really important to us.  Moreover, if you can abstract away the details under a single name, then you can communicate about those details very quickly and efficiently.\n",
    "\n",
    "Functions are a way for us to define a new verb in Python. We cannot do anything new -- anything we could have done with a function, we could also have done without a function. However, by using a function, we are able to wrap up a bunch of functionality into a single term, which allows us to communicate with others on our team, and with ourselves, more efficiently and easily.\n",
    "\n",
    "In addition to the abstraction stuff (which is super important), there's another idea in programming that functions help us with. That is DRY  -- don't repeat yourself! \n",
    "\n",
    "We've already seen (and said) that if you have several lines in a row of code that are basically the same, you should wrap those up into a loop. That helps your code be DRY.\n",
    "\n",
    "If you have the same code in multiple places, instead of repeating yourself, you can define a function and then call the function in all of those places. This reduces the cognitive load, because you don't have to think about all of those details and all of those lines of code in each place. Moreover, it means that if/when you change, improve, or debug your code, you only have to do it in a single place."
   ]
  },
  {
   "cell_type": "markdown",
   "id": "8cb7fdc9-ec75-4b12-902a-ce9804a392bf",
   "metadata": {},
   "source": [
    "# How do we define a function in Python?\n",
    "\n",
    "1. We use the reserved word `def` (short for \"define\")\n",
    "2. After `def`, we put the name of the function that we want to define. Rules for functions are the same as for variables, as are the conventions -- all lowercase, underscores between words, starting with a letter, after that you can have digits and underscores.\n",
    "3. After the name of the function, we have `()` (empty for now, that is) and a `:` at the end of the line\n",
    "4. Then we have an indented block -- the body of the function\n",
    "    - The function can be as long or short as you want -- but try to keep function bodies short. If your function is > 20 lines long, then you're probably doing something wrong. You should break it up into multiple functions.\n",
    "    - In the function body, you can put ANY CODE YOU WANT: `if`, `input`, reading from a file, reading from the network, calculations, writing to a file, `for` loops, `while` loops..."
   ]
  },
  {
   "cell_type": "code",
   "execution_count": 1,
   "id": "0ab1e493-86da-416a-9d82-22d63234fa9a",
   "metadata": {},
   "outputs": [],
   "source": [
    "def myfunc():\n",
    "    print('Hello!')"
   ]
  },
  {
   "cell_type": "markdown",
   "id": "df7f16e4-9bdf-4724-ba06-cbf9cd36bca7",
   "metadata": {},
   "source": [
    "I just defined a new function, `myfunc`!  I have taught Python a new verb that it can now use whenever it wants.\n",
    "\n",
    "To run this function, we simply have to say\n",
    "\n",
    "    myfunc()\n",
    "\n",
    "Don't forget the parentheses -- they tell Python that we want to execute the function. Without `()`, the function will never execute, and we'll get the \"function object,\" basically the plans to execute it, but without the actual execution."
   ]
  },
  {
   "cell_type": "code",
   "execution_count": 2,
   "id": "8ebe30c9-140c-42f4-a5ac-59ce646a9498",
   "metadata": {},
   "outputs": [
    {
     "name": "stdout",
     "output_type": "stream",
     "text": [
      "Hello!\n"
     ]
    }
   ],
   "source": [
    "myfunc()"
   ]
  },
  {
   "cell_type": "markdown",
   "id": "371ba075-dc42-43c8-a0dc-b2ee44b7fab8",
   "metadata": {},
   "source": [
    "# What did I do when I defined my function?\n",
    "\n",
    "When we define a function in Python, we're really doing two different things:\n",
    "\n",
    "1. Creating a function object -- a special data structure that knows how to execute the contents of your function. This function object is anonymous.\n",
    "2. Assign that function object to a variable.\n",
    "\n",
    "What does it mean, then, to define a function? It means that a variable has a function object in it, which we can execute with `()`.\n",
    "\n",
    "I'm telling you this for two reasons:\n",
    "\n",
    "1. Over time, thinking this way will help you to think about Python  functions, and some of the weird things that can happen as a result of how they're defined.\n",
    "2. Functions and variables are in the *same namespace*. In many programming languages, you can have both a function `x` and a variable `x` at the same time, and the language keeps track of the difference. In Python, this isn't possible. Either `x` is a value or `x` is a function. But it can't be both simultaneously.\n",
    "\n",
    "When you define a function, if there already a variable with that name defined... that variable is gone, and has been replaced by a reference to our function.\n",
    "\n",
    "Similarly, if you define a function, and then assign a value to that same name, now you have the value, but not the function."
   ]
  },
  {
   "cell_type": "markdown",
   "id": "7e759941-194f-4f88-8213-030af95dd925",
   "metadata": {},
   "source": [
    "# Exercise: Simple calculator\n",
    "\n",
    "1. Define a function called `calc`. This function will ask the user to enter a number, a string (an operator), and another number. It'll then print the full math expression, including the solution, on the screen.\n",
    "2. When the function is called, ask the user three questions (first number, operator, second number), and assign them to variables.\n",
    "3. If the operator is either `+` or `-`, then calculate a result and print the input values and the output value on the screen.\n",
    "4. If the operator is something else, then give the user an error message of sorts.\n",
    "\n",
    "Examples:\n",
    "\n",
    "    calc()\n",
    "    Enter first number: 10\n",
    "    Enter operator: +\n",
    "    Enter second number: 15\n",
    "    10 + 15 = 25\n",
    "\n",
    "    calc()\n",
    "    Enter first number: 10\n",
    "    Enter operator: *\n",
    "    Enter second number: 15\n",
    "    10 + 15 = illegal operator *"
   ]
  },
  {
   "cell_type": "code",
   "execution_count": 3,
   "id": "13cc88cb-e48d-4b5a-ba1e-7925e0cde893",
   "metadata": {},
   "outputs": [],
   "source": [
    "def calc():\n",
    "    n1 = input('Enter first number: ').strip()\n",
    "    op = input('Enter operator: ').strip()\n",
    "    n2 = input('Enter second number: ').strip()\n",
    "\n",
    "    n1 = int(n1)\n",
    "    n2 = int(n2)\n",
    "\n",
    "    if op == '+':\n",
    "        result = n1 + n2\n",
    "    elif op == '-':\n",
    "        result = n1 - n2\n",
    "    else:\n",
    "        result = f'Illegal operator {op}'\n",
    "\n",
    "    print(f'{n1} {op} {n2} = {result}')"
   ]
  },
  {
   "cell_type": "code",
   "execution_count": 4,
   "id": "43548143-e367-4801-995c-b80afde55633",
   "metadata": {},
   "outputs": [
    {
     "name": "stdin",
     "output_type": "stream",
     "text": [
      "Enter first number:  10\n",
      "Enter operator:  +\n",
      "Enter second number:  15\n"
     ]
    },
    {
     "name": "stdout",
     "output_type": "stream",
     "text": [
      "10 + 15 = 25\n"
     ]
    }
   ],
   "source": [
    "calc()"
   ]
  },
  {
   "cell_type": "code",
   "execution_count": 5,
   "id": "c6b38714-4a8c-4818-b7ea-84810933dadf",
   "metadata": {},
   "outputs": [
    {
     "name": "stdin",
     "output_type": "stream",
     "text": [
      "Enter first number:  10\n",
      "Enter operator:  *\n",
      "Enter second number:  15\n"
     ]
    },
    {
     "name": "stdout",
     "output_type": "stream",
     "text": [
      "10 * 15 = Illegal operator *\n"
     ]
    }
   ],
   "source": [
    "calc()"
   ]
  },
  {
   "cell_type": "code",
   "execution_count": 8,
   "id": "d4a135b0-1ef6-40f9-89d0-c2b826d9c283",
   "metadata": {},
   "outputs": [],
   "source": [
    "def calc():\n",
    "    print('2 + 2 = 4')"
   ]
  },
  {
   "cell_type": "code",
   "execution_count": 9,
   "id": "f32deb58-8bab-44f1-a15a-8532f80d824b",
   "metadata": {},
   "outputs": [
    {
     "name": "stdout",
     "output_type": "stream",
     "text": [
      "2 + 2 = 4\n"
     ]
    }
   ],
   "source": [
    "calc()"
   ]
  },
  {
   "cell_type": "code",
   "execution_count": 10,
   "id": "4d29ec30-c6fd-451f-9f74-f1400ed11bb1",
   "metadata": {},
   "outputs": [],
   "source": [
    "def calc():\n",
    "    n1 = input('Enter first number: ').strip()\n",
    "    op = input('Enter operator: ').strip()\n",
    "    n2 = input('Enter second number: ').strip()\n",
    "\n",
    "    n1 = int(n1)\n",
    "    n2 = int(n2)\n",
    "\n",
    "    if op == '+':\n",
    "        result = n1 + n2\n",
    "    elif op == '-':\n",
    "        result = n1 - n2\n",
    "    else:\n",
    "        result = f'Illegal operator {op}'\n",
    "\n",
    "    print(f'{n1} {op} {n2} = {result}')"
   ]
  },
  {
   "cell_type": "markdown",
   "id": "357931d4-bbae-4962-a740-1921cf8614df",
   "metadata": {},
   "source": [
    "# Printing vs. returning in functions\n",
    "\n",
    "We've seen that if we call a function, we get a value returned back to us:\n",
    "\n",
    "    x = len('abcd')\n",
    "\n",
    "When I say that we \"get a value returned,\" that basically means that we can put the function call on the right side of assignment, and whatever the function returned will be assigned to the variable.\n",
    "\n",
    "What does our function return? \n",
    "\n",
    "If you say that it returns the text \"2 + 2 = 4\" or \"Illegal operator *\", then ... sorry, but wrong. That is not returning a value. That is displaying a value on the screen.\n",
    "\n",
    "A function can print whatever it wants on the screen. It can call `print` as often or as rarely as it wants.  You can print lots of different things within a function.\n",
    "\n",
    "A function can only return *ONE* value each time it is called. It might return a different value each time. It might even return a different type of value each time. But when a function returns, it returns a value. That value can be assigned to a variable (as we've seen) or it can be printed, if we want.\n",
    "\n",
    "Which means: If want to give the caller of our function more flexibility, we'll always return values, and we'll never print them. If we print, then the caller has no choice. But if we return a value, then the caller can decide whether to print or do something else.\n",
    "\n",
    "So... how do I return a value in a Python function?\n",
    "\n",
    "Answer: Use the `return` statement. Whatever value comes after `return` is returned to the caller."
   ]
  },
  {
   "cell_type": "code",
   "execution_count": 11,
   "id": "a243f6dd-b341-4fad-a4ba-54742b87138b",
   "metadata": {},
   "outputs": [],
   "source": [
    "def hello():\n",
    "    return f'Hello out there!'"
   ]
  },
  {
   "cell_type": "code",
   "execution_count": 12,
   "id": "447fd7ec-5069-4e03-a307-18dd1908d9e3",
   "metadata": {},
   "outputs": [
    {
     "name": "stdout",
     "output_type": "stream",
     "text": [
      "Hello out there\n"
     ]
    }
   ],
   "source": [
    "print('Hello out there')\n"
   ]
  },
  {
   "cell_type": "code",
   "execution_count": 13,
   "id": "01583f16-f700-4071-bf03-e88e08c6ab57",
   "metadata": {},
   "outputs": [
    {
     "data": {
      "text/plain": [
       "'Hello out there!'"
      ]
     },
     "execution_count": 13,
     "metadata": {},
     "output_type": "execute_result"
    }
   ],
   "source": [
    "hello()"
   ]
  },
  {
   "cell_type": "code",
   "execution_count": 14,
   "id": "bf3df94f-658f-43e3-80b4-d8d33f0b9029",
   "metadata": {},
   "outputs": [
    {
     "name": "stdout",
     "output_type": "stream",
     "text": [
      "Hello out there!\n"
     ]
    }
   ],
   "source": [
    "# get the value back from hello, and then print it\n",
    "print(hello())"
   ]
  },
  {
   "cell_type": "markdown",
   "id": "ccac1a9b-3743-42e0-aed3-4d56eb5eb871",
   "metadata": {},
   "source": [
    "# How/what can you return from a function?\n",
    "\n",
    "In the function, we can say\n",
    "\n",
    "    return\n",
    "\n",
    "This is the simplest and worst way to do it; the caller gets back the value `None`, which basically means, \"Nothing to see here.\"\n",
    "\n",
    "We can also return a data structure. We can return **ANY VALUE AT ALL IN PYTHON**! It's OK to return an integer, float, string, list, tuple, dict, file, ... even another function.  Say:\n",
    "\n",
    "    return mydata"
   ]
  },
  {
   "cell_type": "markdown",
   "id": "dc55b216-7a3b-49be-a71f-c1bf2ac7a792",
   "metadata": {},
   "source": [
    "# Exercise: Redo our calculator\n",
    "\n",
    "We're going to rewrite the `calc` function such that it doesn't print a result, but rather returns the string that would have been printed:\n",
    "\n",
    "- Implement `calc` if you haven't already (i.e., it's totally OK to copy mine)\n",
    "- Modify `calc` such that it no longer prints things, but returns those strings\n",
    "- Have someone call `calc`, and then print whatever it returns\n",
    "\n",
    "I should be able to write:\n",
    "\n",
    "    print(calc())"
   ]
  },
  {
   "cell_type": "code",
   "execution_count": 15,
   "id": "14547e0d-22d1-47c3-bf06-3bbbaa6a6fbc",
   "metadata": {},
   "outputs": [],
   "source": [
    "def calc():\n",
    "    n1 = input('Enter first number: ').strip()\n",
    "    op = input('Enter operator: ').strip()\n",
    "    n2 = input('Enter second number: ').strip()\n",
    "\n",
    "    n1 = int(n1)\n",
    "    n2 = int(n2)\n",
    "\n",
    "    if op == '+':\n",
    "        result = n1 + n2\n",
    "    elif op == '-':\n",
    "        result = n1 - n2\n",
    "    else:\n",
    "        result = f'Illegal operator {op}'\n",
    "\n",
    "    return f'{n1} {op} {n2} = {result}'   # return isn't a function -- no (), but they don't hurt"
   ]
  },
  {
   "cell_type": "code",
   "execution_count": 16,
   "id": "0a43197d-46bc-4614-929b-d3db37a1253b",
   "metadata": {},
   "outputs": [
    {
     "name": "stdin",
     "output_type": "stream",
     "text": [
      "Enter first number:  10\n",
      "Enter operator:  +\n",
      "Enter second number:  3\n"
     ]
    },
    {
     "data": {
      "text/plain": [
       "'10 + 3 = 13'"
      ]
     },
     "execution_count": 16,
     "metadata": {},
     "output_type": "execute_result"
    }
   ],
   "source": [
    "calc()"
   ]
  },
  {
   "cell_type": "code",
   "execution_count": 17,
   "id": "555859ea-cb13-432f-ba7b-b8d26b0645cd",
   "metadata": {},
   "outputs": [
    {
     "name": "stdin",
     "output_type": "stream",
     "text": [
      "Enter first number:  10\n",
      "Enter operator:  +\n",
      "Enter second number:  3\n"
     ]
    }
   ],
   "source": [
    "x = calc()"
   ]
  },
  {
   "cell_type": "code",
   "execution_count": 18,
   "id": "3005e0e2-8651-49f3-b51d-73e3f5b1f479",
   "metadata": {},
   "outputs": [
    {
     "name": "stdout",
     "output_type": "stream",
     "text": [
      "10 + 3 = 13\n"
     ]
    }
   ],
   "source": [
    "print(x)"
   ]
  },
  {
   "cell_type": "markdown",
   "id": "815d088f-93d0-4fc9-83cf-291552ffaab6",
   "metadata": {},
   "source": [
    "# Next up\n",
    "\n",
    "- Arguments and parameters\n",
    "- Default argument values\n",
    "\n"
   ]
  },
  {
   "cell_type": "code",
   "execution_count": 19,
   "id": "1bd076a5-2e5f-4934-9def-7ce90b30726c",
   "metadata": {},
   "outputs": [],
   "source": [
    "def hello():\n",
    "    name = input('Enter your name: ').strip()\n",
    "\n",
    "    return f'Hello, {name}!'"
   ]
  },
  {
   "cell_type": "code",
   "execution_count": 20,
   "id": "4ddbb6a2-2fb7-47af-9ca2-d8a4761a5b77",
   "metadata": {},
   "outputs": [
    {
     "name": "stdin",
     "output_type": "stream",
     "text": [
      "Enter your name:  Reuven\n"
     ]
    },
    {
     "data": {
      "text/plain": [
       "'Hello, Reuven!'"
      ]
     },
     "execution_count": 20,
     "metadata": {},
     "output_type": "execute_result"
    }
   ],
   "source": [
    "hello()"
   ]
  },
  {
   "cell_type": "code",
   "execution_count": 21,
   "id": "4105ae32-6668-437f-83f3-e782ccc88d7b",
   "metadata": {},
   "outputs": [
    {
     "name": "stdin",
     "output_type": "stream",
     "text": [
      "Enter your name:  Reuven\n"
     ]
    }
   ],
   "source": [
    "greeting = hello()"
   ]
  },
  {
   "cell_type": "code",
   "execution_count": 22,
   "id": "ef3c8a9e-2dc6-463a-ad90-372bb420f071",
   "metadata": {},
   "outputs": [
    {
     "name": "stdout",
     "output_type": "stream",
     "text": [
      "Hello, Reuven!\n"
     ]
    }
   ],
   "source": [
    "print(greeting)"
   ]
  },
  {
   "cell_type": "markdown",
   "id": "f9049c76-0c36-4789-8d90-02157aadbd04",
   "metadata": {},
   "source": [
    "Wouldn't it make more sense for our function to accept an argument of a string (the person's name), rather than asking via `input` inside of the function?\n",
    "\n",
    "Generally speaking, it's a bad idea to use `print` inside of a function (except for simple debugging), and it's an even worse idea to use `input` inside of a function.\n",
    "\n",
    "Instead, we want to have parameters in the function which will be assigned argument values."
   ]
  },
  {
   "cell_type": "markdown",
   "id": "202f4bbd-f576-47a1-8de6-23c7ea50b800",
   "metadata": {},
   "source": [
    "# Arguments and parameters\n",
    "\n",
    "When we call a function, we can put one or more arguments inside of the parentheses:\n",
    "\n",
    "    print('hello')   # the string 'hello' is an argument\n",
    "    len('abcd')      # the string 'abcd' is an argument\n",
    "    str(5)           # the integer 5 is an argument\n",
    "\n",
    "Arguments are values that we pass along to a function when we call it.\n",
    "\n",
    "But what happens to an argument when the function is invoked? It is assigned to a special kind of variable in the function, known as a parameter.\n",
    "\n",
    "Parameters must get their values from a caller's arguments.  Python guarantees that a parameter will have a value when the function runs.\n",
    "\n",
    "Unlike regular variables, which we create and assign to with `=`, parameters are listed in the parentheses on the top line of the function definition."
   ]
  },
  {
   "cell_type": "code",
   "execution_count": 23,
   "id": "017638ce-8b4d-432a-82be-3b2211241a26",
   "metadata": {},
   "outputs": [
    {
     "name": "stdout",
     "output_type": "stream",
     "text": [
      "Hello, Reuven!\n"
     ]
    }
   ],
   "source": [
    "def hello(name):                # define hello with one parameter, called \"name\"\n",
    "    return f'Hello, {name}!'    # we can assume that \"name\" was assigned a value via an argument\n",
    "\n",
    "print(hello('Reuven'))"
   ]
  },
  {
   "cell_type": "markdown",
   "id": "ebc42c25-5412-4202-bd71-d3dae7407f0d",
   "metadata": {},
   "source": [
    "# More about parameters\n",
    "\n",
    "Parameters are variables. Arguments are values that are assigned to parameters. Nearly every programmer I know gets the terms \"argument\" and \"parameter\" mixed up. If you confuse them, you're in good company!\n",
    "\n",
    "Because parameters are variables, they are going to be lowercase, starting with a letter, and then containing letters, numbers, and underscores.\n",
    "\n",
    "You can have as many (or as few) parameters as you want. We'll soon talk about how arguments are assigned to parameters, and then you'll see what options we have there.\n",
    "\n",
    "Parameters are indeed separated by commas:\n",
    "\n",
    "```python\n",
    "def hello(first_name, last_name):               # 2 parameters\n",
    "    return f'Hello, {first_name} {last_name}!'  # using 2 parameters\n",
    "```"
   ]
  },
  {
   "cell_type": "markdown",
   "id": "1fe5d242-9466-45f2-a23d-a23d749254ab",
   "metadata": {},
   "source": [
    "# Exercise: Calc with parameters\n",
    "\n",
    "1. Take the existing version of `calc`, which returns a string.\n",
    "2. Modify it, so that we don't use `input` inside of the function. Rather, we get three arguments passed to us, which are assigned to three parameters: `n1`, `op`, and `n2`.\n",
    "3. Call the function with appropriate arguments, and see if you get the right value back.\n",
    "\n",
    "Example:\n",
    "\n",
    "    calc(10, '+', 3)  # should return '10 + 3 = 13'\n",
    "\n"
   ]
  },
  {
   "cell_type": "code",
   "execution_count": 24,
   "id": "8c1fbdf7-d11f-4c1a-aaca-c744ab76f0fd",
   "metadata": {},
   "outputs": [
    {
     "data": {
      "text/plain": [
       "'Hello, Reuven Lerner!'"
      ]
     },
     "execution_count": 24,
     "metadata": {},
     "output_type": "execute_result"
    }
   ],
   "source": [
    "# I define the function, including naming its parameters\n",
    "def hello(first_name, last_name):\n",
    "    return f'Hello, {first_name} {last_name}!'\n",
    "\n",
    "# I call the function, passing values in the parentheses\n",
    "hello('Reuven', 'Lerner')\n",
    "\n",
    "# if I were to say hello(first_name, last_name), Python would say -- what are those?"
   ]
  },
  {
   "cell_type": "code",
   "execution_count": 25,
   "id": "f2603b92-835e-41d8-9882-4565405ec48c",
   "metadata": {},
   "outputs": [],
   "source": [
    "def calc(n1, op, n2):\n",
    "    if op == '+':\n",
    "        result = n1 + n2\n",
    "    elif op == '-':\n",
    "        result = n1 - n2\n",
    "    else:\n",
    "        result = f'Illegal operator {op}'\n",
    "\n",
    "    return f'{n1} {op} {n2} = {result}'   # return isn't a function -- no (), but they don't hurt"
   ]
  },
  {
   "cell_type": "code",
   "execution_count": 27,
   "id": "da3b100c-bd4c-4495-a017-0253f2561a29",
   "metadata": {},
   "outputs": [],
   "source": [
    "# our \"calc\" function now expects to get three arguments\n",
    "# those three arguments will be assigned to our three parameters (n1, op, n2)\n",
    "\n",
    "# By the time we get to the \"if\" in the function, n1, op, and n2 have\n",
    "# the same values as they would have with input. This is just more elegant\n",
    "\n",
    "answer = calc(10, '+', 3)"
   ]
  },
  {
   "cell_type": "code",
   "execution_count": 28,
   "id": "5c5aa3bc-299c-4340-aba2-f201113a5b4b",
   "metadata": {},
   "outputs": [
    {
     "name": "stdout",
     "output_type": "stream",
     "text": [
      "10 + 3 = 13\n"
     ]
    }
   ],
   "source": [
    "print(answer)"
   ]
  },
  {
   "cell_type": "code",
   "execution_count": null,
   "id": "4e6db151-d0c7-4e7a-ab06-8dbc9dd4562f",
   "metadata": {},
   "outputs": [],
   "source": [
    "# can I use variables in the arguments?\n",
    "# yes, but the variables' values will be passed, not the variables\n",
    "\n",
    "x = 10\n",
    "y = 3\n",
    "\n",
    "# when Python tries to invoke the calc function, it says -- what are the values\n",
    "# we're passing?\n",
    "# x -> 10\n",
    "# +\n",
    "# y -> 3\n",
    "\n",
    "# so it really calls calc(10, '+', 3)\n",
    "\n",
    "calc(x, '+', y)"
   ]
  },
  {
   "cell_type": "code",
   "execution_count": 29,
   "id": "3654d0eb-0f04-4282-a0a1-713c40054ccd",
   "metadata": {},
   "outputs": [],
   "source": [
    "def calc(n1, op, n2):\n",
    "    if op == '+':\n",
    "        result = n1 + n2\n",
    "    elif op == '-':\n",
    "        result = n1 - n2\n",
    "    else:\n",
    "        result = f'Illegal operator {op}'\n",
    "\n",
    "    return f'{n1} {op} {n2} = {result}'   # return isn't a function -- no (), but they don't hurt"
   ]
  },
  {
   "cell_type": "code",
   "execution_count": 30,
   "id": "55de78cd-bbc8-41a7-8db1-55438fbbc3e6",
   "metadata": {},
   "outputs": [
    {
     "data": {
      "text/plain": [
       "'10 + 3 = 13'"
      ]
     },
     "execution_count": 30,
     "metadata": {},
     "output_type": "execute_result"
    }
   ],
   "source": [
    "# parameters: n1,   op,  n2\n",
    "# arguments:  10     '+'   3\n",
    "\n",
    "calc(10, '+', 3)  # positional arguments -- they are assigned to parameters based on their POSITIONS"
   ]
  },
  {
   "cell_type": "code",
   "execution_count": 31,
   "id": "cd765ab9-c9ec-4666-8478-db7941a5b8f2",
   "metadata": {},
   "outputs": [
    {
     "ename": "TypeError",
     "evalue": "calc() missing 3 required positional arguments: 'n1', 'op', and 'n2'",
     "output_type": "error",
     "traceback": [
      "\u001b[1;31m---------------------------------------------------------------------------\u001b[0m",
      "\u001b[1;31mTypeError\u001b[0m                                 Traceback (most recent call last)",
      "Cell \u001b[1;32mIn[31], line 3\u001b[0m\n\u001b[0;32m      1\u001b[0m \u001b[38;5;66;03m# what happens if I call calc now with zero arguments (like we used to do?)\u001b[39;00m\n\u001b[1;32m----> 3\u001b[0m \u001b[43mcalc\u001b[49m\u001b[43m(\u001b[49m\u001b[43m)\u001b[49m  \n",
      "\u001b[1;31mTypeError\u001b[0m: calc() missing 3 required positional arguments: 'n1', 'op', and 'n2'"
     ]
    }
   ],
   "source": [
    "# what happens if I call calc now with zero arguments (like we used to do?)\n",
    "\n",
    "calc()  "
   ]
  },
  {
   "cell_type": "code",
   "execution_count": 32,
   "id": "0f5cc81f-4b6f-45f5-a2cb-21627db19478",
   "metadata": {},
   "outputs": [
    {
     "data": {
      "text/plain": [
       "'Hello, Reuven Lerner!'"
      ]
     },
     "execution_count": 32,
     "metadata": {},
     "output_type": "execute_result"
    }
   ],
   "source": [
    "# there is another kind of argument -- keyword arguments\n",
    "\n",
    "# parameters: first_name, last_name\n",
    "# arguments:  'Reuven', 'Lerner'   (positional)\n",
    "\n",
    "hello('Reuven', 'Lerner')"
   ]
  },
  {
   "cell_type": "code",
   "execution_count": 33,
   "id": "11c78906-eb7f-46fd-978a-0095208f535e",
   "metadata": {},
   "outputs": [
    {
     "data": {
      "text/plain": [
       "'Hello, Reuven Lerner!'"
      ]
     },
     "execution_count": 33,
     "metadata": {},
     "output_type": "execute_result"
    }
   ],
   "source": [
    "#  I can do this in another way, with keyword arguments\n",
    "# keyword arguments all have the form of NAME=VALUE, including the =\n",
    "\n",
    "# parameters:  first_name     last_name\n",
    "# arguments:     'Reuven'        'Lerner'\n",
    "\n",
    "hello(first_name='Reuven', last_name='Lerner')"
   ]
  },
  {
   "cell_type": "code",
   "execution_count": 34,
   "id": "63abf50e-e597-402d-b277-f8ffe7dab4a4",
   "metadata": {},
   "outputs": [
    {
     "data": {
      "text/plain": [
       "'Hello, Reuven Lerner!'"
      ]
     },
     "execution_count": 34,
     "metadata": {},
     "output_type": "execute_result"
    }
   ],
   "source": [
    "hello(last_name='Lerner', first_name='Reuven')"
   ]
  },
  {
   "cell_type": "code",
   "execution_count": 35,
   "id": "1439fe77-7f85-433b-96a9-3aaa90dc6901",
   "metadata": {},
   "outputs": [
    {
     "ename": "TypeError",
     "evalue": "hello() got an unexpected keyword argument 'las_name'",
     "output_type": "error",
     "traceback": [
      "\u001b[1;31m---------------------------------------------------------------------------\u001b[0m",
      "\u001b[1;31mTypeError\u001b[0m                                 Traceback (most recent call last)",
      "Cell \u001b[1;32mIn[35], line 1\u001b[0m\n\u001b[1;32m----> 1\u001b[0m \u001b[43mhello\u001b[49m\u001b[43m(\u001b[49m\u001b[43mlas_name\u001b[49m\u001b[38;5;241;43m=\u001b[39;49m\u001b[38;5;124;43m'\u001b[39;49m\u001b[38;5;124;43mLerner\u001b[39;49m\u001b[38;5;124;43m'\u001b[39;49m\u001b[43m,\u001b[49m\u001b[43m \u001b[49m\u001b[43mfirsttt_name\u001b[49m\u001b[38;5;241;43m=\u001b[39;49m\u001b[38;5;124;43m'\u001b[39;49m\u001b[38;5;124;43mReuven\u001b[39;49m\u001b[38;5;124;43m'\u001b[39;49m\u001b[43m)\u001b[49m\n",
      "\u001b[1;31mTypeError\u001b[0m: hello() got an unexpected keyword argument 'las_name'"
     ]
    }
   ],
   "source": [
    "hello(las_name='Lerner', firsttt_name='Reuven')"
   ]
  },
  {
   "cell_type": "markdown",
   "id": "80645c58-48fb-4864-a695-6a28798f96de",
   "metadata": {},
   "source": [
    "# Exercise: mysum\n",
    "\n",
    "Python comes with a function called `sum`, which takes a list of numbers and returns the sum of those numbers.\n",
    "\n",
    "Write a function, `mysum`, that does the same thing -- it takes a list of numbers and returns their sum. \n",
    "\n",
    "- The function takes one argument, a list of numbers\n",
    "- The function returns one value, a number (integer or float) -- the same of the input list\n",
    "\n",
    "Don't use `sum` to implement your function.\n",
    "\n",
    "Example:\n",
    "\n",
    "    mysum([10, 20, 30])   # should return 60"
   ]
  },
  {
   "cell_type": "code",
   "execution_count": 36,
   "id": "250a4ceb-1051-49ab-b123-7c92d0385f87",
   "metadata": {},
   "outputs": [],
   "source": [
    "def mysum(numbers):\n",
    "    total = 0\n",
    "\n",
    "    for one_number in numbers:\n",
    "        total += one_number\n",
    "\n",
    "    return total"
   ]
  },
  {
   "cell_type": "code",
   "execution_count": 37,
   "id": "0488cf5b-85f0-4204-9936-778528bc30d2",
   "metadata": {},
   "outputs": [
    {
     "data": {
      "text/plain": [
       "150"
      ]
     },
     "execution_count": 37,
     "metadata": {},
     "output_type": "execute_result"
    }
   ],
   "source": [
    "mysum([10, 20, 30, 40, 50])"
   ]
  },
  {
   "cell_type": "code",
   "execution_count": 38,
   "id": "92f08510-023e-4bff-8a87-36a9e15d45b5",
   "metadata": {},
   "outputs": [
    {
     "data": {
      "text/plain": [
       "15"
      ]
     },
     "execution_count": 38,
     "metadata": {},
     "output_type": "execute_result"
    }
   ],
   "source": [
    "mysum([1,2,3,4,5])"
   ]
  },
  {
   "cell_type": "code",
   "execution_count": 39,
   "id": "a9fa2337-1c55-4c4a-ad57-26b9d7e81ef8",
   "metadata": {},
   "outputs": [
    {
     "ename": "TypeError",
     "evalue": "mysum() missing 1 required positional argument: 'numbers'",
     "output_type": "error",
     "traceback": [
      "\u001b[1;31m---------------------------------------------------------------------------\u001b[0m",
      "\u001b[1;31mTypeError\u001b[0m                                 Traceback (most recent call last)",
      "Cell \u001b[1;32mIn[39], line 1\u001b[0m\n\u001b[1;32m----> 1\u001b[0m \u001b[43mmysum\u001b[49m\u001b[43m(\u001b[49m\u001b[43m)\u001b[49m  \u001b[38;5;66;03m# no arguments? No way...\u001b[39;00m\n",
      "\u001b[1;31mTypeError\u001b[0m: mysum() missing 1 required positional argument: 'numbers'"
     ]
    }
   ],
   "source": [
    "mysum()  # no arguments? No way..."
   ]
  },
  {
   "cell_type": "code",
   "execution_count": 40,
   "id": "837fb917-7258-4f69-aab4-d57357edbbe2",
   "metadata": {},
   "outputs": [
    {
     "ename": "TypeError",
     "evalue": "mysum() takes 1 positional argument but 5 were given",
     "output_type": "error",
     "traceback": [
      "\u001b[1;31m---------------------------------------------------------------------------\u001b[0m",
      "\u001b[1;31mTypeError\u001b[0m                                 Traceback (most recent call last)",
      "Cell \u001b[1;32mIn[40], line 1\u001b[0m\n\u001b[1;32m----> 1\u001b[0m \u001b[43mmysum\u001b[49m\u001b[43m(\u001b[49m\u001b[38;5;241;43m10\u001b[39;49m\u001b[43m,\u001b[49m\u001b[43m \u001b[49m\u001b[38;5;241;43m20\u001b[39;49m\u001b[43m,\u001b[49m\u001b[43m \u001b[49m\u001b[38;5;241;43m30\u001b[39;49m\u001b[43m,\u001b[49m\u001b[43m \u001b[49m\u001b[38;5;241;43m40\u001b[39;49m\u001b[43m,\u001b[49m\u001b[43m \u001b[49m\u001b[38;5;241;43m50\u001b[39;49m\u001b[43m)\u001b[49m  \u001b[38;5;66;03m# here, I'm passing 5 integers *not* one list\u001b[39;00m\n",
      "\u001b[1;31mTypeError\u001b[0m: mysum() takes 1 positional argument but 5 were given"
     ]
    }
   ],
   "source": [
    "mysum(10, 20, 30, 40, 50)  # here, I'm passing 5 integers *not* one list"
   ]
  },
  {
   "cell_type": "code",
   "execution_count": 42,
   "id": "528442ce-957d-4f3e-b8e2-5bab9686743c",
   "metadata": {},
   "outputs": [
    {
     "data": {
      "text/plain": [
       "20"
      ]
     },
     "execution_count": 42,
     "metadata": {},
     "output_type": "execute_result"
    }
   ],
   "source": [
    "# parameter:  numbers\n",
    "# argument:   [2,4,6,8]\n",
    "\n",
    "mysum(numbers=[2,4,6,8])"
   ]
  },
  {
   "cell_type": "code",
   "execution_count": 43,
   "id": "481c552a-a1ae-4be7-b307-88851fdf3218",
   "metadata": {},
   "outputs": [],
   "source": [
    "def hello(name):\n",
    "    return f'Hello, {name}!'"
   ]
  },
  {
   "cell_type": "code",
   "execution_count": 44,
   "id": "992f0c71-5332-4f5c-8b9f-084a0eab79e6",
   "metadata": {},
   "outputs": [
    {
     "data": {
      "text/plain": [
       "'Hello, world!'"
      ]
     },
     "execution_count": 44,
     "metadata": {},
     "output_type": "execute_result"
    }
   ],
   "source": [
    "# we've seen that I can call this function with a string\n",
    "hello('world')"
   ]
  },
  {
   "cell_type": "code",
   "execution_count": 45,
   "id": "70bddb15-82ad-423a-8f39-0f651b5e82bb",
   "metadata": {},
   "outputs": [
    {
     "data": {
      "text/plain": [
       "'Hello, 5!'"
      ]
     },
     "execution_count": 45,
     "metadata": {},
     "output_type": "execute_result"
    }
   ],
   "source": [
    "# what happens if I call this function with an integer?\n",
    "hello(5)"
   ]
  },
  {
   "cell_type": "code",
   "execution_count": 46,
   "id": "9606e8e1-86fe-4701-91fd-9b1fe7f7825b",
   "metadata": {},
   "outputs": [
    {
     "data": {
      "text/plain": [
       "'Hello, [10, 20, 30]!'"
      ]
     },
     "execution_count": 46,
     "metadata": {},
     "output_type": "execute_result"
    }
   ],
   "source": [
    "hello([10, 20, 30])"
   ]
  },
  {
   "cell_type": "code",
   "execution_count": 47,
   "id": "de4ed5b1-2834-4868-9d22-31e2fa730b92",
   "metadata": {},
   "outputs": [
    {
     "data": {
      "text/plain": [
       "'Hello, <function hello at 0x11084e840>!'"
      ]
     },
     "execution_count": 47,
     "metadata": {},
     "output_type": "execute_result"
    }
   ],
   "source": [
    "hello(hello)   # yes, I can pass a function to itself as an argument!"
   ]
  },
  {
   "cell_type": "markdown",
   "id": "8a22dedf-4b6d-484d-9464-38118f5878d7",
   "metadata": {},
   "source": [
    "# What madness is this?\n",
    "\n",
    "Python is a dynamic language: Variables don't have types, but values do. Any variable can refer to any value. No declarations are possible, or even desireable.\n",
    "\n",
    "People who come from static languages (e.g., C, C++, Java, C#) think that this is totally LOONY. They cannot believe that anyone would take Python seriously. Someone, someday, will invoke the wrong function with the wrong argument type, and things will come crashing down.\n",
    "\n",
    "Over the years, this has led to many *many* arguments.\n",
    "\n"
   ]
  }
 ],
 "metadata": {
  "kernelspec": {
   "display_name": "Python 3 (ipykernel)",
   "language": "python",
   "name": "python3"
  },
  "language_info": {
   "codemirror_mode": {
    "name": "ipython",
    "version": 3
   },
   "file_extension": ".py",
   "mimetype": "text/x-python",
   "name": "python",
   "nbconvert_exporter": "python",
   "pygments_lexer": "ipython3",
   "version": "3.11.4"
  }
 },
 "nbformat": 4,
 "nbformat_minor": 5
}
