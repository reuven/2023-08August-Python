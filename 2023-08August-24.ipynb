{
 "cells": [
  {
   "cell_type": "markdown",
   "id": "17635665-f35c-4f89-a626-50d566f2135f",
   "metadata": {},
   "source": [
    "# Day 4: Functions\n",
    "\n",
    "1. What are functions? Do we even need functions?\n",
    "2. Writing some simple functions\n",
    "3. Return values\n",
    "4. Arguments and parameters\n",
    "5. Default argument values\n",
    "6. Complex return values\n",
    "7. Local vs. global variables"
   ]
  },
  {
   "cell_type": "markdown",
   "id": "819a47d1-64d6-4825-b828-f11330f88c65",
   "metadata": {},
   "source": [
    "# What are functions? Do we need them?\n",
    "\n",
    "Abstraction: The idea that you can brush aside, or ignore, the lower-level details of something and then concentrate on the higher-level ideas.\n",
    "\n",
    "Just as your car contains hundreds or thousands of parts and processes, but you only pay attention to a small number of them when you are driving, your software will typicaly contain hundreds or thousands or millions of parts and processes. You cannot possibly concentrate on one part of the software if you're trying to pay attention to all of those underlying parts.\n",
    "\n",
    "Abstraction allows us to sweep up all of that detail under a single word/name. That allows us to concentrate on the things that are really important to us.  Moreover, if you can abstract away the details under a single name, then you can communicate about those details very quickly and efficiently.\n",
    "\n",
    "Functions are a way for us to define a new verb in Python. We cannot do anything new -- anything we could have done with a function, we could also have done without a function. However, by using a function, we are able to wrap up a bunch of functionality into a single term, which allows us to communicate with others on our team, and with ourselves, more efficiently and easily.\n",
    "\n",
    "In addition to the abstraction stuff (which is super important), there's another idea in programming that functions help us with. That is DRY  -- don't repeat yourself! \n",
    "\n",
    "We've already seen (and said) that if you have several lines in a row of code that are basically the same, you should wrap those up into a loop. That helps your code be DRY.\n",
    "\n",
    "If you have the same code in multiple places, instead of repeating yourself, you can define a function and then call the function in all of those places. This reduces the cognitive load, because you don't have to think about all of those details and all of those lines of code in each place. Moreover, it means that if/when you change, improve, or debug your code, you only have to do it in a single place."
   ]
  },
  {
   "cell_type": "markdown",
   "id": "8cb7fdc9-ec75-4b12-902a-ce9804a392bf",
   "metadata": {},
   "source": [
    "# How do we define a function in Python?\n",
    "\n",
    "1. We use the reserved word `def` (short for \"define\")\n",
    "2. After `def`, we put the name of the function that we want to define. Rules for functions are the same as for variables, as are the conventions -- all lowercase, underscores between words, starting with a letter, after that you can have digits and underscores.\n",
    "3. After the name of the function, we have `()` (empty for now, that is) and a `:` at the end of the line\n",
    "4. Then we have an indented block -- the body of the function\n",
    "    - The function can be as long or short as you want -- but try to keep function bodies short. If your function is > 20 lines long, then you're probably doing something wrong. You should break it up into multiple functions.\n",
    "    - In the function body, you can put ANY CODE YOU WANT: `if`, `input`, reading from a file, reading from the network, calculations, writing to a file, `for` loops, `while` loops..."
   ]
  },
  {
   "cell_type": "code",
   "execution_count": 1,
   "id": "0ab1e493-86da-416a-9d82-22d63234fa9a",
   "metadata": {},
   "outputs": [],
   "source": [
    "def myfunc():\n",
    "    print('Hello!')"
   ]
  },
  {
   "cell_type": "markdown",
   "id": "df7f16e4-9bdf-4724-ba06-cbf9cd36bca7",
   "metadata": {},
   "source": [
    "I just defined a new function, `myfunc`!  I have taught Python a new verb that it can now use whenever it wants.\n",
    "\n",
    "To run this function, we simply have to say\n",
    "\n",
    "    myfunc()\n",
    "\n",
    "Don't forget the parentheses -- they tell Python that we want to execute the function. Without `()`, the function will never execute, and we'll get the \"function object,\" basically the plans to execute it, but without the actual execution."
   ]
  },
  {
   "cell_type": "code",
   "execution_count": 2,
   "id": "8ebe30c9-140c-42f4-a5ac-59ce646a9498",
   "metadata": {},
   "outputs": [
    {
     "name": "stdout",
     "output_type": "stream",
     "text": [
      "Hello!\n"
     ]
    }
   ],
   "source": [
    "myfunc()"
   ]
  },
  {
   "cell_type": "markdown",
   "id": "371ba075-dc42-43c8-a0dc-b2ee44b7fab8",
   "metadata": {},
   "source": [
    "# What did I do when I defined my function?\n",
    "\n",
    "When we define a function in Python, we're really doing two different things:\n",
    "\n",
    "1. Creating a function object -- a special data structure that knows how to execute the contents of your function. This function object is anonymous.\n",
    "2. Assign that function object to a variable.\n",
    "\n",
    "What does it mean, then, to define a function? It means that a variable has a function object in it, which we can execute with `()`.\n",
    "\n",
    "I'm telling you this for two reasons:\n",
    "\n",
    "1. Over time, thinking this way will help you to think about Python  functions, and some of the weird things that can happen as a result of how they're defined.\n",
    "2. Functions and variables are in the *same namespace*. In many programming languages, you can have both a function `x` and a variable `x` at the same time, and the language keeps track of the difference. In Python, this isn't possible. Either `x` is a value or `x` is a function. But it can't be both simultaneously.\n",
    "\n",
    "When you define a function, if there already a variable with that name defined... that variable is gone, and has been replaced by a reference to our function.\n",
    "\n",
    "Similarly, if you define a function, and then assign a value to that same name, now you have the value, but not the function."
   ]
  },
  {
   "cell_type": "markdown",
   "id": "7e759941-194f-4f88-8213-030af95dd925",
   "metadata": {},
   "source": [
    "# Exercise: Simple calculator\n",
    "\n",
    "1. Define a function called `calc`. This function will ask the user to enter a number, a string (an operator), and another number. It'll then print the full math expression, including the solution, on the screen.\n",
    "2. When the function is called, ask the user three questions (first number, operator, second number), and assign them to variables.\n",
    "3. If the operator is either `+` or `-`, then calculate a result and print the input values and the output value on the screen.\n",
    "4. If the operator is something else, then give the user an error message of sorts.\n",
    "\n",
    "Examples:\n",
    "\n",
    "    calc()\n",
    "    Enter first number: 10\n",
    "    Enter operator: +\n",
    "    Enter second number: 15\n",
    "    10 + 15 = 25\n",
    "\n",
    "    calc()\n",
    "    Enter first number: 10\n",
    "    Enter operator: *\n",
    "    Enter second number: 15\n",
    "    10 + 15 = illegal operator *"
   ]
  },
  {
   "cell_type": "code",
   "execution_count": 3,
   "id": "13cc88cb-e48d-4b5a-ba1e-7925e0cde893",
   "metadata": {},
   "outputs": [],
   "source": [
    "def calc():\n",
    "    n1 = input('Enter first number: ').strip()\n",
    "    op = input('Enter operator: ').strip()\n",
    "    n2 = input('Enter second number: ').strip()\n",
    "\n",
    "    n1 = int(n1)\n",
    "    n2 = int(n2)\n",
    "\n",
    "    if op == '+':\n",
    "        result = n1 + n2\n",
    "    elif op == '-':\n",
    "        result = n1 - n2\n",
    "    else:\n",
    "        result = f'Illegal operator {op}'\n",
    "\n",
    "    print(f'{n1} {op} {n2} = {result}')"
   ]
  },
  {
   "cell_type": "code",
   "execution_count": 4,
   "id": "43548143-e367-4801-995c-b80afde55633",
   "metadata": {},
   "outputs": [
    {
     "name": "stdin",
     "output_type": "stream",
     "text": [
      "Enter first number:  10\n",
      "Enter operator:  +\n",
      "Enter second number:  15\n"
     ]
    },
    {
     "name": "stdout",
     "output_type": "stream",
     "text": [
      "10 + 15 = 25\n"
     ]
    }
   ],
   "source": [
    "calc()"
   ]
  },
  {
   "cell_type": "code",
   "execution_count": 5,
   "id": "c6b38714-4a8c-4818-b7ea-84810933dadf",
   "metadata": {},
   "outputs": [
    {
     "name": "stdin",
     "output_type": "stream",
     "text": [
      "Enter first number:  10\n",
      "Enter operator:  *\n",
      "Enter second number:  15\n"
     ]
    },
    {
     "name": "stdout",
     "output_type": "stream",
     "text": [
      "10 * 15 = Illegal operator *\n"
     ]
    }
   ],
   "source": [
    "calc()"
   ]
  },
  {
   "cell_type": "code",
   "execution_count": 8,
   "id": "d4a135b0-1ef6-40f9-89d0-c2b826d9c283",
   "metadata": {},
   "outputs": [],
   "source": [
    "def calc():\n",
    "    print('2 + 2 = 4')"
   ]
  },
  {
   "cell_type": "code",
   "execution_count": 9,
   "id": "f32deb58-8bab-44f1-a15a-8532f80d824b",
   "metadata": {},
   "outputs": [
    {
     "name": "stdout",
     "output_type": "stream",
     "text": [
      "2 + 2 = 4\n"
     ]
    }
   ],
   "source": [
    "calc()"
   ]
  },
  {
   "cell_type": "code",
   "execution_count": 10,
   "id": "4d29ec30-c6fd-451f-9f74-f1400ed11bb1",
   "metadata": {},
   "outputs": [],
   "source": [
    "def calc():\n",
    "    n1 = input('Enter first number: ').strip()\n",
    "    op = input('Enter operator: ').strip()\n",
    "    n2 = input('Enter second number: ').strip()\n",
    "\n",
    "    n1 = int(n1)\n",
    "    n2 = int(n2)\n",
    "\n",
    "    if op == '+':\n",
    "        result = n1 + n2\n",
    "    elif op == '-':\n",
    "        result = n1 - n2\n",
    "    else:\n",
    "        result = f'Illegal operator {op}'\n",
    "\n",
    "    print(f'{n1} {op} {n2} = {result}')"
   ]
  },
  {
   "cell_type": "markdown",
   "id": "357931d4-bbae-4962-a740-1921cf8614df",
   "metadata": {},
   "source": [
    "# Printing vs. returning in functions\n",
    "\n",
    "We've seen that if we call a function, we get a value returned back to us:\n",
    "\n",
    "    x = len('abcd')\n",
    "\n",
    "When I say that we \"get a value returned,\" that basically means that we can put the function call on the right side of assignment, and whatever the function returned will be assigned to the variable.\n",
    "\n",
    "What does our function return? \n",
    "\n",
    "If you say that it returns the text \"2 + 2 = 4\" or \"Illegal operator *\", then ... sorry, but wrong. That is not returning a value. That is displaying a value on the screen.\n",
    "\n",
    "A function can print whatever it wants on the screen. It can call `print` as often or as rarely as it wants.  You can print lots of different things within a function.\n",
    "\n",
    "A function can only return *ONE* value each time it is called. It might return a different value each time. It might even return a different type of value each time. But when a function returns, it returns a value. That value can be assigned to a variable (as we've seen) or it can be printed, if we want.\n",
    "\n",
    "Which means: If want to give the caller of our function more flexibility, we'll always return values, and we'll never print them. If we print, then the caller has no choice. But if we return a value, then the caller can decide whether to print or do something else.\n",
    "\n",
    "So... how do I return a value in a Python function?\n",
    "\n",
    "Answer: Use the `return` statement. Whatever value comes after `return` is returned to the caller."
   ]
  },
  {
   "cell_type": "code",
   "execution_count": 11,
   "id": "a243f6dd-b341-4fad-a4ba-54742b87138b",
   "metadata": {},
   "outputs": [],
   "source": [
    "def hello():\n",
    "    return f'Hello out there!'"
   ]
  },
  {
   "cell_type": "code",
   "execution_count": 12,
   "id": "447fd7ec-5069-4e03-a307-18dd1908d9e3",
   "metadata": {},
   "outputs": [
    {
     "name": "stdout",
     "output_type": "stream",
     "text": [
      "Hello out there\n"
     ]
    }
   ],
   "source": [
    "print('Hello out there')\n"
   ]
  },
  {
   "cell_type": "code",
   "execution_count": 13,
   "id": "01583f16-f700-4071-bf03-e88e08c6ab57",
   "metadata": {},
   "outputs": [
    {
     "data": {
      "text/plain": [
       "'Hello out there!'"
      ]
     },
     "execution_count": 13,
     "metadata": {},
     "output_type": "execute_result"
    }
   ],
   "source": [
    "hello()"
   ]
  },
  {
   "cell_type": "code",
   "execution_count": 14,
   "id": "bf3df94f-658f-43e3-80b4-d8d33f0b9029",
   "metadata": {},
   "outputs": [
    {
     "name": "stdout",
     "output_type": "stream",
     "text": [
      "Hello out there!\n"
     ]
    }
   ],
   "source": [
    "# get the value back from hello, and then print it\n",
    "print(hello())"
   ]
  },
  {
   "cell_type": "markdown",
   "id": "ccac1a9b-3743-42e0-aed3-4d56eb5eb871",
   "metadata": {},
   "source": [
    "# How/what can you return from a function?\n",
    "\n",
    "In the function, we can say\n",
    "\n",
    "    return\n",
    "\n",
    "This is the simplest and worst way to do it; the caller gets back the value `None`, which basically means, \"Nothing to see here.\"\n",
    "\n",
    "We can also return a data structure. We can return **ANY VALUE AT ALL IN PYTHON**! It's OK to return an integer, float, string, list, tuple, dict, file, ... even another function.  Say:\n",
    "\n",
    "    return mydata"
   ]
  },
  {
   "cell_type": "markdown",
   "id": "dc55b216-7a3b-49be-a71f-c1bf2ac7a792",
   "metadata": {},
   "source": [
    "# Exercise: Redo our calculator\n",
    "\n",
    "We're going to rewrite the `calc` function such that it doesn't print a result, but rather returns the string that would have been printed:\n",
    "\n",
    "- Implement `calc` if you haven't already (i.e., it's totally OK to copy mine)\n",
    "- Modify `calc` such that it no longer prints things, but returns those strings\n",
    "- Have someone call `calc`, and then print whatever it returns\n",
    "\n",
    "I should be able to write:\n",
    "\n",
    "    print(calc())"
   ]
  },
  {
   "cell_type": "code",
   "execution_count": 15,
   "id": "14547e0d-22d1-47c3-bf06-3bbbaa6a6fbc",
   "metadata": {},
   "outputs": [],
   "source": [
    "def calc():\n",
    "    n1 = input('Enter first number: ').strip()\n",
    "    op = input('Enter operator: ').strip()\n",
    "    n2 = input('Enter second number: ').strip()\n",
    "\n",
    "    n1 = int(n1)\n",
    "    n2 = int(n2)\n",
    "\n",
    "    if op == '+':\n",
    "        result = n1 + n2\n",
    "    elif op == '-':\n",
    "        result = n1 - n2\n",
    "    else:\n",
    "        result = f'Illegal operator {op}'\n",
    "\n",
    "    return f'{n1} {op} {n2} = {result}'   # return isn't a function -- no (), but they don't hurt"
   ]
  },
  {
   "cell_type": "code",
   "execution_count": 16,
   "id": "0a43197d-46bc-4614-929b-d3db37a1253b",
   "metadata": {},
   "outputs": [
    {
     "name": "stdin",
     "output_type": "stream",
     "text": [
      "Enter first number:  10\n",
      "Enter operator:  +\n",
      "Enter second number:  3\n"
     ]
    },
    {
     "data": {
      "text/plain": [
       "'10 + 3 = 13'"
      ]
     },
     "execution_count": 16,
     "metadata": {},
     "output_type": "execute_result"
    }
   ],
   "source": [
    "calc()"
   ]
  },
  {
   "cell_type": "code",
   "execution_count": 17,
   "id": "555859ea-cb13-432f-ba7b-b8d26b0645cd",
   "metadata": {},
   "outputs": [
    {
     "name": "stdin",
     "output_type": "stream",
     "text": [
      "Enter first number:  10\n",
      "Enter operator:  +\n",
      "Enter second number:  3\n"
     ]
    }
   ],
   "source": [
    "x = calc()"
   ]
  },
  {
   "cell_type": "code",
   "execution_count": 18,
   "id": "3005e0e2-8651-49f3-b51d-73e3f5b1f479",
   "metadata": {},
   "outputs": [
    {
     "name": "stdout",
     "output_type": "stream",
     "text": [
      "10 + 3 = 13\n"
     ]
    }
   ],
   "source": [
    "print(x)"
   ]
  },
  {
   "cell_type": "markdown",
   "id": "815d088f-93d0-4fc9-83cf-291552ffaab6",
   "metadata": {},
   "source": [
    "# Next up\n",
    "\n",
    "- Arguments and parameters\n",
    "- Default argument values\n",
    "\n"
   ]
  },
  {
   "cell_type": "code",
   "execution_count": 19,
   "id": "1bd076a5-2e5f-4934-9def-7ce90b30726c",
   "metadata": {},
   "outputs": [],
   "source": [
    "def hello():\n",
    "    name = input('Enter your name: ').strip()\n",
    "\n",
    "    return f'Hello, {name}!'"
   ]
  },
  {
   "cell_type": "code",
   "execution_count": 20,
   "id": "4ddbb6a2-2fb7-47af-9ca2-d8a4761a5b77",
   "metadata": {},
   "outputs": [
    {
     "name": "stdin",
     "output_type": "stream",
     "text": [
      "Enter your name:  Reuven\n"
     ]
    },
    {
     "data": {
      "text/plain": [
       "'Hello, Reuven!'"
      ]
     },
     "execution_count": 20,
     "metadata": {},
     "output_type": "execute_result"
    }
   ],
   "source": [
    "hello()"
   ]
  },
  {
   "cell_type": "code",
   "execution_count": 21,
   "id": "4105ae32-6668-437f-83f3-e782ccc88d7b",
   "metadata": {},
   "outputs": [
    {
     "name": "stdin",
     "output_type": "stream",
     "text": [
      "Enter your name:  Reuven\n"
     ]
    }
   ],
   "source": [
    "greeting = hello()"
   ]
  },
  {
   "cell_type": "code",
   "execution_count": 22,
   "id": "ef3c8a9e-2dc6-463a-ad90-372bb420f071",
   "metadata": {},
   "outputs": [
    {
     "name": "stdout",
     "output_type": "stream",
     "text": [
      "Hello, Reuven!\n"
     ]
    }
   ],
   "source": [
    "print(greeting)"
   ]
  },
  {
   "cell_type": "markdown",
   "id": "f9049c76-0c36-4789-8d90-02157aadbd04",
   "metadata": {},
   "source": [
    "Wouldn't it make more sense for our function to acce"
   ]
  }
 ],
 "metadata": {
  "kernelspec": {
   "display_name": "Python 3 (ipykernel)",
   "language": "python",
   "name": "python3"
  },
  "language_info": {
   "codemirror_mode": {
    "name": "ipython",
    "version": 3
   },
   "file_extension": ".py",
   "mimetype": "text/x-python",
   "name": "python",
   "nbconvert_exporter": "python",
   "pygments_lexer": "ipython3",
   "version": "3.11.4"
  }
 },
 "nbformat": 4,
 "nbformat_minor": 5
}
