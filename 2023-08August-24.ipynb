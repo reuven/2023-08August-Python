{
 "cells": [
  {
   "cell_type": "markdown",
   "id": "17635665-f35c-4f89-a626-50d566f2135f",
   "metadata": {},
   "source": [
    "# Day 4: Functions\n",
    "\n",
    "1. What are functions? Do we even need functions?\n",
    "2. Writing some simple functions\n",
    "3. Return values\n",
    "4. Complex return values\n",
    "5. Arguments and parameters\n",
    "6. Default argument values\n",
    "7. Local vs. global variables"
   ]
  },
  {
   "cell_type": "code",
   "execution_count": null,
   "id": "bb6cbc0f-4d8a-41ad-9686-e4ee12ac5657",
   "metadata": {},
   "outputs": [],
   "source": []
  }
 ],
 "metadata": {
  "kernelspec": {
   "display_name": "Python 3 (ipykernel)",
   "language": "python",
   "name": "python3"
  },
  "language_info": {
   "codemirror_mode": {
    "name": "ipython",
    "version": 3
   },
   "file_extension": ".py",
   "mimetype": "text/x-python",
   "name": "python",
   "nbconvert_exporter": "python",
   "pygments_lexer": "ipython3",
   "version": "3.11.4"
  }
 },
 "nbformat": 4,
 "nbformat_minor": 5
}
