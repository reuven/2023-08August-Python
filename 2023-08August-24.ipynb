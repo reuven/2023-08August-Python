{
 "cells": [
  {
   "cell_type": "markdown",
   "id": "17635665-f35c-4f89-a626-50d566f2135f",
   "metadata": {},
   "source": [
    "# Day 4: Functions\n",
    "\n",
    "1. What are functions? Do we even need functions?\n",
    "2. Writing some simple functions\n",
    "3. Return values\n",
    "4. Complex return values\n",
    "5. Arguments and parameters\n",
    "6. Default argument values\n",
    "7. Local vs. global variables"
   ]
  },
  {
   "cell_type": "markdown",
   "id": "819a47d1-64d6-4825-b828-f11330f88c65",
   "metadata": {},
   "source": [
    "# What are functions? Do we need them?\n",
    "\n",
    "Abstraction: The idea that you can brush aside, or ignore, the lower-level details of something and then concentrate on the higher-level ideas.\n",
    "\n",
    "Just as your car contains hundreds or thousands of parts and processes, but you only pay attention to a small number of them when you are driving, your software will typicaly contain hundreds or thousands or millions of parts and processes. You cannot possibly concentrate on one part of the software if you're trying to pay attention to all of those underlying parts.\n",
    "\n",
    "Abstraction allows us to sweep up all of that detail under a single word/name. That allows us to concentrate on the things that are really important to us.  Moreover, if you can abstract away the details under a single name, then you can communicate about those details very quickly and efficiently.\n",
    "\n"
   ]
  }
 ],
 "metadata": {
  "kernelspec": {
   "display_name": "Python 3 (ipykernel)",
   "language": "python",
   "name": "python3"
  },
  "language_info": {
   "codemirror_mode": {
    "name": "ipython",
    "version": 3
   },
   "file_extension": ".py",
   "mimetype": "text/x-python",
   "name": "python",
   "nbconvert_exporter": "python",
   "pygments_lexer": "ipython3",
   "version": "3.11.4"
  }
 },
 "nbformat": 4,
 "nbformat_minor": 5
}
