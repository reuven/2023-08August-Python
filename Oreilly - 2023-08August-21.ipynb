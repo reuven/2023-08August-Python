{
 "cells": [
  {
   "cell_type": "markdown",
   "metadata": {},
   "source": [
    "# Agenda: Five days of Python\n",
    "\n",
    "1. Fundamentals -- basics, numbers, and strings\n",
    "2. Loops, lists, and tuples\n",
    "3. Dictionaries and files\n",
    "4. Functions\n",
    "5. Modules and packages\n",
    "\n",
    "Today, in particular:\n",
    "- What is a programming language?  (What is Python?)\n",
    "- Values and variables\n",
    "- Printing output and getting input from the user\n",
    "- Assignment\n",
    "- Comparisons\n",
    "- `if` -- making decisions\n",
    "- `and`/`or`/`not`\n",
    "- Numbers -- integers and floats\n",
    "- Strings (text)\n",
    "    - Creating strings\n",
    "    - Retrieving from strings\n",
    "    - String methods"
   ]
  },
  {
   "cell_type": "markdown",
   "metadata": {},
   "source": [
    "# What is a programming language?\n",
    "\n",
    "There are tons of programming languages out there. The goal is generally to let you write instructions in something that's closer to how humans work/speak, and then have that program translated into a version that the computer can understand. Every language is a different set of tradeoffs between speed, readability, compatiblity, etc.\n",
    "\n",
    "- C -- very very fast to execute... very very annoying to write\n",
    "- C++ -- very fast to execute, and also includes \"objects\" for thinking/designing at a higher level... even more annoying to write than C\n",
    "- bash -- easy to write, but slow to execute and limited in what it can do\n",
    "- VBA -- relatively easy to write, but hard to maintain, and slow, and limited because it's inside of an app\n",
    "- Python -- easy to learn, easy to write, easy to maintain... and yes, it's relatively slow to execute\n",
    "\n",
    "Python is perfect for an age in which computers are cheap and people are expensive.  The main advantage of Python is that it's easy to learn and easy to maintain.\n",
    "\n",
    "Python has low floors and high ceilings -- it's easy to get started. But it's not a toy language. It can do all sorts of things, and you will learn, over time, to do some of them."
   ]
  },
  {
   "cell_type": "markdown",
   "metadata": {},
   "source": [
    "# Quick Jupyter tour\n",
    "\n",
    "When I'm typing into Jupyter, I'm typing into a \"cell.\" I'm currently in \"edit mode,\" meaning that anything I type will be put into the cell.  There are two basic modes in Jupyter:\n",
    "\n",
    "- Edit mode. Enter edit mode by clicking inside of a cell or pressing ENTER. You can tell that you're in edit mode because of the outline around the cell and the cell is a non-dimmed color.\n",
    "- Command mode. Enter command mode by clicking to the left of the cell or pressing ESC. When you're in command mode, anything you type is handed to Jupyter, to the environment, as a command.\n",
    "\n",
    "Some commands you can use in command mode:\n",
    "\n",
    "- `c` -- copy the current cell\n",
    "- `x` -- cut the current cell\n",
    "- `v` -- paste the most recently cut/copied cell\n",
    "- `a` -- create a new cell above the current one\n",
    "- `b` -- create a new cell below the current one\n",
    "- `shift+ENTER` -- execute the current cell -- if it's code, run it; if it's Markdown, then format it\n",
    "- `m` -- turns the cell into Markdown mode for text\n",
    "- `y` -- turns the cell into Python coding mode"
   ]
  },
  {
   "cell_type": "code",
   "execution_count": 1,
   "metadata": {},
   "outputs": [
    {
     "name": "stdout",
     "output_type": "stream",
     "text": [
      "Hello!\n"
     ]
    }
   ],
   "source": [
    "# this is a comment. Python ignores anything starting with the # until the end of the line\n",
    "# I can write as many comments as I want.\n",
    "# typically, comments are used to give information to the next programmer who will work on this project.\n",
    "\n",
    "# print is a function, it's a verb -- it does something -- and that something is display things on the screen\n",
    "# print can display *anything* in Python\n",
    "\n",
    "# after we say \"print\", we then use round parentheses around whatever we want to display\n",
    "# if we want to display text, we need to use quotes around it, either '' or \"\" .\n",
    "print('Hello!')   "
   ]
  },
  {
   "cell_type": "code",
   "execution_count": 2,
   "metadata": {},
   "outputs": [
    {
     "name": "stdout",
     "output_type": "stream",
     "text": [
      "7\n"
     ]
    }
   ],
   "source": [
    "print(2 + 5)"
   ]
  },
  {
   "cell_type": "markdown",
   "metadata": {},
   "source": [
    "# Mini-exercise: Print your name on the screen in Jupyter"
   ]
  },
  {
   "cell_type": "code",
   "execution_count": 3,
   "metadata": {},
   "outputs": [
    {
     "name": "stdout",
     "output_type": "stream",
     "text": [
      "Reuven\n"
     ]
    }
   ],
   "source": [
    "print('Reuven')"
   ]
  },
  {
   "cell_type": "code",
   "execution_count": 4,
   "metadata": {},
   "outputs": [
    {
     "ename": "NameError",
     "evalue": "name 'Reuven' is not defined",
     "output_type": "error",
     "traceback": [
      "\u001b[1;31m---------------------------------------------------------------------------\u001b[0m",
      "\u001b[1;31mNameError\u001b[0m                                 Traceback (most recent call last)",
      "Cell \u001b[1;32mIn[4], line 1\u001b[0m\n\u001b[1;32m----> 1\u001b[0m \u001b[38;5;28mprint\u001b[39m(\u001b[43mReuven\u001b[49m)   \u001b[38;5;66;03m# no quotes? Then Python will get confused\u001b[39;00m\n",
      "\u001b[1;31mNameError\u001b[0m: name 'Reuven' is not defined"
     ]
    }
   ],
   "source": [
    "print(Reuven)   # no quotes? Then Python will get confused"
   ]
  },
  {
   "cell_type": "code",
   "execution_count": 6,
   "metadata": {},
   "outputs": [
    {
     "ename": "SyntaxError",
     "evalue": "unterminated string literal (detected at line 1) (2318672479.py, line 1)",
     "output_type": "error",
     "traceback": [
      "\u001b[1;36m  Cell \u001b[1;32mIn[6], line 1\u001b[1;36m\u001b[0m\n\u001b[1;33m    print('Reuven)\u001b[0m\n\u001b[1;37m          ^\u001b[0m\n\u001b[1;31mSyntaxError\u001b[0m\u001b[1;31m:\u001b[0m unterminated string literal (detected at line 1)\n"
     ]
    }
   ],
   "source": [
    "print('Reuven)"
   ]
  },
  {
   "cell_type": "code",
   "execution_count": 7,
   "metadata": {},
   "outputs": [],
   "source": [
    "# what if I want to store my name (or someone else's name) for future use, or for reuse?\n",
    "# that is where variables come in.\n",
    "\n",
    "# if functions (like print) are verbs, then variables are pronouns referring to values.\n",
    "\n",
    "name = 'Reuven'"
   ]
  },
  {
   "cell_type": "markdown",
   "metadata": {},
   "source": [
    "# Assignment to variables\n",
    "\n",
    "We can assign a value (e.g., the string `'Reuven'`) to a variable using the `=` operator, aka the \"assignment operator.\" This is absolutely different from the `=` we use in mathematics. In math, `=` means that the two sides must be balanced, with the same value. This is not that -- here, what `=` means is: Take the value on the right, and assign it to the variable on the left.\n",
    "\n",
    "- If the variable `name` didn't exist before, now it does!\n",
    "- If the variable `name` *did* exist before, now it has a new value.\n",
    "\n",
    "Notice that we didn't have to *declare* the variable to Python. The moment that we told it that we wanted to assign to `name`, the variable was created.  \n",
    "\n",
    "Don't we need to tell Python what types of values will be assigned to the `name` variable? Nope! Python is what we call a \"dynamic language,\" where any variable can refer to any value.\n",
    "\n",
    "Once I have a value in a variable, I can use that variable instead of the value.\n",
    "\n",
    "## What variable names are acceptable?\n",
    "\n",
    "- Capital and lowercase letters are different.\n",
    "- Traditionally, we only use lowercase letters, numbers, and `_`\n",
    "- Variable names cannot start with numbers\n",
    "- Don't start your variable names with `_`, because that has special meaning to the language\n"
   ]
  },
  {
   "cell_type": "code",
   "execution_count": 8,
   "metadata": {},
   "outputs": [],
   "source": [
    "name = 'Reuven'"
   ]
  },
  {
   "cell_type": "code",
   "execution_count": 9,
   "metadata": {},
   "outputs": [],
   "source": [
    "first_name = 'Reuven'"
   ]
  },
  {
   "cell_type": "code",
   "execution_count": 10,
   "metadata": {},
   "outputs": [],
   "source": [
    "# this is OK, but your colleagues will hate you!\n",
    "first_name_of_the_instructor_for_this_course = 'Reuven'"
   ]
  },
  {
   "cell_type": "markdown",
   "metadata": {},
   "source": [
    "# Mini-exercise 2: Printing with a variable\n",
    "\n",
    "1. Assign your name to a variable.\n",
    "2. Print that variable (your name) on the screen."
   ]
  },
  {
   "cell_type": "code",
   "execution_count": 11,
   "metadata": {},
   "outputs": [
    {
     "name": "stdout",
     "output_type": "stream",
     "text": [
      "Reuven\n"
     ]
    }
   ],
   "source": [
    "name = 'Reuven'\n",
    "print(name)"
   ]
  },
  {
   "cell_type": "code",
   "execution_count": 12,
   "metadata": {},
   "outputs": [
    {
     "name": "stdout",
     "output_type": "stream",
     "text": [
      "5\n"
     ]
    }
   ],
   "source": [
    "print(2 + 3)"
   ]
  },
  {
   "cell_type": "code",
   "execution_count": 13,
   "metadata": {},
   "outputs": [
    {
     "name": "stdout",
     "output_type": "stream",
     "text": [
      "5\n"
     ]
    }
   ],
   "source": [
    "print(10 - 5)"
   ]
  },
  {
   "cell_type": "code",
   "execution_count": 14,
   "metadata": {},
   "outputs": [
    {
     "name": "stdout",
     "output_type": "stream",
     "text": [
      "17\n"
     ]
    }
   ],
   "source": [
    "x = 10\n",
    "y = 7\n",
    "\n",
    "print(x + y)   # first, we do what's inside the parentheses, and we get a result"
   ]
  },
  {
   "cell_type": "code",
   "execution_count": 15,
   "metadata": {},
   "outputs": [
    {
     "name": "stdout",
     "output_type": "stream",
     "text": [
      "abcdefgh\n"
     ]
    }
   ],
   "source": [
    "x = 'abcd'\n",
    "y = 'efgh'\n",
    "\n",
    "print(x + y)   # yes, you can use + on two text strings, and get a new one!"
   ]
  },
  {
   "cell_type": "code",
   "execution_count": 16,
   "metadata": {},
   "outputs": [
    {
     "ename": "TypeError",
     "evalue": "unsupported operand type(s) for +: 'int' and 'str'",
     "output_type": "error",
     "traceback": [
      "\u001b[1;31m---------------------------------------------------------------------------\u001b[0m",
      "\u001b[1;31mTypeError\u001b[0m                                 Traceback (most recent call last)",
      "Cell \u001b[1;32mIn[16], line 8\u001b[0m\n\u001b[0;32m      5\u001b[0m x \u001b[38;5;241m=\u001b[39m \u001b[38;5;241m10\u001b[39m\n\u001b[0;32m      6\u001b[0m y \u001b[38;5;241m=\u001b[39m \u001b[38;5;124m'\u001b[39m\u001b[38;5;124m20\u001b[39m\u001b[38;5;124m'\u001b[39m    \u001b[38;5;66;03m# this is not the number 20, it is a text string with the characters 2 0\u001b[39;00m\n\u001b[1;32m----> 8\u001b[0m \u001b[38;5;28mprint\u001b[39m(\u001b[43mx\u001b[49m\u001b[43m \u001b[49m\u001b[38;5;241;43m+\u001b[39;49m\u001b[43m \u001b[49m\u001b[43my\u001b[49m)\n",
      "\u001b[1;31mTypeError\u001b[0m: unsupported operand type(s) for +: 'int' and 'str'"
     ]
    }
   ],
   "source": [
    "# what happens if we try to mix different types?\n",
    "# at the end of the day, our computer is just lots of 1s and 0s\n",
    "# but for our purposes at a high level, we have different types of data -- each type can do different things\n",
    "\n",
    "x = 10\n",
    "y = '20'    # this is not the number 20, it is a text string with the characters 2 0\n",
    "\n",
    "print(x + y)"
   ]
  },
  {
   "cell_type": "markdown",
   "metadata": {},
   "source": [
    "# Mini-exercise: Calculator\n",
    "\n",
    "1. Assign two numbers to the variables `n1` and `n2`.\n",
    "2. Add those two numbers together, and assign the result to `result`.\n",
    "3. Print the value of `result`."
   ]
  },
  {
   "cell_type": "code",
   "execution_count": 17,
   "metadata": {},
   "outputs": [
    {
     "name": "stdout",
     "output_type": "stream",
     "text": [
      "579\n"
     ]
    }
   ],
   "source": [
    "n1 = 123\n",
    "n2 = 456\n",
    "\n",
    "result = n1 + n2\n",
    "\n",
    "print(result)"
   ]
  },
  {
   "cell_type": "code",
   "execution_count": 18,
   "metadata": {},
   "outputs": [
    {
     "ename": "TypeError",
     "evalue": "can only concatenate str (not \"int\") to str",
     "output_type": "error",
     "traceback": [
      "\u001b[1;31m---------------------------------------------------------------------------\u001b[0m",
      "\u001b[1;31mTypeError\u001b[0m                                 Traceback (most recent call last)",
      "Cell \u001b[1;32mIn[18], line 1\u001b[0m\n\u001b[1;32m----> 1\u001b[0m \u001b[38;5;28mprint\u001b[39m(\u001b[38;5;124;43m'\u001b[39;49m\u001b[38;5;124;43mThe result was \u001b[39;49m\u001b[38;5;124;43m'\u001b[39;49m\u001b[43m \u001b[49m\u001b[38;5;241;43m+\u001b[39;49m\u001b[43m \u001b[49m\u001b[43mresult\u001b[49m)\n",
      "\u001b[1;31mTypeError\u001b[0m: can only concatenate str (not \"int\") to str"
     ]
    }
   ],
   "source": [
    "print('The result was ' + result)"
   ]
  },
  {
   "cell_type": "markdown",
   "metadata": {},
   "source": [
    "# Mini-exercise: Nice greeting\n",
    "\n",
    "1. Assign your name to `name`\n",
    "2. Print a nice greeting (such as \"Hello, Reuven\") to the user / yourself."
   ]
  },
  {
   "cell_type": "code",
   "execution_count": 22,
   "metadata": {},
   "outputs": [
    {
     "name": "stdout",
     "output_type": "stream",
     "text": [
      "Hello, Reuven!\n"
     ]
    }
   ],
   "source": [
    "name = 'Reuven'\n",
    "print('Hello, ' + name + '!')"
   ]
  },
  {
   "cell_type": "markdown",
   "metadata": {},
   "source": [
    "# Next up\n",
    "\n",
    "1. Getting input from the user\n",
    "2. Comparing values"
   ]
  },
  {
   "cell_type": "code",
   "execution_count": 26,
   "metadata": {},
   "outputs": [
    {
     "name": "stdin",
     "output_type": "stream",
     "text": [
      "Enter your name:  None of your business!\n"
     ]
    }
   ],
   "source": [
    "# It's pretty boring for us to use the same values in our programs, again and again.\n",
    "# We want to get input from the user, and get a bit more variety.\n",
    "\n",
    "# The way we can do that is with the \"input\" function.\n",
    "# We call \"input\" and pass (in the parentheses) a text string indicating what our question is.\n",
    "# The \"input\" function, when it runs, stops the program, and waits for user input.\n",
    "# Then \"input\" returns the value of whatever the user entered ,as a text string.\n",
    "# It's very common to have \"input\" on the right of an assignment. IN other words:\n",
    "\n",
    "# assignment always means: get the value from the right side, and assign to the variable on the left side\n",
    "name = input('Enter your name: ')"
   ]
  },
  {
   "cell_type": "code",
   "execution_count": 27,
   "metadata": {},
   "outputs": [
    {
     "name": "stdout",
     "output_type": "stream",
     "text": [
      "None of your business!\n"
     ]
    }
   ],
   "source": [
    "print(name)"
   ]
  },
  {
   "cell_type": "code",
   "execution_count": 28,
   "metadata": {},
   "outputs": [
    {
     "name": "stdin",
     "output_type": "stream",
     "text": [
      "Enter your favorite number:  5\n"
     ]
    }
   ],
   "source": [
    "# input always returns a text string!\n",
    "# even if you only give it digits, it'll still return a text string\n",
    "\n",
    "n = input('Enter your favorite number: ')"
   ]
  },
  {
   "cell_type": "code",
   "execution_count": 29,
   "metadata": {},
   "outputs": [
    {
     "ename": "TypeError",
     "evalue": "can only concatenate str (not \"int\") to str",
     "output_type": "error",
     "traceback": [
      "\u001b[1;31m---------------------------------------------------------------------------\u001b[0m",
      "\u001b[1;31mTypeError\u001b[0m                                 Traceback (most recent call last)",
      "Cell \u001b[1;32mIn[29], line 1\u001b[0m\n\u001b[1;32m----> 1\u001b[0m \u001b[38;5;28mprint\u001b[39m(\u001b[43mn\u001b[49m\u001b[43m \u001b[49m\u001b[38;5;241;43m+\u001b[39;49m\u001b[43m \u001b[49m\u001b[38;5;241;43m3\u001b[39;49m)   \u001b[38;5;66;03m# what will it print here?\u001b[39;00m\n",
      "\u001b[1;31mTypeError\u001b[0m: can only concatenate str (not \"int\") to str"
     ]
    }
   ],
   "source": [
    "print(n + 3)   # what will it print here?"
   ]
  },
  {
   "cell_type": "code",
   "execution_count": 30,
   "metadata": {},
   "outputs": [
    {
     "name": "stdout",
     "output_type": "stream",
     "text": [
      "55\n"
     ]
    }
   ],
   "source": [
    "print(n + n)"
   ]
  },
  {
   "cell_type": "markdown",
   "metadata": {},
   "source": [
    "# Exercise: Friendly greeting\n",
    "\n",
    "1. Ask the user to enter their name, and assign it to a variable.\n",
    "2. Ask the user to enter their city, and assign that to a different variable.\n",
    "3. Print a friendly greeting to the user, naming their city."
   ]
  },
  {
   "cell_type": "code",
   "execution_count": 31,
   "metadata": {},
   "outputs": [
    {
     "name": "stdin",
     "output_type": "stream",
     "text": [
      "Enter your name:  Reuven\n",
      "Enter your city:  Modi'in\n"
     ]
    },
    {
     "name": "stdout",
     "output_type": "stream",
     "text": [
      "Hello, Reuven, from Modi'in!\n"
     ]
    }
   ],
   "source": [
    "name = input('Enter your name: ')\n",
    "city = input('Enter your city: ')\n",
    "\n",
    "print('Hello, ' + name + ', from ' + city + '!')"
   ]
  },
  {
   "cell_type": "code",
   "execution_count": 32,
   "metadata": {},
   "outputs": [
    {
     "name": "stdout",
     "output_type": "stream",
     "text": [
      "Hello, Reuven, from Modi'in!\n"
     ]
    }
   ],
   "source": [
    "# What if I want the above to be a bit more ... readable?\n",
    "# A few years ago, Python introduced a new feature called \"f-strings\"\n",
    "# An f-string is a string, but it can have variable and other dynamic values in it\n",
    "# You define it like a regular string but with f before the opening quote.\n",
    "# Inside of the string, if you have {}, any Python variable or expression can be there\n",
    "\n",
    "print(f'Hello, {name}, from {city}!')"
   ]
  },
  {
   "cell_type": "code",
   "execution_count": 33,
   "metadata": {},
   "outputs": [
    {
     "name": "stdin",
     "output_type": "stream",
     "text": [
      "Please enter your name?:  reuven\n",
      "What city are you from?:  Modi'in\n"
     ]
    },
    {
     "name": "stdout",
     "output_type": "stream",
     "text": [
      "Hello reuven from Modi'in! It is a pleasure to meet you!\n"
     ]
    }
   ],
   "source": [
    "name = input('Please enter your name?: ') \n",
    "city = input('What city are you from?: ')\n",
    "print('Hello ' + name + ' from ' + city + '! It is a pleasure to meet you!')\n"
   ]
  },
  {
   "cell_type": "code",
   "execution_count": 34,
   "metadata": {},
   "outputs": [
    {
     "data": {
      "text/plain": [
       "True"
      ]
     },
     "execution_count": 34,
     "metadata": {},
     "output_type": "execute_result"
    }
   ],
   "source": [
    "# what if I want to know if two things are equal?\n",
    "\n",
    "x = 10\n",
    "y = 10\n",
    "\n",
    "# are they the same?\n",
    "# we have to compare with ==\n",
    "\n",
    "x == y   # this is a totaly different operator -- asks the question, are the two sides equal? "
   ]
  },
  {
   "cell_type": "code",
   "execution_count": 35,
   "metadata": {},
   "outputs": [
    {
     "data": {
      "text/plain": [
       "False"
      ]
     },
     "execution_count": 35,
     "metadata": {},
     "output_type": "execute_result"
    }
   ],
   "source": [
    "x = 10\n",
    "y = 9\n",
    "\n",
    "x == y"
   ]
  },
  {
   "cell_type": "code",
   "execution_count": 36,
   "metadata": {},
   "outputs": [
    {
     "data": {
      "text/plain": [
       "True"
      ]
     },
     "execution_count": 36,
     "metadata": {},
     "output_type": "execute_result"
    }
   ],
   "source": [
    "x = 'abcd'\n",
    "y = 'abcd'\n",
    "\n",
    "x == y"
   ]
  },
  {
   "cell_type": "markdown",
   "metadata": {},
   "source": [
    "# Comparison operators\n",
    "\n",
    "- `==`  (equal)\n",
    "- `!=`  (not equal)\n",
    "- `<`\n",
    "- `>`\n",
    "- `<=`\n",
    "- `>=`"
   ]
  },
  {
   "cell_type": "code",
   "execution_count": 37,
   "metadata": {},
   "outputs": [
    {
     "data": {
      "text/plain": [
       "True"
      ]
     },
     "execution_count": 37,
     "metadata": {},
     "output_type": "execute_result"
    }
   ],
   "source": [
    "10 > 5    "
   ]
  },
  {
   "cell_type": "code",
   "execution_count": 39,
   "metadata": {},
   "outputs": [
    {
     "data": {
      "text/plain": [
       "True"
      ]
     },
     "execution_count": 39,
     "metadata": {},
     "output_type": "execute_result"
    }
   ],
   "source": [
    "# if you use > or < on strings, they are compared more or less alphabetically\n",
    "'hello' > 'goodbye'"
   ]
  },
  {
   "cell_type": "code",
   "execution_count": 41,
   "metadata": {},
   "outputs": [
    {
     "name": "stdin",
     "output_type": "stream",
     "text": [
      "Enter your name:  someone else\n"
     ]
    },
    {
     "name": "stdout",
     "output_type": "stream",
     "text": [
      "Hello, someone else. Nice to meet you.\n"
     ]
    }
   ],
   "source": [
    "name = input('Enter your name: ')\n",
    "\n",
    "# if looks to its right, and if the condition returns True, then the \"if\" block is run\n",
    "# at the end of the line with \"if\", we have a colon\n",
    "# after the colon we have an indented block that all goes together as one\n",
    "\n",
    "if name == 'Reuven': \n",
    "    print('Hi boss!')\n",
    "    print('Nice to see you again.')\n",
    "else:\n",
    "    print(f'Hello, {name}. Nice to meet you.')"
   ]
  },
  {
   "cell_type": "markdown",
   "metadata": {},
   "source": [
    "# Exercise: Nice greeting\n",
    "\n",
    "(We're basically recreating what I just did)\n",
    "\n",
    "1. Get the user's name.\n",
    "2. If the user and you share a name, then print something nice (more than one line).\n",
    "3. If the user and you don't share a name, then print something nice (but different)."
   ]
  },
  {
   "cell_type": "code",
   "execution_count": 42,
   "metadata": {},
   "outputs": [
    {
     "ename": "KeyboardInterrupt",
     "evalue": "Interrupted by user",
     "output_type": "error",
     "traceback": [
      "\u001b[1;31m---------------------------------------------------------------------------\u001b[0m",
      "\u001b[1;31mKeyboardInterrupt\u001b[0m                         Traceback (most recent call last)",
      "Cell \u001b[1;32mIn[42], line 1\u001b[0m\n\u001b[1;32m----> 1\u001b[0m x \u001b[38;5;241m=\u001b[39m \u001b[38;5;28;43minput\u001b[39;49m\u001b[43m(\u001b[49m\u001b[38;5;124;43m'\u001b[39;49m\u001b[38;5;124;43mEnter something: \u001b[39;49m\u001b[38;5;124;43m'\u001b[39;49m\u001b[43m)\u001b[49m\n",
      "File \u001b[1;32m/usr/local/lib/python3.11/site-packages/ipykernel/kernelbase.py:1191\u001b[0m, in \u001b[0;36mKernel.raw_input\u001b[1;34m(self, prompt)\u001b[0m\n\u001b[0;32m   1189\u001b[0m     msg \u001b[38;5;241m=\u001b[39m \u001b[38;5;124m\"\u001b[39m\u001b[38;5;124mraw_input was called, but this frontend does not support input requests.\u001b[39m\u001b[38;5;124m\"\u001b[39m\n\u001b[0;32m   1190\u001b[0m     \u001b[38;5;28;01mraise\u001b[39;00m StdinNotImplementedError(msg)\n\u001b[1;32m-> 1191\u001b[0m \u001b[38;5;28;01mreturn\u001b[39;00m \u001b[38;5;28;43mself\u001b[39;49m\u001b[38;5;241;43m.\u001b[39;49m\u001b[43m_input_request\u001b[49m\u001b[43m(\u001b[49m\n\u001b[0;32m   1192\u001b[0m \u001b[43m    \u001b[49m\u001b[38;5;28;43mstr\u001b[39;49m\u001b[43m(\u001b[49m\u001b[43mprompt\u001b[49m\u001b[43m)\u001b[49m\u001b[43m,\u001b[49m\n\u001b[0;32m   1193\u001b[0m \u001b[43m    \u001b[49m\u001b[38;5;28;43mself\u001b[39;49m\u001b[38;5;241;43m.\u001b[39;49m\u001b[43m_parent_ident\u001b[49m\u001b[43m[\u001b[49m\u001b[38;5;124;43m\"\u001b[39;49m\u001b[38;5;124;43mshell\u001b[39;49m\u001b[38;5;124;43m\"\u001b[39;49m\u001b[43m]\u001b[49m\u001b[43m,\u001b[49m\n\u001b[0;32m   1194\u001b[0m \u001b[43m    \u001b[49m\u001b[38;5;28;43mself\u001b[39;49m\u001b[38;5;241;43m.\u001b[39;49m\u001b[43mget_parent\u001b[49m\u001b[43m(\u001b[49m\u001b[38;5;124;43m\"\u001b[39;49m\u001b[38;5;124;43mshell\u001b[39;49m\u001b[38;5;124;43m\"\u001b[39;49m\u001b[43m)\u001b[49m\u001b[43m,\u001b[49m\n\u001b[0;32m   1195\u001b[0m \u001b[43m    \u001b[49m\u001b[43mpassword\u001b[49m\u001b[38;5;241;43m=\u001b[39;49m\u001b[38;5;28;43;01mFalse\u001b[39;49;00m\u001b[43m,\u001b[49m\n\u001b[0;32m   1196\u001b[0m \u001b[43m\u001b[49m\u001b[43m)\u001b[49m\n",
      "File \u001b[1;32m/usr/local/lib/python3.11/site-packages/ipykernel/kernelbase.py:1234\u001b[0m, in \u001b[0;36mKernel._input_request\u001b[1;34m(self, prompt, ident, parent, password)\u001b[0m\n\u001b[0;32m   1231\u001b[0m \u001b[38;5;28;01mexcept\u001b[39;00m \u001b[38;5;167;01mKeyboardInterrupt\u001b[39;00m:\n\u001b[0;32m   1232\u001b[0m     \u001b[38;5;66;03m# re-raise KeyboardInterrupt, to truncate traceback\u001b[39;00m\n\u001b[0;32m   1233\u001b[0m     msg \u001b[38;5;241m=\u001b[39m \u001b[38;5;124m\"\u001b[39m\u001b[38;5;124mInterrupted by user\u001b[39m\u001b[38;5;124m\"\u001b[39m\n\u001b[1;32m-> 1234\u001b[0m     \u001b[38;5;28;01mraise\u001b[39;00m \u001b[38;5;167;01mKeyboardInterrupt\u001b[39;00m(msg) \u001b[38;5;28;01mfrom\u001b[39;00m \u001b[38;5;28;01mNone\u001b[39;00m\n\u001b[0;32m   1235\u001b[0m \u001b[38;5;28;01mexcept\u001b[39;00m \u001b[38;5;167;01mException\u001b[39;00m:\n\u001b[0;32m   1236\u001b[0m     \u001b[38;5;28mself\u001b[39m\u001b[38;5;241m.\u001b[39mlog\u001b[38;5;241m.\u001b[39mwarning(\u001b[38;5;124m\"\u001b[39m\u001b[38;5;124mInvalid Message:\u001b[39m\u001b[38;5;124m\"\u001b[39m, exc_info\u001b[38;5;241m=\u001b[39m\u001b[38;5;28;01mTrue\u001b[39;00m)\n",
      "\u001b[1;31mKeyboardInterrupt\u001b[0m: Interrupted by user"
     ]
    }
   ],
   "source": [
    "x = input('Enter something: ')"
   ]
  },
  {
   "cell_type": "code",
   "execution_count": 44,
   "metadata": {},
   "outputs": [
    {
     "name": "stdin",
     "output_type": "stream",
     "text": [
      "Enter your name:  someone else\n"
     ]
    },
    {
     "name": "stdout",
     "output_type": "stream",
     "text": [
      "Boo!\n",
      "I only want to see Reuven!\n"
     ]
    }
   ],
   "source": [
    "name = input('Enter your name: ')\n",
    "\n",
    "if name == 'Reuven':   # colon at the end of the \"if\"\n",
    "    print('Yay!')\n",
    "    print('I know you')\n",
    "else:\n",
    "    print('Boo!')\n",
    "    print('I only want to see Reuven!')"
   ]
  },
  {
   "cell_type": "code",
   "execution_count": 45,
   "metadata": {},
   "outputs": [],
   "source": [
    "# the \"else\" clause is optional -- you don't need it\n",
    "# but if you don't have it, then the \"if\" either runs or not\n",
    "# nothing happens if the if's condition is False"
   ]
  },
  {
   "cell_type": "markdown",
   "metadata": {},
   "source": [
    "# Exercise: Which word comes first?\n",
    "\n",
    "1. Ask the user to enter a word, and store it in `word1`.\n",
    "2. Ask the user to enter a second word, and store it in `word2`.\n",
    "3. (Both of these should be all lowercase, only letters, one word, no punctuation.\n",
    "4. Print which word comes first in the dictionary.\n",
    "\n",
    "Example:\n",
    "\n",
    "    Enter word 1: taxi\n",
    "    Enter word 2: ca"
   ]
  }
 ],
 "metadata": {
  "kernelspec": {
   "display_name": "Python 3 (ipykernel)",
   "language": "python",
   "name": "python3"
  },
  "language_info": {
   "codemirror_mode": {
    "name": "ipython",
    "version": 3
   },
   "file_extension": ".py",
   "mimetype": "text/x-python",
   "name": "python",
   "nbconvert_exporter": "python",
   "pygments_lexer": "ipython3",
   "version": "3.11.4"
  }
 },
 "nbformat": 4,
 "nbformat_minor": 4
}
