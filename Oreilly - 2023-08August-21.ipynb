{
 "cells": [
  {
   "cell_type": "markdown",
   "metadata": {},
   "source": [
    "# Agenda: Five days of Python\n",
    "\n",
    "1. Fundamentals -- basics, numbers, and strings\n",
    "2. Loops, lists, and tuples\n",
    "3. Dictionaries and files\n",
    "4. Functions\n",
    "5. Modules and packages\n",
    "\n",
    "Today, in particular:\n",
    "- What is a programming language?  (What is Python?)\n",
    "- Values and variables\n",
    "- Printing output and getting input from the user\n",
    "- Assignment\n",
    "- Comparisons\n",
    "- `if` -- making decisions\n",
    "- `and`/`or`/`not`\n",
    "- Numbers -- integers and floats\n",
    "- Strings (text)\n",
    "    - Creating strings\n",
    "    - Retrieving from strings\n",
    "    - String methods"
   ]
  },
  {
   "cell_type": "markdown",
   "metadata": {},
   "source": [
    "# What is a programming language?\n",
    "\n",
    "There are tons of programming languages out there. The goal is generally to let you write instructions in something that's closer to how humans work/speak, and then have that program translated into a version that the computer can understand. Every language is a different set of tradeoffs between speed, readability, compatiblity, etc.\n",
    "\n",
    "- C -- very very fast to execute... very very annoying to write\n",
    "- C++ -- very fast to execute, and also includes \"objects\" for thinking/designing at a higher level... even more annoying to write than C\n",
    "- bash -- easy to write, but slow to execute and limited in what it can do\n",
    "- VBA -- relatively easy to write, but hard to maintain, and slow, and limited because it's inside of an app\n",
    "- Python -- easy to learn, easy to write, easy to maintain... and yes, it's relatively slow to exe"
   ]
  }
 ],
 "metadata": {
  "kernelspec": {
   "display_name": "Python 3 (ipykernel)",
   "language": "python",
   "name": "python3"
  },
  "language_info": {
   "codemirror_mode": {
    "name": "ipython",
    "version": 3
   },
   "file_extension": ".py",
   "mimetype": "text/x-python",
   "name": "python",
   "nbconvert_exporter": "python",
   "pygments_lexer": "ipython3",
   "version": "3.11.4"
  }
 },
 "nbformat": 4,
 "nbformat_minor": 4
}
