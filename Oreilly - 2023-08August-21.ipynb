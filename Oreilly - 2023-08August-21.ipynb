{
 "cells": [
  {
   "cell_type": "markdown",
   "metadata": {},
   "source": [
    "# Agenda: Five days of Python\n",
    "\n",
    "1. Fundamentals -- basics, numbers, and strings\n",
    "2. Loops, lists, and tuples\n",
    "3. Dictionaries and files\n",
    "4. Functions\n",
    "5. Modules and packages\n",
    "\n",
    "Today, in particular:\n",
    "- What is a programming language?  (What is Python?)\n",
    "- Values and variables\n",
    "- Printing output and getting input from the user\n",
    "- Assignment\n",
    "- Comparisons\n",
    "- `if` -- making decisions\n",
    "- `and`/`or`/`not`\n",
    "- Numbers -- integers and floats\n",
    "- Strings (text)\n",
    "    - Creating strings\n",
    "    - Retrieving from strings\n",
    "    - String methods"
   ]
  },
  {
   "cell_type": "markdown",
   "metadata": {},
   "source": [
    "# What is a programming language?\n",
    "\n",
    "There are tons of programming languages out there. The goal is generally to let you write instructions in something that's closer to how humans work/speak, and then have that program translated into a version that the computer can understand. Every language is a different set of tradeoffs between speed, readability, compatiblity, etc.\n",
    "\n",
    "- C -- very very fast to execute... very very annoying to write\n",
    "- C++ -- very fast to execute, and also includes \"objects\" for thinking/designing at a higher level... even more annoying to write than C\n",
    "- bash -- easy to write, but slow to execute and limited in what it can do\n",
    "- VBA -- relatively easy to write, but hard to maintain, and slow, and limited because it's inside of an app\n",
    "- Python -- easy to learn, easy to write, easy to maintain... and yes, it's relatively slow to execute\n",
    "\n",
    "Python is perfect for an age in which computers are cheap and people are expensive.  The main advantage of Python is that it's easy to learn and easy to maintain.\n",
    "\n",
    "Python has low floors and high ceilings -- it's easy to get started. But it's not a toy language. It can do all sorts of things, and you will learn, over time, to do some of them."
   ]
  },
  {
   "cell_type": "markdown",
   "metadata": {},
   "source": [
    "# Quick Jupyter tour\n",
    "\n",
    "When I'm typing into Jupyter, I'm typing into a \"cell.\" I'm currently in \"edit mode,\" meaning that anything I type will be put into the cell.  There are two basic modes in Jupyter:\n",
    "\n",
    "- Edit mode. Enter edit mode by clicking inside of a cell or pressing ENTER. You can tell that you're in edit mode because of the outline around the cell and the cell is a non-dimmed color.\n",
    "- Command mode. Enter command mode by clicking to the left of the cell or pressing ESC. When you're in command mode, anything you type is handed to Jupyter, to the environment, as a command.\n",
    "\n",
    "Some commands you can use in command mode:\n",
    "\n",
    "- `c` -- copy the current cell\n",
    "- `x` -- cut the current cell\n",
    "- `v` -- paste the most recently cut/copied cell\n",
    "- `a` -- create a new cell above the current one\n",
    "- `b` -- create a new cell below the current one\n",
    "- `shift+ENTER` -- execute the current cell -- if it's code, run it; if it's Markdown, then format it\n",
    "- `m` -- turns the cell into Markdown mode for text\n",
    "- `y` -- turns the cell into Python coding mode"
   ]
  },
  {
   "cell_type": "code",
   "execution_count": 1,
   "metadata": {},
   "outputs": [
    {
     "name": "stdout",
     "output_type": "stream",
     "text": [
      "Hello!\n"
     ]
    }
   ],
   "source": [
    "# this is a comment. Python ignores anything starting with the # until the end of the line\n",
    "# I can write as many comments as I want.\n",
    "# typically, comments are used to give information to the next programmer who will work on this project.\n",
    "\n",
    "# print is a function, it's a verb -- it does something -- and that something is display things on the screen\n",
    "# print can display *anything* in Python\n",
    "\n",
    "# after we say \"print\", we then use round parentheses around whatever we want to display\n",
    "# if we want to display text, we need to use quotes around it, either '' or \"\" .\n",
    "print('Hello!')   "
   ]
  },
  {
   "cell_type": "code",
   "execution_count": 2,
   "metadata": {},
   "outputs": [
    {
     "name": "stdout",
     "output_type": "stream",
     "text": [
      "7\n"
     ]
    }
   ],
   "source": [
    "print(2 + 5)"
   ]
  },
  {
   "cell_type": "markdown",
   "metadata": {},
   "source": [
    "# Mini-exercise: Print your name on the screen in Jupyter"
   ]
  },
  {
   "cell_type": "code",
   "execution_count": 3,
   "metadata": {},
   "outputs": [
    {
     "name": "stdout",
     "output_type": "stream",
     "text": [
      "Reuven\n"
     ]
    }
   ],
   "source": [
    "print('Reuven')"
   ]
  },
  {
   "cell_type": "code",
   "execution_count": 4,
   "metadata": {},
   "outputs": [
    {
     "ename": "NameError",
     "evalue": "name 'Reuven' is not defined",
     "output_type": "error",
     "traceback": [
      "\u001b[1;31m---------------------------------------------------------------------------\u001b[0m",
      "\u001b[1;31mNameError\u001b[0m                                 Traceback (most recent call last)",
      "Cell \u001b[1;32mIn[4], line 1\u001b[0m\n\u001b[1;32m----> 1\u001b[0m \u001b[38;5;28mprint\u001b[39m(\u001b[43mReuven\u001b[49m)   \u001b[38;5;66;03m# no quotes? Then Python will get confused\u001b[39;00m\n",
      "\u001b[1;31mNameError\u001b[0m: name 'Reuven' is not defined"
     ]
    }
   ],
   "source": [
    "print(Reuven)   # no quotes? Then Python will get confused"
   ]
  },
  {
   "cell_type": "code",
   "execution_count": 6,
   "metadata": {},
   "outputs": [
    {
     "ename": "SyntaxError",
     "evalue": "unterminated string literal (detected at line 1) (2318672479.py, line 1)",
     "output_type": "error",
     "traceback": [
      "\u001b[1;36m  Cell \u001b[1;32mIn[6], line 1\u001b[1;36m\u001b[0m\n\u001b[1;33m    print('Reuven)\u001b[0m\n\u001b[1;37m          ^\u001b[0m\n\u001b[1;31mSyntaxError\u001b[0m\u001b[1;31m:\u001b[0m unterminated string literal (detected at line 1)\n"
     ]
    }
   ],
   "source": [
    "print('Reuven)"
   ]
  },
  {
   "cell_type": "code",
   "execution_count": 7,
   "metadata": {},
   "outputs": [],
   "source": [
    "# what if I want to store my name (or someone else's name) for future use, or for reuse?\n",
    "# that is where variables come in.\n",
    "\n",
    "# if functions (like print) are verbs, then variables are pronouns referring to values.\n",
    "\n",
    "name = 'Reuven'"
   ]
  },
  {
   "cell_type": "markdown",
   "metadata": {},
   "source": [
    "# Assignment to variables\n",
    "\n",
    "We can assign a value (e.g., the string `'Reuven'`) to a variable using the `=` operator, aka the \"assignment operator.\" This is absolutely different from the `=` we use in mathematics. In math, `=` means that the two sides must be balanced, with the same value. This is not that -- here, what `=` means is: Take the value on the right, and assign it to the variable on the left.\n",
    "\n",
    "- If the variable `name` didn't exist before, now it does!\n",
    "- If the variable `name` *did* exist before, now it has a new value.\n",
    "\n",
    "Notice that we didn't have to *declare* the variable to Python. The moment that we told it that we wanted to assign to `name`, the variable was created.  \n",
    "\n",
    "Don't we need to tell Python what types of values will be assigned to the `name` variable? Nope! Python is what we call a \"dynamic language,\" where any variable can refer to any value.\n",
    "\n",
    "Once I have a value in a variable, I can use that variable instead of the value.\n",
    "\n",
    "## What variable names are acceptable?\n",
    "\n",
    "- Capital and lowercase letters are different.\n",
    "- Traditionally, we only use lowercase letters, numbers, and `_`\n",
    "- Variable names cannot start"
   ]
  },
  {
   "cell_type": "code",
   "execution_count": null,
   "metadata": {},
   "outputs": [],
   "source": []
  }
 ],
 "metadata": {
  "kernelspec": {
   "display_name": "Python 3 (ipykernel)",
   "language": "python",
   "name": "python3"
  },
  "language_info": {
   "codemirror_mode": {
    "name": "ipython",
    "version": 3
   },
   "file_extension": ".py",
   "mimetype": "text/x-python",
   "name": "python",
   "nbconvert_exporter": "python",
   "pygments_lexer": "ipython3",
   "version": "3.11.4"
  }
 },
 "nbformat": 4,
 "nbformat_minor": 4
}
