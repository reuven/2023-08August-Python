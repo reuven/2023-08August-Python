{
 "cells": [
  {
   "cell_type": "markdown",
   "id": "fb54da44-75f3-4c73-aa3d-45d227566f62",
   "metadata": {},
   "source": [
    "# Agenda, day 2: Loops, lists, and tuples\n",
    "\n",
    "1. What are loops?\n",
    "2. `for` loops\n",
    "    - Looping over strings\n",
    "    - Looping over numbers (with `range`)\n",
    "    - Indexes -- what happened to them?\n",
    "    - `while` loops\n",
    "3. Lists\n",
    "    - What are lists for?\n",
    "    - What can we do with them?\n",
    "    - Lists are *mutable* -- so what?\n",
    "4. Turning strings into lists, and back\n",
    "    - `str.split`\n",
    "    - `str.join`\n",
    "5. Tuples\n",
    "    - Tuples as a data structure\n",
    "    - Tuple unpacking"
   ]
  },
  {
   "cell_type": "markdown",
   "id": "850fb0a8-2d47-4456-b27f-0cfa8f94bd9d",
   "metadata": {},
   "source": [
    "# DRY -- don't repeat yourself!\n",
    "\n",
    "The Pragmatic Programmers talk about \"DRY\" -- don't repeat yourself! \n",
    "\n",
    "The idea is: If you have the same code (or virtually the same code) repeating in your program, then you're probably doing something wrong."
   ]
  },
  {
   "cell_type": "code",
   "execution_count": 1,
   "id": "d8f1c092-bdcb-4d74-8c3c-629f652e7ae6",
   "metadata": {},
   "outputs": [
    {
     "name": "stdout",
     "output_type": "stream",
     "text": [
      "a\n",
      "b\n",
      "c\n",
      "d\n",
      "e\n"
     ]
    }
   ],
   "source": [
    "s = 'abcde'\n",
    "\n",
    "# can I print all of the letters in s, each on a line of its own?\n",
    "print(s[0])\n",
    "print(s[1])\n",
    "print(s[2])\n",
    "print(s[3])\n",
    "print(s[4])\n"
   ]
  },
  {
   "cell_type": "markdown",
   "id": "47e31464-42a4-4999-ba1e-6fd1a5f5e063",
   "metadata": {},
   "source": [
    "The above code works -- it does what we want.  But it's also repetitive.  Which means:\n",
    "\n",
    "- If (when!) we have to modify that code, we'll have to do it for each line\n",
    "- It's harder to think about a long program than a short one. We can reduce cognitive load by shortening code\n",
    "- Why spend so much time typing and coding, when we can reduce that?"
   ]
  },
  {
   "cell_type": "markdown",
   "id": "7bcf0df9-0e36-4a97-9da4-5f67813e6680",
   "metadata": {},
   "source": [
    "# The alternative: Loop\n",
    "\n",
    "A loop is a piece of code that repeats -- typically, with some variation between each \"iteration.\" \n",
    "\n",
    "In Python, we have two types of loops: `for` and `while`. The most common loop, by far, is a `for` loop. Here is how we can iterative over the characters in a string and print them:\n",
    "\n",
    "# Elements of a `for` loop:\n",
    "\n",
    "1. We use the reserved words `for` and `in` -- they both need to be there\n",
    "2. Between `for` and `in`, we name a variable. This variable can be named *anything you want*, so make it count!\n",
    "3. After the word `in`, we have the object over which we want to iterate.  In this case, it's `s`, the variable that currently refers to a string.\n",
    "4. Then we have a `:`, followed by an indented block.\n",
    "5. The indented block is known as the \"loop body.\"  It can be as long as you want.\n",
    "\n",
    "What happens here?\n",
    "\n",
    "1. `for` turns to `s` and asks: Are you iterable?\n",
    "    - If not, then we get an error\n",
    "2. Assuming that `s` is iterable, `for` says: Give me your next thing\n",
    "    - If there are no more things to have, then `s` signals that, and the `for` loop ends\n",
    "3. `for` assigns the next thing (given by `s`) to our variable (`one_character`)\n",
    "4. We execute the loop body\n",
    "5. We return to step 2."
   ]
  },
  {
   "cell_type": "code",
   "execution_count": 3,
   "id": "92967cbe-8c01-4066-be08-523598673310",
   "metadata": {},
   "outputs": [
    {
     "name": "stdout",
     "output_type": "stream",
     "text": [
      "Before\n",
      "a\n",
      "b\n",
      "c\n",
      "d\n",
      "e\n",
      "After\n"
     ]
    }
   ],
   "source": [
    "print('Before')\n",
    "for one_character in s:\n",
    "    print(one_character)\n",
    "print('After')    "
   ]
  },
  {
   "cell_type": "code",
   "execution_count": 4,
   "id": "f5202b74-85f6-48eb-800f-3f6680eb6b8b",
   "metadata": {},
   "outputs": [
    {
     "data": {
      "text/plain": [
       "'e'"
      ]
     },
     "execution_count": 4,
     "metadata": {},
     "output_type": "execute_result"
    }
   ],
   "source": [
    "one_character"
   ]
  },
  {
   "cell_type": "markdown",
   "id": "db34ac30-4aca-4c6b-8d4d-e56ff543dd97",
   "metadata": {},
   "source": [
    "# Getting one character at a time\n",
    "\n",
    "Many people think that I'm getting one character from `s` at a time because my variable is called `one_character`.\n",
    "\n",
    "It's just the opposite: I know that when we iterate over a string, we'll get one character at a time. Thus, I called the variable `one_character`.\n",
    "\n",
    "Different data types in Python produce different results when we iterate over them. Strings (our first iterable data type) always give us one character at a time, starting at the start and ending at the end."
   ]
  },
  {
   "cell_type": "markdown",
   "id": "60aa2c36-eb7c-4980-bca1-b906fc351e34",
   "metadata": {},
   "source": [
    "# Exercies: vowel counter\n",
    "\n",
    "1. Define a variable, `total`, to be 0.\n",
    "2. Ask the user to enter a string.\n",
    "3. Go through the string, one character at a time.\n",
    "4. If the current character is a vowel (a, e, i, o, or u) then add 1 to `total`.\n",
    "5. When we're done going through the string, print the result.\n",
    "\n",
    "Example:\n",
    "\n",
    "    Enter a string: hello!\n",
    "    hello! has 2 vowels"
   ]
  },
  {
   "cell_type": "code",
   "execution_count": 6,
   "id": "e87e9ddd-21ae-48b4-8638-27da541aa3c8",
   "metadata": {},
   "outputs": [
    {
     "name": "stdin",
     "output_type": "stream",
     "text": [
      "Enter a string:  hello out there!\n"
     ]
    },
    {
     "name": "stdout",
     "output_type": "stream",
     "text": [
      "hello out there! has 6 vowels\n"
     ]
    }
   ],
   "source": [
    "total = 0\n",
    "\n",
    "s = input('Enter a string: ').strip()\n",
    "\n",
    "for one_character in s:\n",
    "    if one_character in 'aeiou':   # is the current character a vowel?\n",
    "        total += 1                 # add 1 to our total!\n",
    "\n",
    "# print(total)\n",
    "print(f'{s} has {total} vowels')"
   ]
  },
  {
   "cell_type": "markdown",
   "id": "c2d4af54-4ed2-41aa-a9e0-e45ad02dd567",
   "metadata": {},
   "source": [
    "# What if I want to repeat an action?\n",
    "\n"
   ]
  },
  {
   "cell_type": "code",
   "execution_count": 7,
   "id": "e46778c6-5703-4024-a243-2e18ecf6e741",
   "metadata": {},
   "outputs": [
    {
     "name": "stdout",
     "output_type": "stream",
     "text": [
      "Hooray for Python!\n",
      "Hooray for Python!\n",
      "Hooray for Python!\n"
     ]
    }
   ],
   "source": [
    "# I'm in a great mood -- hooray for Python!\n",
    "\n",
    "print('Hooray for Python!')\n",
    "print('Hooray for Python!')\n",
    "print('Hooray for Python!')\n"
   ]
  },
  {
   "cell_type": "code",
   "execution_count": 8,
   "id": "0f66a526-7b39-47bd-8c0e-3ce4efb48d1b",
   "metadata": {},
   "outputs": [
    {
     "ename": "TypeError",
     "evalue": "'int' object is not iterable",
     "output_type": "error",
     "traceback": [
      "\u001b[1;31m---------------------------------------------------------------------------\u001b[0m",
      "\u001b[1;31mTypeError\u001b[0m                                 Traceback (most recent call last)",
      "Cell \u001b[1;32mIn[8], line 3\u001b[0m\n\u001b[0;32m      1\u001b[0m \u001b[38;5;66;03m# we can use a loop to DRY up this code:\u001b[39;00m\n\u001b[1;32m----> 3\u001b[0m \u001b[38;5;28;01mfor\u001b[39;00m counter \u001b[38;5;129;01min\u001b[39;00m \u001b[38;5;241m3\u001b[39m:\n\u001b[0;32m      4\u001b[0m     \u001b[38;5;28mprint\u001b[39m(\u001b[38;5;124m'\u001b[39m\u001b[38;5;124mHooray for Python!\u001b[39m\u001b[38;5;124m'\u001b[39m)\n",
      "\u001b[1;31mTypeError\u001b[0m: 'int' object is not iterable"
     ]
    }
   ],
   "source": [
    "# we can use a loop to DRY up this code:\n",
    "\n",
    "for counter in 3:\n",
    "    print('Hooray for Python!')"
   ]
  },
  {
   "cell_type": "markdown",
   "id": "db7fe3de-2feb-4410-bbc4-3d4b7591e2c1",
   "metadata": {},
   "source": [
    "# Strings are iterable, but numbers aren't\n",
    "\n",
    "If you try to iterate over a number (an integer or float), you'll get an error.\n",
    "\n",
    "How can you iterate a certain number of times? \n",
    "\n",
    "We can't directly iterate over an integer, as we've seen. Instead, we need to iterate over a *range*. `range` is the special builtin that creates such ranges for us.\n",
    "\n",
    "The easiest way to use `range` is to call it with an integer argument, indicating how many times you want it to execute."
   ]
  },
  {
   "cell_type": "code",
   "execution_count": 13,
   "id": "47578933-badd-4161-9167-95fdabcaadde",
   "metadata": {},
   "outputs": [
    {
     "name": "stdout",
     "output_type": "stream",
     "text": [
      "Hooray for Python!\n",
      "Hooray for Python!\n",
      "Hooray for Python!\n"
     ]
    }
   ],
   "source": [
    "# this is how you iterate a certain number of times!\n",
    "\n",
    "for count in range(3):\n",
    "    print('Hooray for Python!')"
   ]
  },
  {
   "cell_type": "code",
   "execution_count": 14,
   "id": "e223696c-0cb2-4584-a410-a14a94d76edb",
   "metadata": {},
   "outputs": [
    {
     "name": "stdout",
     "output_type": "stream",
     "text": [
      "[0] Hooray for Python!\n",
      "[1] Hooray for Python!\n",
      "[2] Hooray for Python!\n"
     ]
    }
   ],
   "source": [
    "# what about count? We have a loop variable there, but what is its value with each iteration?\n",
    "# count actually does get a value with each iteration -- it starts at 0, and goes up by 1, one at a time\n",
    "\n",
    "for count in range(3):\n",
    "    print(f'[{count}] Hooray for Python!')\n"
   ]
  },
  {
   "cell_type": "markdown",
   "id": "32609378-02c7-4130-a64f-7c10d2c068ac",
   "metadata": {},
   "source": [
    "Just as a string's length is n, but its maximum index is n-1, so too will `range` return 3 elements, and they will be numbered 0, 1, and 2 -- the maximum being the range argument - 1."
   ]
  },
  {
   "cell_type": "code",
   "execution_count": 15,
   "id": "fbfdb98b-e45f-44a6-a99b-6098e24b8e82",
   "metadata": {},
   "outputs": [
    {
     "data": {
      "text/plain": [
       "'HoorayHoorayHoorayHoorayHoorayHooray'"
      ]
     },
     "execution_count": 15,
     "metadata": {},
     "output_type": "execute_result"
    }
   ],
   "source": [
    "'Hooray' * 6   # this will work!\n"
   ]
  },
  {
   "cell_type": "code",
   "execution_count": null,
   "id": "d785bb27-2934-4f6d-8959-fd34c7c745f1",
   "metadata": {},
   "outputs": [],
   "source": []
  }
 ],
 "metadata": {
  "kernelspec": {
   "display_name": "Python 3 (ipykernel)",
   "language": "python",
   "name": "python3"
  },
  "language_info": {
   "codemirror_mode": {
    "name": "ipython",
    "version": 3
   },
   "file_extension": ".py",
   "mimetype": "text/x-python",
   "name": "python",
   "nbconvert_exporter": "python",
   "pygments_lexer": "ipython3",
   "version": "3.11.4"
  }
 },
 "nbformat": 4,
 "nbformat_minor": 5
}
