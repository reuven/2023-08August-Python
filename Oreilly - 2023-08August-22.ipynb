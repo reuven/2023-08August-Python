{
 "cells": [
  {
   "cell_type": "markdown",
   "id": "fb54da44-75f3-4c73-aa3d-45d227566f62",
   "metadata": {},
   "source": [
    "# Agenda, day 2: Loops, lists, and tuples\n",
    "\n",
    "1. What are loops?\n",
    "2. `for` loops\n",
    "    - Looping over strings\n",
    "    - Looping over numbers (with `range`)\n",
    "    - Indexes -- what happened to them?\n",
    "    - `while` loops\n",
    "3. Lists\n",
    "    - What are lists for?\n",
    "    - What can we do with them?\n",
    "    - Lists are *mutable* -- so what?\n",
    "4. Turning strings into lists, and back\n",
    "    - `str.split`\n",
    "    - `str.join`\n",
    "5. Tuples\n",
    "    - Tuples as a data structure\n",
    "    - Tuple unpacking"
   ]
  },
  {
   "cell_type": "markdown",
   "id": "850fb0a8-2d47-4456-b27f-0cfa8f94bd9d",
   "metadata": {},
   "source": [
    "# DRY -- don't repeat yourself!\n",
    "\n",
    "The Pragmatic Programmers talk about \"DRY\" -- don't repeat yourself! \n",
    "\n",
    "The idea is: If you have the same code (or virtually the same code) repeating in your program, then you're probably doing something wrong."
   ]
  },
  {
   "cell_type": "code",
   "execution_count": 1,
   "id": "d8f1c092-bdcb-4d74-8c3c-629f652e7ae6",
   "metadata": {},
   "outputs": [
    {
     "name": "stdout",
     "output_type": "stream",
     "text": [
      "a\n",
      "b\n",
      "c\n",
      "d\n",
      "e\n"
     ]
    }
   ],
   "source": [
    "s = 'abcde'\n",
    "\n",
    "# can I print all of the letters in s, each on a line of its own?\n",
    "print(s[0])\n",
    "print(s[1])\n",
    "print(s[2])\n",
    "print(s[3])\n",
    "print(s[4])\n"
   ]
  },
  {
   "cell_type": "markdown",
   "id": "47e31464-42a4-4999-ba1e-6fd1a5f5e063",
   "metadata": {},
   "source": [
    "The above code works -- it does what we want.  But it's also repetitive.  Which means:\n",
    "\n",
    "- If (when!) we have to modify that code, we'll have to do it for each line\n",
    "- It's harder to think about a long program than a short one. We can reduce cognitive load by shortening code\n",
    "- Why spend so much time typing and coding, when we can reduce that?"
   ]
  },
  {
   "cell_type": "markdown",
   "id": "7bcf0df9-0e36-4a97-9da4-5f67813e6680",
   "metadata": {},
   "source": [
    "# The alternative: Loop\n",
    "\n",
    "A loop is a piece of code that repeats -- typically, with some variation between each \"iteration.\" \n",
    "\n",
    "In Python, we have two types of loops: `for` and `while`. The most common loop, by far, is a `for` loop. Here is how we can iterative over the characters in a string and print them:\n",
    "\n",
    "# Elements of a `for` loop:\n",
    "\n",
    "1. We use the reserved words `for` and `in` -- they both need to be there\n",
    "2. Between `for` and `in`, we name a variable. This variable can be named *anything you want*, so make it count!\n",
    "3. After the word `in`, we have the object over which we want to iterate.  In this case, it's `s`, the variable that currently refers to a string.\n",
    "4. Then we have a `:`, followed by an indented block.\n",
    "5. The indented block is known as the \"loop body.\"  It can be as long as you want.\n",
    "\n",
    "What happens here?\n",
    "\n",
    "1. `for` turns to `s` and asks: Are you iterable?\n",
    "    - If not, then we get an error\n",
    "2. Assuming that `s` is iterable, `for` says: Give me your next thing\n",
    "    - If there are no more things to have, then `s` signals that, and the `for` loop ends\n",
    "3. `for` assigns the next thing (given by `s`) to our variable (`one_character`)\n",
    "4. We execute the loop body\n",
    "5. We return to step 2."
   ]
  },
  {
   "cell_type": "code",
   "execution_count": 3,
   "id": "92967cbe-8c01-4066-be08-523598673310",
   "metadata": {},
   "outputs": [
    {
     "name": "stdout",
     "output_type": "stream",
     "text": [
      "Before\n",
      "a\n",
      "b\n",
      "c\n",
      "d\n",
      "e\n",
      "After\n"
     ]
    }
   ],
   "source": [
    "print('Before')\n",
    "for one_character in s:\n",
    "    print(one_character)\n",
    "print('After')    "
   ]
  },
  {
   "cell_type": "code",
   "execution_count": 4,
   "id": "f5202b74-85f6-48eb-800f-3f6680eb6b8b",
   "metadata": {},
   "outputs": [
    {
     "data": {
      "text/plain": [
       "'e'"
      ]
     },
     "execution_count": 4,
     "metadata": {},
     "output_type": "execute_result"
    }
   ],
   "source": [
    "one_character"
   ]
  },
  {
   "cell_type": "code",
   "execution_count": null,
   "id": "0aeee2dd-20c2-4906-8e97-de9a1b2a8705",
   "metadata": {},
   "outputs": [],
   "source": []
  }
 ],
 "metadata": {
  "kernelspec": {
   "display_name": "Python 3 (ipykernel)",
   "language": "python",
   "name": "python3"
  },
  "language_info": {
   "codemirror_mode": {
    "name": "ipython",
    "version": 3
   },
   "file_extension": ".py",
   "mimetype": "text/x-python",
   "name": "python",
   "nbconvert_exporter": "python",
   "pygments_lexer": "ipython3",
   "version": "3.11.4"
  }
 },
 "nbformat": 4,
 "nbformat_minor": 5
}
