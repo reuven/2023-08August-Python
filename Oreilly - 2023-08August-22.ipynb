{
 "cells": [
  {
   "cell_type": "markdown",
   "id": "fb54da44-75f3-4c73-aa3d-45d227566f62",
   "metadata": {},
   "source": [
    "# Agenda, day 2: Loops, lists, and tuples\n",
    "\n",
    "1. What are loops?\n",
    "2. `for` loops\n",
    "    - Looping over strings\n",
    "    - Looping over numbers (with `range`)\n",
    "    - Indexes -- what happened to them?\n",
    "    - `while` loops\n",
    "3. Lists\n",
    "    - What are lists for?\n",
    "    - What can we do with them?\n",
    "    - Lists are *mutable* -- so what?\n",
    "4. Turning strings into lists, and back\n",
    "    - `str.split`\n",
    "    - `str.join`\n",
    "5. Tuples\n",
    "    - Tuples as a data structure\n",
    "    - Tuple unpack\n"
   ]
  },
  {
   "cell_type": "code",
   "execution_count": null,
   "id": "018381d6-b99f-46e2-b599-060ae6b36af7",
   "metadata": {},
   "outputs": [],
   "source": []
  }
 ],
 "metadata": {
  "kernelspec": {
   "display_name": "Python 3 (ipykernel)",
   "language": "python",
   "name": "python3"
  },
  "language_info": {
   "codemirror_mode": {
    "name": "ipython",
    "version": 3
   },
   "file_extension": ".py",
   "mimetype": "text/x-python",
   "name": "python",
   "nbconvert_exporter": "python",
   "pygments_lexer": "ipython3",
   "version": "3.11.4"
  }
 },
 "nbformat": 4,
 "nbformat_minor": 5
}
