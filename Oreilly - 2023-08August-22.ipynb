{
 "cells": [
  {
   "cell_type": "markdown",
   "id": "fb54da44-75f3-4c73-aa3d-45d227566f62",
   "metadata": {},
   "source": [
    "# Agenda, day 2: Loops, lists, and tuples\n",
    "\n",
    "1. What are loops?\n",
    "2. `for` loops\n",
    "    - Looping over strings\n",
    "    - Looping over numbers (with `range`)\n",
    "    - Indexes -- what happened to them?\n",
    "    - `while` loops\n",
    "3. Lists\n",
    "    - What are lists for?\n",
    "    - What can we do with them?\n",
    "    - Lists are *mutable* -- so what?\n",
    "4. Turning strings into lists, and back\n",
    "    - `str.split`\n",
    "    - `str.join`\n",
    "5. Tuples\n",
    "    - Tuples as a data structure\n",
    "    - Tuple unpacking"
   ]
  },
  {
   "cell_type": "markdown",
   "id": "850fb0a8-2d47-4456-b27f-0cfa8f94bd9d",
   "metadata": {},
   "source": [
    "# DRY -- don't repeat yourself!\n",
    "\n",
    "The Pragmatic Programmers talk about \"DRY\" -- don't repeat yourself! \n",
    "\n",
    "The idea is: If you have the same code (or virtually the same code) repeating in your program, then you're probably doing something wrong."
   ]
  },
  {
   "cell_type": "code",
   "execution_count": 1,
   "id": "d8f1c092-bdcb-4d74-8c3c-629f652e7ae6",
   "metadata": {},
   "outputs": [
    {
     "name": "stdout",
     "output_type": "stream",
     "text": [
      "a\n",
      "b\n",
      "c\n",
      "d\n",
      "e\n"
     ]
    }
   ],
   "source": [
    "s = 'abcde'\n",
    "\n",
    "# can I print all of the letters in s, each on a line of its own?\n",
    "print(s[0])\n",
    "print(s[1])\n",
    "print(s[2])\n",
    "print(s[3])\n",
    "print(s[4])\n"
   ]
  },
  {
   "cell_type": "markdown",
   "id": "47e31464-42a4-4999-ba1e-6fd1a5f5e063",
   "metadata": {},
   "source": [
    "The above code works -- it does what we want.  But it's also repetitive.  Which means:\n",
    "\n",
    "- If (when!) we have to modify that code, we'll have to do it for each line\n",
    "- It's harder to think about a long program than a short one. We can reduce cognitive load by shortening code\n",
    "- Why spend so much time typing and coding, when we can reduce that?"
   ]
  },
  {
   "cell_type": "markdown",
   "id": "7bcf0df9-0e36-4a97-9da4-5f67813e6680",
   "metadata": {},
   "source": [
    "# The alternative: Loop\n",
    "\n",
    "A loop is a piece of code that repeats -- typically, with some variation between each \"iteration.\" \n",
    "\n",
    "In Python, we have two types of loops: `for` and `while`. The most common loop, by far, is a `for` loop. Here is how we can iterative over the characters in a string and print them:\n",
    "\n",
    "# Elements of a `for` loop:\n",
    "\n",
    "1. We use the reserved words `for` and `in` -- they both need to be there\n",
    "2. Between `for` and `in`, we name a variable. This variable can be named *anything you want*, so make it count!\n",
    "3. After the word `in`, we have the object over which we want to iterate.  In this case, it's `s`, the variable that currently refers to a string.\n",
    "4. Then we have a `:`, followed by an indented block.\n",
    "5. The indented block is known as the \"loop body.\"  It can be as long as you want.\n",
    "\n",
    "What happens here?\n",
    "\n",
    "1. `for` turns to `s` and asks: Are you iterable?\n",
    "    - If not, then we get an error\n",
    "2. Assuming that `s` is iterable, `for` says: Give me your next thing\n",
    "    - If there are no more things to have, then `s` signals that, and the `for` loop ends\n",
    "3. `for` assigns the next thing (given by `s`) to our variable (`one_character`)\n",
    "4. We execute the loop body\n",
    "5. We return to step 2."
   ]
  },
  {
   "cell_type": "code",
   "execution_count": 3,
   "id": "92967cbe-8c01-4066-be08-523598673310",
   "metadata": {},
   "outputs": [
    {
     "name": "stdout",
     "output_type": "stream",
     "text": [
      "Before\n",
      "a\n",
      "b\n",
      "c\n",
      "d\n",
      "e\n",
      "After\n"
     ]
    }
   ],
   "source": [
    "print('Before')\n",
    "for one_character in s:\n",
    "    print(one_character)\n",
    "print('After')    "
   ]
  },
  {
   "cell_type": "code",
   "execution_count": 4,
   "id": "f5202b74-85f6-48eb-800f-3f6680eb6b8b",
   "metadata": {},
   "outputs": [
    {
     "data": {
      "text/plain": [
       "'e'"
      ]
     },
     "execution_count": 4,
     "metadata": {},
     "output_type": "execute_result"
    }
   ],
   "source": [
    "one_character"
   ]
  },
  {
   "cell_type": "markdown",
   "id": "db34ac30-4aca-4c6b-8d4d-e56ff543dd97",
   "metadata": {},
   "source": [
    "# Getting one character at a time\n",
    "\n",
    "Many people think that I'm getting one character from `s` at a time because my variable is called `one_character`.\n",
    "\n",
    "It's just the opposite: I know that when we iterate over a string, we'll get one character at a time. Thus, I called the variable `one_character`.\n",
    "\n",
    "Different data types in Python produce different results when we iterate over them. Strings (our first iterable data type) always give us one character at a time, starting at the start and ending at the end."
   ]
  },
  {
   "cell_type": "markdown",
   "id": "60aa2c36-eb7c-4980-bca1-b906fc351e34",
   "metadata": {},
   "source": [
    "# Exercies: vowel counter\n",
    "\n",
    "1. Define a variable, `total`, to be 0.\n",
    "2. Ask the user to enter a string.\n",
    "3. Go through the string, one character at a time.\n",
    "4. If the current character is a vowel (a, e, i, o, or u) then add 1 to `total`.\n",
    "5. When we're done going through the string, print the result.\n",
    "\n",
    "Example:\n",
    "\n",
    "    Enter a string: hello!\n",
    "    hello! has 2 vowels"
   ]
  },
  {
   "cell_type": "code",
   "execution_count": 6,
   "id": "e87e9ddd-21ae-48b4-8638-27da541aa3c8",
   "metadata": {},
   "outputs": [
    {
     "name": "stdin",
     "output_type": "stream",
     "text": [
      "Enter a string:  hello out there!\n"
     ]
    },
    {
     "name": "stdout",
     "output_type": "stream",
     "text": [
      "hello out there! has 6 vowels\n"
     ]
    }
   ],
   "source": [
    "total = 0\n",
    "\n",
    "s = input('Enter a string: ').strip()\n",
    "\n",
    "for one_character in s:\n",
    "    if one_character in 'aeiou':   # is the current character a vowel?\n",
    "        total += 1                 # add 1 to our total!\n",
    "\n",
    "# print(total)\n",
    "print(f'{s} has {total} vowels')"
   ]
  },
  {
   "cell_type": "markdown",
   "id": "c2d4af54-4ed2-41aa-a9e0-e45ad02dd567",
   "metadata": {},
   "source": [
    "# What if I want to repeat an action?\n",
    "\n"
   ]
  },
  {
   "cell_type": "code",
   "execution_count": 7,
   "id": "e46778c6-5703-4024-a243-2e18ecf6e741",
   "metadata": {},
   "outputs": [
    {
     "name": "stdout",
     "output_type": "stream",
     "text": [
      "Hooray for Python!\n",
      "Hooray for Python!\n",
      "Hooray for Python!\n"
     ]
    }
   ],
   "source": [
    "# I'm in a great mood -- hooray for Python!\n",
    "\n",
    "print('Hooray for Python!')\n",
    "print('Hooray for Python!')\n",
    "print('Hooray for Python!')\n"
   ]
  },
  {
   "cell_type": "code",
   "execution_count": 8,
   "id": "0f66a526-7b39-47bd-8c0e-3ce4efb48d1b",
   "metadata": {},
   "outputs": [
    {
     "ename": "TypeError",
     "evalue": "'int' object is not iterable",
     "output_type": "error",
     "traceback": [
      "\u001b[1;31m---------------------------------------------------------------------------\u001b[0m",
      "\u001b[1;31mTypeError\u001b[0m                                 Traceback (most recent call last)",
      "Cell \u001b[1;32mIn[8], line 3\u001b[0m\n\u001b[0;32m      1\u001b[0m \u001b[38;5;66;03m# we can use a loop to DRY up this code:\u001b[39;00m\n\u001b[1;32m----> 3\u001b[0m \u001b[38;5;28;01mfor\u001b[39;00m counter \u001b[38;5;129;01min\u001b[39;00m \u001b[38;5;241m3\u001b[39m:\n\u001b[0;32m      4\u001b[0m     \u001b[38;5;28mprint\u001b[39m(\u001b[38;5;124m'\u001b[39m\u001b[38;5;124mHooray for Python!\u001b[39m\u001b[38;5;124m'\u001b[39m)\n",
      "\u001b[1;31mTypeError\u001b[0m: 'int' object is not iterable"
     ]
    }
   ],
   "source": [
    "# we can use a loop to DRY up this code:\n",
    "\n",
    "for counter in 3:\n",
    "    print('Hooray for Python!')"
   ]
  },
  {
   "cell_type": "markdown",
   "id": "db7fe3de-2feb-4410-bbc4-3d4b7591e2c1",
   "metadata": {},
   "source": [
    "# Strings are iterable, but numbers aren't\n",
    "\n",
    "If you try to iterate over a number (an integer or float), you'll get an error.\n",
    "\n",
    "How can you iterate a certain number of times? \n",
    "\n",
    "We can't directly iterate over an integer, as we've seen. Instead, we need to iterate over a *range*. `range` is the special builtin that creates such ranges for us.\n",
    "\n",
    "The easiest way to use `range` is to call it with an integer argument, indicating how many times you want it to execute."
   ]
  },
  {
   "cell_type": "code",
   "execution_count": 13,
   "id": "47578933-badd-4161-9167-95fdabcaadde",
   "metadata": {},
   "outputs": [
    {
     "name": "stdout",
     "output_type": "stream",
     "text": [
      "Hooray for Python!\n",
      "Hooray for Python!\n",
      "Hooray for Python!\n"
     ]
    }
   ],
   "source": [
    "# this is how you iterate a certain number of times!\n",
    "\n",
    "for count in range(3):\n",
    "    print('Hooray for Python!')"
   ]
  },
  {
   "cell_type": "code",
   "execution_count": 14,
   "id": "e223696c-0cb2-4584-a410-a14a94d76edb",
   "metadata": {},
   "outputs": [
    {
     "name": "stdout",
     "output_type": "stream",
     "text": [
      "[0] Hooray for Python!\n",
      "[1] Hooray for Python!\n",
      "[2] Hooray for Python!\n"
     ]
    }
   ],
   "source": [
    "# what about count? We have a loop variable there, but what is its value with each iteration?\n",
    "# count actually does get a value with each iteration -- it starts at 0, and goes up by 1, one at a time\n",
    "\n",
    "for count in range(3):\n",
    "    print(f'[{count}] Hooray for Python!')\n"
   ]
  },
  {
   "cell_type": "markdown",
   "id": "32609378-02c7-4130-a64f-7c10d2c068ac",
   "metadata": {},
   "source": [
    "Just as a string's length is n, but its maximum index is n-1, so too will `range` return 3 elements, and they will be numbered 0, 1, and 2 -- the maximum being the range argument - 1."
   ]
  },
  {
   "cell_type": "code",
   "execution_count": 15,
   "id": "fbfdb98b-e45f-44a6-a99b-6098e24b8e82",
   "metadata": {},
   "outputs": [
    {
     "data": {
      "text/plain": [
       "'HoorayHoorayHoorayHoorayHoorayHooray'"
      ]
     },
     "execution_count": 15,
     "metadata": {},
     "output_type": "execute_result"
    }
   ],
   "source": [
    "'Hooray' * 6   # this will work!\n"
   ]
  },
  {
   "cell_type": "code",
   "execution_count": 16,
   "id": "d785bb27-2934-4f6d-8959-fd34c7c745f1",
   "metadata": {},
   "outputs": [
    {
     "name": "stdout",
     "output_type": "stream",
     "text": [
      "Hooray\n"
     ]
    },
    {
     "ename": "TypeError",
     "evalue": "unsupported operand type(s) for *: 'NoneType' and 'int'",
     "output_type": "error",
     "traceback": [
      "\u001b[1;31m---------------------------------------------------------------------------\u001b[0m",
      "\u001b[1;31mTypeError\u001b[0m                                 Traceback (most recent call last)",
      "Cell \u001b[1;32mIn[16], line 1\u001b[0m\n\u001b[1;32m----> 1\u001b[0m \u001b[38;5;28;43mprint\u001b[39;49m\u001b[43m(\u001b[49m\u001b[38;5;124;43m'\u001b[39;49m\u001b[38;5;124;43mHooray\u001b[39;49m\u001b[38;5;124;43m'\u001b[39;49m\u001b[43m)\u001b[49m\u001b[43m \u001b[49m\u001b[38;5;241;43m*\u001b[39;49m\u001b[43m \u001b[49m\u001b[38;5;241;43m6\u001b[39;49m\n",
      "\u001b[1;31mTypeError\u001b[0m: unsupported operand type(s) for *: 'NoneType' and 'int'"
     ]
    }
   ],
   "source": [
    "print('Hooray') * 6"
   ]
  },
  {
   "cell_type": "markdown",
   "id": "9123ae27-dc1f-4f5f-8495-57d666ec168e",
   "metadata": {},
   "source": [
    "# Some reminders/hints\n",
    "\n",
    "1. You can get the length of a string with the `len` function.\n",
    "2. You can get a `range` by invoking `range` on an integer. That integer can be hard-coded or it can come from another function or method (yes, this is a hint!)\n",
    "3. You can get a \"slice\" (substring) from a string with `s[start:end]`, where `end` is 1 past the index you want.\n",
    "4. You cannot give a single index beyond the bounds of a string (e.g., you cannot say `s[100000]`) but you can give it a bit of leeway on a slice (i.e., the first or last index can be beyond the bounds).\n",
    "\n",
    "# Exercise: Name triangle\n",
    "\n",
    "1. Ask the user to enter their name.\n",
    "2. Print a triangle with their name -- first, just the first letter. Then the first two. Then the first three. Etc. Until you get to the full name.\n",
    "\n",
    "Example:\n",
    "\n",
    "    Enter your name: Reuven\n",
    "    R\n",
    "    Re\n",
    "    Reu\n",
    "    Reuv\n",
    "    Reuve\n",
    "    Reuven\n",
    "\n",
    "No blank lines and also ensure that the full name is printed at the end.    "
   ]
  },
  {
   "cell_type": "code",
   "execution_count": 17,
   "id": "4fcb9354-f061-462f-861d-bf1ed63ad3de",
   "metadata": {},
   "outputs": [
    {
     "name": "stdout",
     "output_type": "stream",
     "text": [
      "R\n",
      "Re\n",
      "Reu\n",
      "Reuv\n",
      "Reuve\n",
      "Reuven\n"
     ]
    }
   ],
   "source": [
    "name = 'Reuven'\n",
    "\n",
    "# how can I print a name triangle?\n",
    "print(name[:1])   # index 0\n",
    "print(name[:2])   # indexes 0+1\n",
    "print(name[:3])   # indexes 0+1+2\n",
    "print(name[:4])   # indexes 0+1+2+3\n",
    "print(name[:5])   # indexes 0+1+2+3+4\n",
    "print(name[:6])   # indexes 0+1+2+3+4+5"
   ]
  },
  {
   "cell_type": "code",
   "execution_count": 20,
   "id": "c923e9b2-2e18-4c7e-bd41-37d2b5351613",
   "metadata": {},
   "outputs": [
    {
     "name": "stdout",
     "output_type": "stream",
     "text": [
      "R\n",
      "Re\n",
      "Reu\n",
      "Reuv\n",
      "Reuve\n",
      "Reuven\n"
     ]
    }
   ],
   "source": [
    "# how can I accomplish this with a for loop?\n",
    "\n",
    "for index in range(6):     # iterate 6 times, getting the numbers 0-5\n",
    "    print(name[:index+1])  # take that number, add 1 to it, and set it to be the max index"
   ]
  },
  {
   "cell_type": "code",
   "execution_count": 22,
   "id": "f0c50e9f-1448-4c0c-a255-f6994ffec0dc",
   "metadata": {},
   "outputs": [
    {
     "name": "stdin",
     "output_type": "stream",
     "text": [
      "Enter your name:  something else entirely\n"
     ]
    },
    {
     "name": "stdout",
     "output_type": "stream",
     "text": [
      "s\n",
      "so\n",
      "som\n",
      "some\n",
      "somet\n",
      "someth\n",
      "somethi\n",
      "somethin\n",
      "something\n",
      "something \n",
      "something e\n",
      "something el\n",
      "something els\n",
      "something else\n",
      "something else \n",
      "something else e\n",
      "something else en\n",
      "something else ent\n",
      "something else enti\n",
      "something else entir\n",
      "something else entire\n",
      "something else entirel\n",
      "something else entirely\n"
     ]
    }
   ],
   "source": [
    "# let's make it general for all names\n",
    "\n",
    "name = input('Enter your name: ').strip()\n",
    "\n",
    "for index in range(len(name)):     # iterate 6 times, getting the numbers 0-5\n",
    "    print(name[:index+1])          # take that number, add 1 to it, and set it to be the max index"
   ]
  },
  {
   "cell_type": "code",
   "execution_count": 23,
   "id": "718bd1fb-ab43-48a0-8a6d-d5db1ca60f15",
   "metadata": {},
   "outputs": [
    {
     "name": "stdin",
     "output_type": "stream",
     "text": [
      "What is your name?  Reuven\n"
     ]
    },
    {
     "name": "stdout",
     "output_type": "stream",
     "text": [
      "R\n",
      "Re\n",
      "Reu\n",
      "Reuv\n",
      "Reuve\n",
      "Reuven\n"
     ]
    }
   ],
   "source": [
    "name=input('What is your name? ').strip() \n",
    "\n",
    "total = 0\n",
    "\n",
    "for numOfLetters in name:\n",
    "    total+=1\n",
    "    print(name[:total])"
   ]
  },
  {
   "cell_type": "markdown",
   "id": "2fae2625-1cb5-4533-b278-d42452b0b81a",
   "metadata": {},
   "source": [
    "What happened in this exercise?\n",
    "\n",
    "Our goal was to have the numbers we would need for slices on our string, one after another:\n",
    "\n",
    "```python\n",
    "print(name[:1])   # indexes 0\n",
    "print(name[:2])   # indexes 0+1\n",
    "print(name[:3])   # indexes 0+1+2\n",
    "print(name[:4])   # indexes 0+1+2+3\n",
    "print(name[:5])   # indexes 0+1+2+3+4\n",
    "print(name[:6])   # indexes 0+1+2+3+4+5\n",
    "```\n",
    "\n",
    "Basically, I'll need to iterate such that I start with 1, and get up to 6.  Whatever number I get will then be used in the endpoint of the slice to give me what I want.\n",
    "\n",
    "I have a few ways to do that:\n",
    "\n",
    "1. Iterate over `range`. But `range` starts with 0. So you can ask for `range` from 0 through 5, and then add 1 to its result. That was my solution:\n",
    "\n",
    "```python\n",
    "for index in range(len(name)):\n",
    "    print(name[:index+1])\n",
    "```\n",
    "\n",
    "2. Iterate over the characters in `name`. But ignore the characters, and use them just to add numbers to the `total` variable. `total` will then contain the slice endpoint:\n",
    "\n",
    "```python\n",
    "total = 0\n",
    "\n",
    "for numOfLetters in name:\n",
    "    total+=1\n",
    "    print(name[:total])\n",
    "```\n",
    "\n"
   ]
  },
  {
   "cell_type": "markdown",
   "id": "45f48f7f-a54d-42b9-93f0-ce86efc14afe",
   "metadata": {},
   "source": [
    "# Next up\n",
    "\n",
    "- where's the index?\n",
    "- `while` loops\n",
    "- `break` -- to exit a loop early\n",
    "\n"
   ]
  },
  {
   "cell_type": "markdown",
   "id": "0d524d58-d154-4bb4-93f3-971ee0ea75ea",
   "metadata": {},
   "source": [
    "In languages like C, `for` loops work very differently:\n",
    "\n",
    "- We start with a variable assigned to an integer (say, 0)\n",
    "- We have a condition saying when we should stop (say, `< 5`)\n",
    "- We say what should happen to our variable with each iteration\n",
    "\n",
    "This means that loops in C are always using integers. Those integers are the indexes. We use the indexes to retrieve values from our strings and other data structures.\n",
    "\n",
    "In other words, C doesn't have a facility to give me the characters of a string one by one. So I need to use the indexes to retrieve them.\n",
    "\n",
    "Python gives me the characters. And besides, most of the time, I'm not interested in the indexes. I'm interested in the characters. Python supplies this -- why mess with the index?\n",
    "\n",
    "Sometimes we want the index, as in this example. Sometimes for other reasons.\n",
    "\n",
    "How can I do it in Python?"
   ]
  },
  {
   "cell_type": "code",
   "execution_count": 24,
   "id": "24d0e24f-e62f-4ebb-8aa3-c07c57896904",
   "metadata": {},
   "outputs": [
    {
     "name": "stdout",
     "output_type": "stream",
     "text": [
      "0: a\n",
      "1: b\n",
      "2: c\n",
      "3: d\n",
      "4: e\n"
     ]
    }
   ],
   "source": [
    "# option 1 -- calculate it manually\n",
    "\n",
    "index = 0\n",
    "s = 'abcde'\n",
    "\n",
    "for one_character in s:\n",
    "    print(f'{index}: {one_character}')\n",
    "    index += 1"
   ]
  },
  {
   "cell_type": "code",
   "execution_count": 25,
   "id": "05326921-c749-4e1e-8dbf-9ee0ba111522",
   "metadata": {},
   "outputs": [
    {
     "name": "stdout",
     "output_type": "stream",
     "text": [
      "0: a\n",
      "1: b\n",
      "2: c\n",
      "3: d\n",
      "4: e\n"
     ]
    }
   ],
   "source": [
    "# option 2 -- use Python's \"enumerate\" function\n",
    "# enumerate is meant to be called (a) in a loop (b) with an iterable \n",
    "\n",
    "# we call enumerate, passing it the iterable as an argument\n",
    "# we get back not only the original elements, but also their indexes\n",
    "# the for loop is going to look REALLY weird\n",
    "\n",
    "s = 'abcde'\n",
    "\n",
    "for index, one_character in enumerate(s):    # we now have *TWO* loop variables! enumerate sets both\n",
    "    print(f'{index}: {one_character}')"
   ]
  },
  {
   "cell_type": "markdown",
   "id": "00893f5b-fd69-4246-9894-3f0f6a885a5c",
   "metadata": {},
   "source": [
    "# `while` loops\n",
    "\n",
    "When we use a `for` loop, it's because we want to do the same thing for each element of a string (or any other iterable data structure). But sometimes, I don't want to repeat code once for every element. Rather, I don't know how many times I'll need to repeat the code. I know, though, when I'll want to stop.\n",
    "\n",
    "In such cases, we use a `while` loop:\n",
    "\n",
    "- `while` loops are a lot like `if` statements\n",
    "- The big difference is that `if` statements, when their condition is `True`, execute their block once. `while` loops, by contrast, execute their block again and again, stopping only when the condition is `False`.\n",
    "- This allows us to execute a loop any number of times, without knowing in advance when it'll stop, but knowing that when it does, our condition has been met.\n",
    "\n"
   ]
  },
  {
   "cell_type": "code",
   "execution_count": 26,
   "id": "41a487fc-ca86-4bf5-84b4-7833ce4e7b2a",
   "metadata": {},
   "outputs": [
    {
     "name": "stdout",
     "output_type": "stream",
     "text": [
      "5\n",
      "4\n",
      "3\n",
      "2\n",
      "1\n"
     ]
    }
   ],
   "source": [
    "# example while loop\n",
    "\n",
    "x = 5\n",
    "\n",
    "while x > 0:\n",
    "    print(x)\n",
    "    x -= 1    # this means: x = x - 1, aka reduce x by 1"
   ]
  },
  {
   "cell_type": "markdown",
   "id": "51781857-4058-40ff-81b6-298e458af464",
   "metadata": {},
   "source": [
    "# Exercise: Sum to 100\n",
    "\n",
    "1. Define `total` to be 0.\n",
    "2. Ask the user to enter a number.\n",
    "3. (Optional: If the entered string isn't numeric, then scold them and let them try again.)\n",
    "4. Add the number to `total`.\n",
    "5. Keep asking until `total` is 100 or more. At that point, you can stop asking.\n",
    "6. Print `total`."
   ]
  },
  {
   "cell_type": "code",
   "execution_count": 30,
   "id": "5458b98c-cddd-4551-b875-8f8bd14b2b49",
   "metadata": {},
   "outputs": [
    {
     "name": "stdout",
     "output_type": "stream",
     "text": [
      "\tTotal is currently 0\n"
     ]
    },
    {
     "name": "stdin",
     "output_type": "stream",
     "text": [
      "Enter a number:  20\n"
     ]
    },
    {
     "name": "stdout",
     "output_type": "stream",
     "text": [
      "\tTotal is currently 20\n"
     ]
    },
    {
     "name": "stdin",
     "output_type": "stream",
     "text": [
      "Enter a number:  30\n"
     ]
    },
    {
     "name": "stdout",
     "output_type": "stream",
     "text": [
      "\tTotal is currently 50\n"
     ]
    },
    {
     "name": "stdin",
     "output_type": "stream",
     "text": [
      "Enter a number:  49\n"
     ]
    },
    {
     "name": "stdout",
     "output_type": "stream",
     "text": [
      "\tTotal is currently 99\n"
     ]
    },
    {
     "name": "stdin",
     "output_type": "stream",
     "text": [
      "Enter a number:  100000\n"
     ]
    },
    {
     "name": "stdout",
     "output_type": "stream",
     "text": [
      "total = 100099\n"
     ]
    }
   ],
   "source": [
    "total = 0\n",
    "\n",
    "while total < 100:\n",
    "    print(f'\\tTotal is currently {total}')\n",
    "    s = input('Enter a number: ')\n",
    "    total += int(s)   # get an int based on s, then add that to total\n",
    "\n",
    "print(f'total = {total}')"
   ]
  },
  {
   "cell_type": "markdown",
   "id": "ba988679-97de-4ee0-ba57-2fc11ee5b1de",
   "metadata": {},
   "source": [
    "# Stopping a loop early\n",
    "\n",
    "- `for` loops, as we've seen, will go through all of the elements of an iterable\n",
    "- `while` loops will go until the condition is `False`\n",
    "\n",
    "What if we want to stop the loop early, because we have achieved our goals?\n",
    "\n",
    "What if we want to stop the current iteration early, and then go onto the next one?\n",
    "\n",
    "We have two special statements we can use in Python, inside of loops, for exactly those reasons:\n",
    "\n",
    "- `break` -- this exits the loop completely, right away, no questions. If you have a \"nested loop,\" one inside of another, then it breaks out of the innermost loop that it is inside. Execute continues right after that loop's end.\n",
    "- `continue` -- this exits the current iteration, but then goes back for the next one."
   ]
  },
  {
   "cell_type": "code",
   "execution_count": 32,
   "id": "0c365296-1c8d-4e79-9e60-0c6170f878f5",
   "metadata": {},
   "outputs": [
    {
     "name": "stdout",
     "output_type": "stream",
     "text": [
      "a\n",
      "b\n",
      "c\n",
      "Done!\n"
     ]
    }
   ],
   "source": [
    "# let's pretend that there is no \"in\" operator in Python\n",
    "# I have a string, and want to know whether a character is in that string\n",
    "\n",
    "s = 'abcde'\n",
    "look_for = 'd'  \n",
    "\n",
    "for one_character in s:\n",
    "    if look_for == one_character:  # have we found what we want?\n",
    "        break\n",
    "\n",
    "    print(one_character)\n",
    "\n",
    "print('Done!')"
   ]
  },
  {
   "cell_type": "code",
   "execution_count": 33,
   "id": "1882b43c-b12f-47a6-9b2e-c6eb198fe475",
   "metadata": {},
   "outputs": [
    {
     "name": "stdout",
     "output_type": "stream",
     "text": [
      "a\n",
      "b\n",
      "c\n",
      "e\n",
      "Done!\n"
     ]
    }
   ],
   "source": [
    "# let's pretend that there is no \"in\" operator in Python\n",
    "# I have a string, and want to know whether a character is in that string\n",
    "\n",
    "# in this version, we don't want to print the look_for character, but don't want to stop the loop, either.\n",
    "\n",
    "# I typically use \"continue\" in a loop when there are certain values that I just want to ignore.\n",
    "# rather than having a huge if/else inside of the loop, I can do an if/continue, and then the rest of the loop\n",
    "# body is basically the \"else\"\n",
    "\n",
    "s = 'abcde'\n",
    "look_for = 'd'  \n",
    "\n",
    "for one_character in s:\n",
    "    if look_for == one_character:  # have we found what we want?\n",
    "        continue  # go onto the next iteration right away\n",
    "\n",
    "    print(one_character)\n",
    "\n",
    "print('Done!')"
   ]
  },
  {
   "cell_type": "code",
   "execution_count": 36,
   "id": "f5991c09-dac9-47d6-911b-48faaa038b60",
   "metadata": {},
   "outputs": [
    {
     "name": "stdout",
     "output_type": "stream",
     "text": [
      "\tTotal is currently 0\n"
     ]
    },
    {
     "name": "stdin",
     "output_type": "stream",
     "text": [
      "Enter a number:  10\n"
     ]
    },
    {
     "name": "stdout",
     "output_type": "stream",
     "text": [
      "\tTotal is currently 10\n"
     ]
    },
    {
     "name": "stdin",
     "output_type": "stream",
     "text": [
      "Enter a number:  20\n"
     ]
    },
    {
     "name": "stdout",
     "output_type": "stream",
     "text": [
      "\tTotal is currently 30\n"
     ]
    },
    {
     "name": "stdin",
     "output_type": "stream",
     "text": [
      "Enter a number:  hello\n"
     ]
    },
    {
     "name": "stdout",
     "output_type": "stream",
     "text": [
      "\tTotal is currently 30\n"
     ]
    },
    {
     "name": "stdin",
     "output_type": "stream",
     "text": [
      "Enter a number:  90\n"
     ]
    },
    {
     "name": "stdout",
     "output_type": "stream",
     "text": [
      "total = 120\n"
     ]
    }
   ],
   "source": [
    "total = 0\n",
    "\n",
    "while total < 100:\n",
    "    print(f'\\tTotal is currently {total}')\n",
    "    s = input('Enter a number: ')\n",
    "\n",
    "    if not s.isdigit():    # did we get a non-numeric input? go onto the next iteration\n",
    "        continue\n",
    "\n",
    "    total += int(s)   # get an int based on s, then add that to total\n",
    "\n",
    "print(f'total = {total}')"
   ]
  },
  {
   "cell_type": "markdown",
   "id": "3538d23c-c94f-42dd-82b1-b2d4c66dae2b",
   "metadata": {},
   "source": [
    "# `break` and `continue`\n",
    "\n",
    "If a loop contains `break`, then the loop ends right away. Execution continues right after the loop body's end.  `break` is typically used when you have achieved a goal, and don't need to execute the loop again.\n",
    "\n",
    "If a loop contains `continue`, then the current iteration and execution of the loop body ends right away. But we continue with the next iteration of the loop -- we haven't exited the loop, just this iteration."
   ]
  },
  {
   "cell_type": "code",
   "execution_count": 37,
   "id": "599708fa-1924-4966-82fc-d60dc9c7eaf1",
   "metadata": {},
   "outputs": [
    {
     "name": "stdin",
     "output_type": "stream",
     "text": [
      "Enter your name:  Reuven\n"
     ]
    },
    {
     "name": "stdout",
     "output_type": "stream",
     "text": [
      "Hello, Reuven!\n"
     ]
    },
    {
     "name": "stdin",
     "output_type": "stream",
     "text": [
      "Enter your name:  out there\n"
     ]
    },
    {
     "name": "stdout",
     "output_type": "stream",
     "text": [
      "Hello, out there!\n"
     ]
    },
    {
     "name": "stdin",
     "output_type": "stream",
     "text": [
      "Enter your name:  whatever\n"
     ]
    },
    {
     "name": "stdout",
     "output_type": "stream",
     "text": [
      "Hello, whatever!\n"
     ]
    },
    {
     "name": "stdin",
     "output_type": "stream",
     "text": [
      "Enter your name:  whoever\n"
     ]
    },
    {
     "name": "stdout",
     "output_type": "stream",
     "text": [
      "Hello, whoever!\n"
     ]
    },
    {
     "name": "stdin",
     "output_type": "stream",
     "text": [
      "Enter your name:  I'm done!\n"
     ]
    },
    {
     "name": "stdout",
     "output_type": "stream",
     "text": [
      "Hello, I'm done!!\n"
     ]
    },
    {
     "name": "stdin",
     "output_type": "stream",
     "text": [
      "Enter your name:  \n"
     ]
    }
   ],
   "source": [
    "while True:     # this is scary looking -- it's an infinite loop!\n",
    "    name = input('Enter your name: ').strip()\n",
    "\n",
    "    if name == '':   # empty string (not to be confused with ' ', which has a space in it)\n",
    "        break\n",
    "\n",
    "    print(f'Hello, {name}!')"
   ]
  },
  {
   "cell_type": "markdown",
   "id": "013257ff-2d78-45a2-8512-50a38713f351",
   "metadata": {},
   "source": [
    "# Exercise: Sum digits\n",
    "\n",
    "1. Set `total` to be 0.\n",
    "2. Ask the user, repeatedly, to enter a string containing digits.\n",
    "    - If the string is empty, then stop asking -- break out of the loop\n",
    "3. Go through each digit, one at a time.\n",
    "    - If the digit isn't really a digit, then scold the user and go onto the next one\n",
    "    - If it is a digit, then turn it into an integer and add to `total`.\n",
    "4. Print `total`\n",
    "\n",
    "This is a *nested* loop (sort of) -- a `for` loop (going through each character the user entered) inside of a `while` loop (asking the user for repeated inputs).\n",
    "\n",
    "Example:\n",
    "\n",
    "    Enter some digits: 123\n",
    "    Enter some digits: 4x5\n",
    "    x is not numeric!\n",
    "    Enter some digits: [ENTER]\n",
    "    Total is 15"
   ]
  },
  {
   "cell_type": "code",
   "execution_count": 38,
   "id": "db581976-6c1c-4e90-918e-ce14ec8dbc70",
   "metadata": {
    "scrolled": true
   },
   "outputs": [
    {
     "name": "stdin",
     "output_type": "stream",
     "text": [
      "Enter some digits:  123\n",
      "Enter some digits:  4x5\n"
     ]
    },
    {
     "name": "stdout",
     "output_type": "stream",
     "text": [
      "x is not numeric!\n"
     ]
    },
    {
     "name": "stdin",
     "output_type": "stream",
     "text": [
      "Enter some digits:  \n"
     ]
    },
    {
     "name": "stdout",
     "output_type": "stream",
     "text": [
      "total = 15\n"
     ]
    }
   ],
   "source": [
    "total = 0\n",
    "\n",
    "while True:     \n",
    "    s = input('Enter some digits: ').strip()\n",
    "\n",
    "    if s == '':   # there is nothing between these quotes -- it's really the *EMPTY* string!\n",
    "        break\n",
    "\n",
    "    for one_character in s:\n",
    "        if not one_character.isdigit():   # if this isn't 0-9... \n",
    "            print(f'{one_character} is not numeric!')\n",
    "            continue\n",
    "\n",
    "        total += int(one_character)\n",
    "\n",
    "print(f'total = {total}')"
   ]
  },
  {
   "cell_type": "code",
   "execution_count": 39,
   "id": "a511104c-0f05-4ec5-bfb4-8da727be5173",
   "metadata": {},
   "outputs": [
    {
     "ename": "TypeError",
     "evalue": "unsupported operand type(s) for +=: 'int' and 'str'",
     "output_type": "error",
     "traceback": [
      "\u001b[1;31m---------------------------------------------------------------------------\u001b[0m",
      "\u001b[1;31mTypeError\u001b[0m                                 Traceback (most recent call last)",
      "Cell \u001b[1;32mIn[39], line 3\u001b[0m\n\u001b[0;32m      1\u001b[0m total \u001b[38;5;241m=\u001b[39m \u001b[38;5;241m5\u001b[39m\n\u001b[1;32m----> 3\u001b[0m \u001b[43mtotal\u001b[49m\u001b[43m \u001b[49m\u001b[38;5;241;43m+\u001b[39;49m\u001b[38;5;241;43m=\u001b[39;49m\u001b[43m \u001b[49m\u001b[38;5;124;43m'\u001b[39;49m\u001b[38;5;124;43m3\u001b[39;49m\u001b[38;5;124;43m'\u001b[39;49m   \u001b[38;5;66;03m# here, I'm trying to add a string \u001b[39;00m\n",
      "\u001b[1;31mTypeError\u001b[0m: unsupported operand type(s) for +=: 'int' and 'str'"
     ]
    }
   ],
   "source": [
    "total = 5\n",
    "\n",
    "total += '3'   # here, I'm trying to add a string "
   ]
  },
  {
   "cell_type": "code",
   "execution_count": 41,
   "id": "6b763943-8cc7-4ee8-8288-dc4cb28ebf21",
   "metadata": {},
   "outputs": [
    {
     "data": {
      "text/plain": [
       "8"
      ]
     },
     "execution_count": 41,
     "metadata": {},
     "output_type": "execute_result"
    }
   ],
   "source": [
    "total = 5\n",
    "\n",
    "total += int('3')  # now we're adding the int based on the digit '3' which is a string\n",
    "total"
   ]
  },
  {
   "cell_type": "markdown",
   "id": "3d9bfbef-c1b2-4db4-909f-ed814e06987a",
   "metadata": {},
   "source": [
    "# Next up:\n",
    "\n",
    "1. Lists\n",
    "2. Creating lists\n",
    "3. Working with lists\n",
    "4. List methods\n",
    "\n"
   ]
  },
  {
   "cell_type": "markdown",
   "id": "863d3dfd-3e44-4d68-a3c3-587776863163",
   "metadata": {},
   "source": [
    "# Lists\n",
    "\n",
    "Lists are the default collection in Python -- they allow us to take a bunch of other objects, and treat them as one. Sort of like how a directory/folder allows you to treat individual files as one on your computer.\n",
    "\n",
    "Lists are very similar to what other languages call \"arrays,\" but they aren't really arrays for some specific technical reasons.\n",
    "\n",
    "We'll use lists for:\n",
    "\n",
    "- a bunch of numbers\n",
    "- a bunch of words\n",
    "- a bunch of filenames\n",
    "- a bunch of users\n",
    "- a bunch of database records\n",
    "- a bunch of temperature readings\n",
    "\n",
    "Even though we could technically use a list for a bunch of different things -- some strings, some integers, even some lists -- traditionally, we make sure that a Python list contains only elements of one type."
   ]
  },
  {
   "cell_type": "code",
   "execution_count": 42,
   "id": "a82b1237-1106-437f-8d9d-5a4fda645a2c",
   "metadata": {},
   "outputs": [],
   "source": [
    "# let's create a list!\n",
    "# this list contains 10 elements\n",
    "# every element is an integer\n",
    "# elements are separated by ,\n",
    "# around the outside of the list, we use []\n",
    "\n",
    "mylist = [10, 20, 30, 40, 50, 60, 70, 80, 90, 100]"
   ]
  },
  {
   "cell_type": "code",
   "execution_count": 43,
   "id": "1402b30a-b32f-427d-9f25-ea09d3f680e6",
   "metadata": {},
   "outputs": [
    {
     "data": {
      "text/plain": [
       "10"
      ]
     },
     "execution_count": 43,
     "metadata": {},
     "output_type": "execute_result"
    }
   ],
   "source": [
    "# there are *many* aspects of lists that are similar (or identical) to strings\n",
    "\n",
    "mylist[0]  # get the first element"
   ]
  },
  {
   "cell_type": "code",
   "execution_count": 44,
   "id": "0761f6c6-6b14-4a06-88e0-6ca89464eea1",
   "metadata": {},
   "outputs": [
    {
     "data": {
      "text/plain": [
       "20"
      ]
     },
     "execution_count": 44,
     "metadata": {},
     "output_type": "execute_result"
    }
   ],
   "source": [
    "mylist[1]  # get the 2nd element"
   ]
  },
  {
   "cell_type": "code",
   "execution_count": 45,
   "id": "38343e59-199c-4083-8903-fbb8801a80b0",
   "metadata": {},
   "outputs": [
    {
     "data": {
      "text/plain": [
       "100"
      ]
     },
     "execution_count": 45,
     "metadata": {},
     "output_type": "execute_result"
    }
   ],
   "source": [
    "mylist[-1]  # get the final element"
   ]
  },
  {
   "cell_type": "code",
   "execution_count": 46,
   "id": "5a8cb479-74ce-4a06-b39a-b46618586e20",
   "metadata": {},
   "outputs": [
    {
     "data": {
      "text/plain": [
       "10"
      ]
     },
     "execution_count": 46,
     "metadata": {},
     "output_type": "execute_result"
    }
   ],
   "source": [
    "len(mylist)   #how many elements are there, anyway?"
   ]
  },
  {
   "cell_type": "code",
   "execution_count": 49,
   "id": "cace5886-3723-4a21-8639-c52449b17a6e",
   "metadata": {},
   "outputs": [
    {
     "data": {
      "text/plain": [
       "[40, 50, 60]"
      ]
     },
     "execution_count": 49,
     "metadata": {},
     "output_type": "execute_result"
    }
   ],
   "source": [
    "mylist[3:6]  # from index 3 up to (and not including) index 6"
   ]
  },
  {
   "cell_type": "code",
   "execution_count": 50,
   "id": "7f17c18a-c2a1-471e-aa6f-42b041c084ec",
   "metadata": {},
   "outputs": [
    {
     "name": "stdout",
     "output_type": "stream",
     "text": [
      "10\n",
      "20\n",
      "30\n",
      "40\n",
      "50\n",
      "60\n",
      "70\n",
      "80\n",
      "90\n",
      "100\n"
     ]
    }
   ],
   "source": [
    "# use a for loop on a list:\n",
    "\n",
    "for one_item in mylist:\n",
    "    print(one_item)"
   ]
  },
  {
   "cell_type": "markdown",
   "id": "06de3f16-281c-4f34-938b-7cc1300f3e7e",
   "metadata": {},
   "source": [
    "# Exercise: Average high temperature\n",
    "\n",
    "1. Define a list, `high_temps`, with the forecast high temps for your city over the next 10 days.\n",
    "2. Calculate the average high temp during that period. Print the mean based on that.\n",
    "\n",
    "Mean, is the total divided by the number of values.  (Don't use `sum`, but a `for` loop instead!)"
   ]
  },
  {
   "cell_type": "code",
   "execution_count": 55,
   "id": "7e580ad8-dbe8-4cf5-8f1c-36c2d6b0158c",
   "metadata": {},
   "outputs": [
    {
     "data": {
      "text/plain": [
       "33.22"
      ]
     },
     "execution_count": 55,
     "metadata": {},
     "output_type": "execute_result"
    }
   ],
   "source": [
    "high_temps = [34, 33, 33, 33, 34, 32, 32, 33, 35]\n",
    "\n",
    "# this is a list of integers\n",
    "total = 0\n",
    "for one_temp in high_temps:\n",
    "    total += one_temp\n",
    "\n",
    "round(total / len(high_temps), 2)   # round the float to the nearest number, with 2 decimal points"
   ]
  },
  {
   "cell_type": "code",
   "execution_count": 53,
   "id": "2a56f729-137f-4b1c-b1e7-d881792ca37d",
   "metadata": {},
   "outputs": [
    {
     "ename": "TypeError",
     "evalue": "'str' object does not support item assignment",
     "output_type": "error",
     "traceback": [
      "\u001b[1;31m---------------------------------------------------------------------------\u001b[0m",
      "\u001b[1;31mTypeError\u001b[0m                                 Traceback (most recent call last)",
      "Cell \u001b[1;32mIn[53], line 4\u001b[0m\n\u001b[0;32m      1\u001b[0m \u001b[38;5;66;03m# remember that strings are immutable\u001b[39;00m\n\u001b[0;32m      3\u001b[0m s \u001b[38;5;241m=\u001b[39m \u001b[38;5;124m'\u001b[39m\u001b[38;5;124mabcde\u001b[39m\u001b[38;5;124m'\u001b[39m\n\u001b[1;32m----> 4\u001b[0m \u001b[43ms\u001b[49m\u001b[43m[\u001b[49m\u001b[38;5;241;43m0\u001b[39;49m\u001b[43m]\u001b[49m \u001b[38;5;241m=\u001b[39m \u001b[38;5;124m'\u001b[39m\u001b[38;5;124m!\u001b[39m\u001b[38;5;124m'\u001b[39m   \u001b[38;5;66;03m# this won't work!\u001b[39;00m\n",
      "\u001b[1;31mTypeError\u001b[0m: 'str' object does not support item assignment"
     ]
    }
   ],
   "source": [
    "# remember that strings are immutable\n",
    "\n",
    "s = 'abcde'\n",
    "s[0] = '!'   # this won't work!"
   ]
  },
  {
   "cell_type": "code",
   "execution_count": 56,
   "id": "b6d67269-0d92-403f-b8eb-69ddc8ff2a9d",
   "metadata": {},
   "outputs": [],
   "source": [
    "#  can we change lists?\n",
    "\n",
    "mylist = [10 ,20, 30 ,40, 50]\n",
    "\n",
    "mylist[0] = '!'"
   ]
  },
  {
   "cell_type": "code",
   "execution_count": 57,
   "id": "192cedac-66e8-4ff2-bc0a-5aad2933077e",
   "metadata": {},
   "outputs": [
    {
     "data": {
      "text/plain": [
       "['!', 20, 30, 40, 50]"
      ]
     },
     "execution_count": 57,
     "metadata": {},
     "output_type": "execute_result"
    }
   ],
   "source": [
    "mylist"
   ]
  },
  {
   "cell_type": "code",
   "execution_count": 58,
   "id": "d4168a4c-be60-4fbc-a925-4e8378761764",
   "metadata": {},
   "outputs": [],
   "source": [
    "# lists are mutable!  You can change their elements!"
   ]
  },
  {
   "cell_type": "code",
   "execution_count": 59,
   "id": "fed564c3-b1d5-40f9-8a8b-bf1bf1f0883c",
   "metadata": {},
   "outputs": [
    {
     "data": {
      "text/plain": [
       "['!', 20, 30, 40, 50, 60]"
      ]
     },
     "execution_count": 59,
     "metadata": {},
     "output_type": "execute_result"
    }
   ],
   "source": [
    "# lists are mutable (we can change their elements)\n",
    "# but we can also add new elements to them, and remove existing ones\n",
    "\n",
    "mylist.append(60)   # this means: add the integer 60 as a new element to the end of the list\n",
    "mylist"
   ]
  },
  {
   "cell_type": "code",
   "execution_count": 60,
   "id": "9587db8d-361f-46cd-8764-06bd6ce695a2",
   "metadata": {},
   "outputs": [
    {
     "data": {
      "text/plain": [
       "60"
      ]
     },
     "execution_count": 60,
     "metadata": {},
     "output_type": "execute_result"
    }
   ],
   "source": [
    "# how can I remove an element? Easiest way is with the list.pop method, which removes something\n",
    "# from the end of the list, and returns it\n",
    "\n",
    "mylist.pop()"
   ]
  },
  {
   "cell_type": "code",
   "execution_count": 61,
   "id": "bd954c77-869f-407c-bfe1-ad18ed89c55c",
   "metadata": {},
   "outputs": [
    {
     "data": {
      "text/plain": [
       "['!', 20, 30, 40, 50]"
      ]
     },
     "execution_count": 61,
     "metadata": {},
     "output_type": "execute_result"
    }
   ],
   "source": [
    "mylist"
   ]
  },
  {
   "cell_type": "code",
   "execution_count": 62,
   "id": "7e1c9032-b5fc-40b9-b236-045f5ebf3418",
   "metadata": {},
   "outputs": [
    {
     "data": {
      "text/plain": [
       "[10, 20, 30]"
      ]
     },
     "execution_count": 62,
     "metadata": {},
     "output_type": "execute_result"
    }
   ],
   "source": [
    "mylist = []    # empty list\n",
    "mylist.append(10)\n",
    "mylist.append(20)\n",
    "mylist.append(30)\n",
    "mylist"
   ]
  },
  {
   "cell_type": "markdown",
   "id": "1e75ba57-5a09-4f19-b7f0-16084e6b9902",
   "metadata": {},
   "source": [
    "Being able to append to a list means that I can use lists to accumulate information over the course of the program's run. "
   ]
  },
  {
   "cell_type": "markdown",
   "id": "b1c705f7-3686-4283-a5f2-3e410e874c91",
   "metadata": {},
   "source": [
    "# Exercise: Vowels, digits, and others\n",
    "\n",
    "1. Create three empty lists called `vowels`, `digits`, and `others`.\n",
    "2. Ask the user (once) to enter a string.\n",
    "3. Go through that string, one character at a time.\n",
    "    - If the current character is a vowel, append to the `vowels` list.\n",
    "    - If the current character is a digit, append to the `digits` list.\n",
    "    - In other cases, append to the `others` list.\n",
    "4. Print all three lists.\n",
    "\n",
    "Example:\n",
    "\n",
    "    Enter a string: hello! 123\n",
    "    vowels: ['e', 'o']\n",
    "    digits: ['1', '2', '3']\n",
    "    others: ['h', 'l', 'l', '!', ' ']"
   ]
  },
  {
   "cell_type": "code",
   "execution_count": 63,
   "id": "98e3d7cd-66e3-4d6d-9e1d-cc74f3a5934d",
   "metadata": {},
   "outputs": [
    {
     "name": "stdin",
     "output_type": "stream",
     "text": [
      "Enter a string:  hello! 123\n"
     ]
    },
    {
     "name": "stdout",
     "output_type": "stream",
     "text": [
      "h\n",
      "e\n",
      "l\n",
      "l\n",
      "o\n",
      "!\n",
      " \n",
      "1\n",
      "2\n",
      "3\n"
     ]
    }
   ],
   "source": [
    "vowels = []\n",
    "digits = []\n",
    "others = []\n",
    "\n",
    "s = input('Enter a string: ').strip()\n",
    "\n",
    "for one_character in s:\n",
    "    print(one_character)"
   ]
  },
  {
   "cell_type": "code",
   "execution_count": 64,
   "id": "f8bc4d5a-0811-4aeb-b12a-1485d4042abe",
   "metadata": {},
   "outputs": [
    {
     "name": "stdin",
     "output_type": "stream",
     "text": [
      "Enter a string:  hello! 123\n"
     ]
    },
    {
     "name": "stdout",
     "output_type": "stream",
     "text": [
      "h is something else\n",
      "e is a vowel\n",
      "l is something else\n",
      "l is something else\n",
      "o is a vowel\n",
      "! is something else\n",
      "  is something else\n",
      "1 is a digit\n",
      "2 is a digit\n",
      "3 is a digit\n"
     ]
    }
   ],
   "source": [
    "vowels = []\n",
    "digits = []\n",
    "others = []\n",
    "\n",
    "s = input('Enter a string: ').strip()\n",
    "\n",
    "for one_character in s:\n",
    "    if one_character in 'aeiou':   # is it a vowel?\n",
    "        print(f'{one_character} is a vowel')\n",
    "    elif one_character.isdigit():   # is it a digit?\n",
    "        print(f'{one_character} is a digit')\n",
    "    else:\n",
    "        print(f'{one_character} is something else')\n",
    "        "
   ]
  },
  {
   "cell_type": "code",
   "execution_count": 65,
   "id": "bc796afd-794b-4fe8-ad84-4f7d959c865f",
   "metadata": {},
   "outputs": [
    {
     "name": "stdin",
     "output_type": "stream",
     "text": [
      "Enter a string:  hello! 123\n"
     ]
    },
    {
     "name": "stdout",
     "output_type": "stream",
     "text": [
      "digits = ['1', '2', '3']\n",
      "vowels = ['e', 'o']\n",
      "others = ['h', 'l', 'l', '!', ' ']\n"
     ]
    }
   ],
   "source": [
    "vowels = []\n",
    "digits = []\n",
    "others = []\n",
    "\n",
    "s = input('Enter a string: ').strip()\n",
    "\n",
    "for one_character in s:\n",
    "    if one_character in 'aeiou':   # is it a vowel?\n",
    "        vowels.append(one_character)\n",
    "    elif one_character.isdigit():   # is it a digit?\n",
    "        digits.append(one_character)\n",
    "    else:\n",
    "        others.append(one_character)\n",
    "\n",
    "print(f'digits = {digits}')\n",
    "print(f'vowels = {vowels}')\n",
    "print(f'others = {others}')        "
   ]
  },
  {
   "cell_type": "code",
   "execution_count": 66,
   "id": "934b0486-617d-46f6-807d-48dc762be4e9",
   "metadata": {},
   "outputs": [
    {
     "data": {
      "text/plain": [
       "[10, 20, 30, [40, 50, 60]]"
      ]
     },
     "execution_count": 66,
     "metadata": {},
     "output_type": "execute_result"
    }
   ],
   "source": [
    "# adding more than one element to a list\n",
    "\n",
    "mylist = [10, 20, 30]\n",
    "mylist.append([40, 50, 60])  # what will happen?\n",
    "\n",
    "mylist"
   ]
  },
  {
   "cell_type": "code",
   "execution_count": 67,
   "id": "81a26c11-6a3f-4732-8221-eb337984b102",
   "metadata": {},
   "outputs": [
    {
     "data": {
      "text/plain": [
       "4"
      ]
     },
     "execution_count": 67,
     "metadata": {},
     "output_type": "execute_result"
    }
   ],
   "source": [
    "len(mylist)"
   ]
  },
  {
   "cell_type": "code",
   "execution_count": 68,
   "id": "6ae07dc9-03e6-4e04-afa4-d6bbc6e287a4",
   "metadata": {},
   "outputs": [
    {
     "data": {
      "text/plain": [
       "[10, 20, 30, 40, 50, 60]"
      ]
     },
     "execution_count": 68,
     "metadata": {},
     "output_type": "execute_result"
    }
   ],
   "source": [
    "# if we want to add multiple elements to a list, then we can either use a for loop + list.append\n",
    "# or we can use += \n",
    "\n",
    "# on a list, += runs a for loop on whatever is to our right\n",
    "\n",
    "mylist = [10, 20, 30]\n",
    "mylist += [40, 50, 60]   \n",
    "\n",
    "mylist"
   ]
  },
  {
   "cell_type": "code",
   "execution_count": 69,
   "id": "2fd42812-7a30-49ba-b873-56c6598cc69c",
   "metadata": {},
   "outputs": [
    {
     "data": {
      "text/plain": [
       "60"
      ]
     },
     "execution_count": 69,
     "metadata": {},
     "output_type": "execute_result"
    }
   ],
   "source": [
    "# I can remove an element from the end with list.pop:\n",
    "\n",
    "mylist.pop()"
   ]
  },
  {
   "cell_type": "code",
   "execution_count": 70,
   "id": "5b59e3af-9fab-4af8-b715-577a74ad6865",
   "metadata": {},
   "outputs": [
    {
     "data": {
      "text/plain": [
       "[10, 20, 30, 40, 50]"
      ]
     },
     "execution_count": 70,
     "metadata": {},
     "output_type": "execute_result"
    }
   ],
   "source": [
    "mylist"
   ]
  },
  {
   "cell_type": "code",
   "execution_count": 71,
   "id": "b0dc0300-2ab6-45da-bb82-87399ef79d1c",
   "metadata": {},
   "outputs": [
    {
     "data": {
      "text/plain": [
       "10"
      ]
     },
     "execution_count": 71,
     "metadata": {},
     "output_type": "execute_result"
    }
   ],
   "source": [
    "# I can also give list.pop an argument, the index I want to get rid of\n",
    "\n",
    "mylist.pop(0)    # remove the first element, and everything else moves down one index"
   ]
  },
  {
   "cell_type": "code",
   "execution_count": 72,
   "id": "bd6695b7-5205-4ee5-897d-4bce3efa4b55",
   "metadata": {},
   "outputs": [
    {
     "data": {
      "text/plain": [
       "[20, 30, 40, 50]"
      ]
     },
     "execution_count": 72,
     "metadata": {},
     "output_type": "execute_result"
    }
   ],
   "source": [
    "mylist"
   ]
  },
  {
   "cell_type": "code",
   "execution_count": 73,
   "id": "b115fc3d-de8a-430d-961e-6cedf51b0161",
   "metadata": {},
   "outputs": [
    {
     "data": {
      "text/plain": [
       "True"
      ]
     },
     "execution_count": 73,
     "metadata": {},
     "output_type": "execute_result"
    }
   ],
   "source": [
    "30 in mylist   # will this work?"
   ]
  },
  {
   "cell_type": "markdown",
   "id": "866490f9-1acc-4612-9656-7425a1afcfa0",
   "metadata": {},
   "source": [
    "# Next up\n",
    "\n",
    "- Splitting strings into lists\n",
    "- Joining lists into strings\n",
    "- A tiny bit about tuples\n",
    "- Tuple unpacking"
   ]
  },
  {
   "cell_type": "markdown",
   "id": "e5c4f85f-1de7-46a6-9423-8fce386ba74d",
   "metadata": {},
   "source": [
    "# Getting one type from another\n",
    "\n",
    "We've already seen that if we have a value, we can get it converted to another type by invoking the new type as a function.\n",
    "\n",
    "```python\n",
    "int('5')     # returns an integer, 5\n",
    "float('5')   # returns a float, 5.0\n",
    "str(5)       # returns a string, '5'\n",
    "str(5.0)     # returns a string, '5.0'\n",
    "```"
   ]
  },
  {
   "cell_type": "code",
   "execution_count": 74,
   "id": "6fdb278a-e609-4b58-910f-d9cd4122d84f",
   "metadata": {},
   "outputs": [
    {
     "data": {
      "text/plain": [
       "['a', 'b', 'c', 'd']"
      ]
     },
     "execution_count": 74,
     "metadata": {},
     "output_type": "execute_result"
    }
   ],
   "source": [
    "# if I have a string, can I turn it into a list?\n",
    "\n",
    "s = 'abcd'\n",
    "list(s)    # I want a list, based on s"
   ]
  },
  {
   "cell_type": "code",
   "execution_count": 75,
   "id": "38f191b6-63ef-4bd3-989b-5cdd74b62358",
   "metadata": {},
   "outputs": [
    {
     "data": {
      "text/plain": [
       "['a', 'b', 'c', 'd', ':', 'e', 'f', ':', 'g', 'h', 'i', 'j']"
      ]
     },
     "execution_count": 75,
     "metadata": {},
     "output_type": "execute_result"
    }
   ],
   "source": [
    "s = 'abcd:ef:ghij'   # this looks like several fields we want to separate\n",
    "list(s)"
   ]
  },
  {
   "cell_type": "code",
   "execution_count": 76,
   "id": "86ebefa2-3867-4b99-b5ee-789d47aa5e82",
   "metadata": {},
   "outputs": [
    {
     "data": {
      "text/plain": [
       "['abcd', 'ef', 'ghij']"
      ]
     },
     "execution_count": 76,
     "metadata": {},
     "output_type": "execute_result"
    }
   ],
   "source": [
    "# how can we deal with this?\n",
    "# we can invoke the \"str.split\" method. It doesn't change the string (of course), but it does\n",
    "# return a new list of strings:\n",
    "\n",
    "s.split(':')   # this means: return a new list of strings, using ':' as the field separator, aka where to cut"
   ]
  },
  {
   "cell_type": "code",
   "execution_count": 77,
   "id": "df3d64a0-6bf6-4c11-8d38-0298eb116de6",
   "metadata": {},
   "outputs": [
    {
     "data": {
      "text/plain": [
       "['abc', ':ef:ghij']"
      ]
     },
     "execution_count": 77,
     "metadata": {},
     "output_type": "execute_result"
    }
   ],
   "source": [
    "s.split('d')   # weird, but it'll work!"
   ]
  },
  {
   "cell_type": "code",
   "execution_count": 78,
   "id": "248c3f1d-ad11-4b60-b7b0-c58a5ea85933",
   "metadata": {},
   "outputs": [
    {
     "data": {
      "text/plain": [
       "['abcd', 'ef', 'ghij']"
      ]
     },
     "execution_count": 78,
     "metadata": {},
     "output_type": "execute_result"
    }
   ],
   "source": [
    "s = 'abcd ef ghij'\n",
    "s.split(' ')"
   ]
  },
  {
   "cell_type": "code",
   "execution_count": 79,
   "id": "ba0b955a-b934-4031-ad3b-6dbd10ec42f6",
   "metadata": {},
   "outputs": [
    {
     "data": {
      "text/plain": [
       "['abcd', 'ef', 'ghij']"
      ]
     },
     "execution_count": 79,
     "metadata": {},
     "output_type": "execute_result"
    }
   ],
   "source": [
    "s = 'abcd,ef,ghij'  # sort of CSV file\n",
    "s.split(',')"
   ]
  },
  {
   "cell_type": "code",
   "execution_count": 80,
   "id": "005e67af-527e-4910-b6fa-284218688201",
   "metadata": {},
   "outputs": [
    {
     "data": {
      "text/plain": [
       "['this', 'is', 'a', 'bunch', 'of', 'words', 'for', 'my', 'course']"
      ]
     },
     "execution_count": 80,
     "metadata": {},
     "output_type": "execute_result"
    }
   ],
   "source": [
    "s = 'this is a bunch of words for my course'\n",
    "s.split(' ')"
   ]
  },
  {
   "cell_type": "code",
   "execution_count": 81,
   "id": "75b874f9-aa32-4749-8dda-49f08b1e3daa",
   "metadata": {},
   "outputs": [
    {
     "data": {
      "text/plain": [
       "['this',\n",
       " 'is',\n",
       " '',\n",
       " '',\n",
       " 'a',\n",
       " 'bunch',\n",
       " 'of',\n",
       " '',\n",
       " 'words',\n",
       " '',\n",
       " '',\n",
       " 'for',\n",
       " 'my',\n",
       " '',\n",
       " '',\n",
       " 'course']"
      ]
     },
     "execution_count": 81,
     "metadata": {},
     "output_type": "execute_result"
    }
   ],
   "source": [
    "# what about this:\n",
    "s = 'this is   a bunch of  words   for my   course'\n",
    "s.split(' ')"
   ]
  },
  {
   "cell_type": "code",
   "execution_count": 82,
   "id": "444beb01-996e-4383-9a54-dfa33736c703",
   "metadata": {},
   "outputs": [
    {
     "data": {
      "text/plain": [
       "['this', 'is', 'a', 'bunch', 'of', 'words', 'for', 'my', 'course']"
      ]
     },
     "execution_count": 82,
     "metadata": {},
     "output_type": "execute_result"
    }
   ],
   "source": [
    "# what we want is: cut when Python sees 1 or more whitespace characters in a row -- space,\n",
    "# tab (\\t), newline (\\n), carriage return (\\r), and vertical tab (\\v)\n",
    "\n",
    "s.split()    # no argument to s.split does exactly this!"
   ]
  },
  {
   "cell_type": "markdown",
   "id": "7c08a6ef-66d7-4297-bb23-231c53aa9d4e",
   "metadata": {},
   "source": [
    "# Exercise: Summing numbers\n",
    "\n",
    "1. Define `total` to be 0.\n",
    "2. Ask the user to enter a string, containing numbers separated by spaces.\n",
    "3. Go through each of the individual words/numbers in this string.\n",
    "4. Assuming it's numeric, turn it into an int and add to `total`.\n",
    "\n",
    "Example:\n",
    "\n",
    "    Enter numbers: 10 20 whatever 30\n",
    "    whatever is not numeric!\n",
    "    60"
   ]
  },
  {
   "cell_type": "code",
   "execution_count": 87,
   "id": "30712c32-cabe-4298-8d8c-bdf3e1b66672",
   "metadata": {},
   "outputs": [
    {
     "name": "stdin",
     "output_type": "stream",
     "text": [
      "Enter numbers:  10 20 30 hello 40 50\n"
     ]
    },
    {
     "name": "stdout",
     "output_type": "stream",
     "text": [
      "150\n"
     ]
    }
   ],
   "source": [
    "total = 0\n",
    "s = input('Enter numbers: ').strip()\n",
    "\n",
    "# str.strip removes whitespace from the sides (start and finish) of the string\n",
    "# str.split returns a list of strings from the string\n",
    "\n",
    "for one_word in s.split():\n",
    "    if one_word.isdigit():\n",
    "        total += int(one_word)\n",
    "\n",
    "print(total)"
   ]
  },
  {
   "cell_type": "code",
   "execution_count": 92,
   "id": "8ea1af17-cd15-4aa1-90b1-7cabd7329271",
   "metadata": {},
   "outputs": [
    {
     "name": "stdin",
     "output_type": "stream",
     "text": [
      "please give me string :  10 20 30 40 50\n"
     ]
    }
   ],
   "source": [
    "total = 0\n",
    "s = input('please give me string : ') \n",
    "\n",
    "for one_word in s.split():\n",
    "    if one_word.isdigit():\n",
    "        total += int(one_word)\n",
    "    else:\n",
    "        print('that thing aint a number dawg')\n"
   ]
  },
  {
   "cell_type": "code",
   "execution_count": 93,
   "id": "4a6701dd-09d4-4a64-bdfb-1112a958c1f3",
   "metadata": {},
   "outputs": [
    {
     "data": {
      "text/plain": [
       "150"
      ]
     },
     "execution_count": 93,
     "metadata": {},
     "output_type": "execute_result"
    }
   ],
   "source": [
    "total"
   ]
  },
  {
   "cell_type": "code",
   "execution_count": null,
   "id": "93509f54-b625-4ad1-96f5-53533f0cc761",
   "metadata": {},
   "outputs": [],
   "source": [
    "# the opposite of "
   ]
  }
 ],
 "metadata": {
  "kernelspec": {
   "display_name": "Python 3 (ipykernel)",
   "language": "python",
   "name": "python3"
  },
  "language_info": {
   "codemirror_mode": {
    "name": "ipython",
    "version": 3
   },
   "file_extension": ".py",
   "mimetype": "text/x-python",
   "name": "python",
   "nbconvert_exporter": "python",
   "pygments_lexer": "ipython3",
   "version": "3.11.4"
  }
 },
 "nbformat": 4,
 "nbformat_minor": 5
}
