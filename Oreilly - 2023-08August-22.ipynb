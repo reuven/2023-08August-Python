{
 "cells": [
  {
   "cell_type": "markdown",
   "id": "fb54da44-75f3-4c73-aa3d-45d227566f62",
   "metadata": {},
   "source": [
    "# Agenda, day 2: Loops, lists, and tuples\n",
    "\n",
    "1. What are loops?\n",
    "2. `for` loops\n",
    "    - Looping over strings\n",
    "    - Looping over numbers (with `range`)\n",
    "    - Indexes -- what happened to them?\n",
    "    - `while` loops\n",
    "3. Lists\n",
    "    - What are lists for?\n",
    "    - What can we do with them?\n",
    "    - Lists are *mutable* -- so what?\n",
    "4. Turning strings into lists, and back\n",
    "    - `str.split`\n",
    "    - `str.join`\n",
    "5. Tuples\n",
    "    - Tuples as a data structure\n",
    "    - Tuple unpacking"
   ]
  },
  {
   "cell_type": "markdown",
   "id": "850fb0a8-2d47-4456-b27f-0cfa8f94bd9d",
   "metadata": {},
   "source": [
    "# DRY -- don't repeat yourself!\n",
    "\n",
    "The Pragmatic Programmers talk about \"DRY\" -- don't repeat yourself! \n",
    "\n",
    "The idea is: If you have the same code (or virtually the same code) repeating in your program, then you're probably doing something wrong."
   ]
  },
  {
   "cell_type": "code",
   "execution_count": 1,
   "id": "d8f1c092-bdcb-4d74-8c3c-629f652e7ae6",
   "metadata": {},
   "outputs": [
    {
     "name": "stdout",
     "output_type": "stream",
     "text": [
      "a\n",
      "b\n",
      "c\n",
      "d\n",
      "e\n"
     ]
    }
   ],
   "source": [
    "s = 'abcde'\n",
    "\n",
    "# can I print all of the letters in s, each on a line of its own?\n",
    "print(s[0])\n",
    "print(s[1])\n",
    "print(s[2])\n",
    "print(s[3])\n",
    "print(s[4])\n"
   ]
  },
  {
   "cell_type": "markdown",
   "id": "47e31464-42a4-4999-ba1e-6fd1a5f5e063",
   "metadata": {},
   "source": [
    "The above code works -- it does what we want.  But it's also repetitive.  Which means:\n",
    "\n",
    "- If (when!) we have to modify that code, we'll have to do it for each line\n",
    "- It's harder to think about a long program than a short one. We can reduce cognitive load by shortening code\n",
    "- Why spend so much time typing and coding, when we can reduce that?"
   ]
  },
  {
   "cell_type": "markdown",
   "id": "7bcf0df9-0e36-4a97-9da4-5f67813e6680",
   "metadata": {},
   "source": [
    "# The alternative: Loop\n",
    "\n",
    "A loop is a piece of code that repeats -- typically, with some variation between each \"iteration.\" \n",
    "\n",
    "In Python, we have two types of loops: `for` and `while`. The most common loop, by far, is a `for` loop. Here is how we can iterative over the characters in a string and print them:\n",
    "\n",
    "# Elements of a `for` loop:\n",
    "\n",
    "1. We use the reserved words `for` and `in` -- they both need to be there\n",
    "2. Between `for` and `in`, we name a variable. This variable can be named *anything you want*, so make it count!\n",
    "3. After the word `in`, we have the object over which we want to iterate.  In this case, it's `s`, the variable that currently refers to a string.\n",
    "4. Then we have a `:`, followed by an indented block.\n",
    "5. The indented block is known as the \"loop body.\"  It can be as long as you want.\n",
    "\n",
    "What happens here?\n",
    "\n",
    "1. `for` turns to `s` and asks: Are you iterable?\n",
    "    - If not, then we get an error\n",
    "2. Assuming that `s` is iterable, `for` says: Give me your next thing\n",
    "    - If there are no more things to have, then `s` signals that, and the `for` loop ends\n",
    "3. `for` assigns the next thing (given by `s`) to our variable (`one_character`)\n",
    "4. We execute the loop body\n",
    "5. We return to step 2."
   ]
  },
  {
   "cell_type": "code",
   "execution_count": 3,
   "id": "92967cbe-8c01-4066-be08-523598673310",
   "metadata": {},
   "outputs": [
    {
     "name": "stdout",
     "output_type": "stream",
     "text": [
      "Before\n",
      "a\n",
      "b\n",
      "c\n",
      "d\n",
      "e\n",
      "After\n"
     ]
    }
   ],
   "source": [
    "print('Before')\n",
    "for one_character in s:\n",
    "    print(one_character)\n",
    "print('After')    "
   ]
  },
  {
   "cell_type": "code",
   "execution_count": 4,
   "id": "f5202b74-85f6-48eb-800f-3f6680eb6b8b",
   "metadata": {},
   "outputs": [
    {
     "data": {
      "text/plain": [
       "'e'"
      ]
     },
     "execution_count": 4,
     "metadata": {},
     "output_type": "execute_result"
    }
   ],
   "source": [
    "one_character"
   ]
  },
  {
   "cell_type": "markdown",
   "id": "db34ac30-4aca-4c6b-8d4d-e56ff543dd97",
   "metadata": {},
   "source": [
    "# Getting one character at a time\n",
    "\n",
    "Many people think that I'm getting one character from `s` at a time because my variable is called `one_character`.\n",
    "\n",
    "It's just the opposite: I know that when we iterate over a string, we'll get one character at a time. Thus, I called the variable `one_character`.\n",
    "\n",
    "Different data types in Python produce different results when we iterate over them. Strings (our first iterable data type) always give us one character at a time, starting at the start and ending at the end."
   ]
  },
  {
   "cell_type": "markdown",
   "id": "60aa2c36-eb7c-4980-bca1-b906fc351e34",
   "metadata": {},
   "source": [
    "# Exercies: vowel counter\n",
    "\n",
    "1. Define a variable, `total`, to be 0.\n",
    "2. Ask the user to enter a string.\n",
    "3. Go through the string, one character at a time.\n",
    "4. If the current character is a vowel (a, e, i, o, or u) then add 1 to `total`.\n",
    "5. When we're done going through the string, print the result.\n",
    "\n",
    "Example:\n",
    "\n",
    "    Enter a string: hello!\n",
    "    hello! has 2 vowels"
   ]
  },
  {
   "cell_type": "code",
   "execution_count": 6,
   "id": "e87e9ddd-21ae-48b4-8638-27da541aa3c8",
   "metadata": {},
   "outputs": [
    {
     "name": "stdin",
     "output_type": "stream",
     "text": [
      "Enter a string:  hello out there!\n"
     ]
    },
    {
     "name": "stdout",
     "output_type": "stream",
     "text": [
      "hello out there! has 6 vowels\n"
     ]
    }
   ],
   "source": [
    "total = 0\n",
    "\n",
    "s = input('Enter a string: ').strip()\n",
    "\n",
    "for one_character in s:\n",
    "    if one_character in 'aeiou':   # is the current character a vowel?\n",
    "        total += 1                 # add 1 to our total!\n",
    "\n",
    "# print(total)\n",
    "print(f'{s} has {total} vowels')"
   ]
  },
  {
   "cell_type": "markdown",
   "id": "c2d4af54-4ed2-41aa-a9e0-e45ad02dd567",
   "metadata": {},
   "source": [
    "# What if I want to repeat an action?\n",
    "\n"
   ]
  },
  {
   "cell_type": "code",
   "execution_count": 7,
   "id": "e46778c6-5703-4024-a243-2e18ecf6e741",
   "metadata": {},
   "outputs": [
    {
     "name": "stdout",
     "output_type": "stream",
     "text": [
      "Hooray for Python!\n",
      "Hooray for Python!\n",
      "Hooray for Python!\n"
     ]
    }
   ],
   "source": [
    "# I'm in a great mood -- hooray for Python!\n",
    "\n",
    "print('Hooray for Python!')\n",
    "print('Hooray for Python!')\n",
    "print('Hooray for Python!')\n"
   ]
  },
  {
   "cell_type": "code",
   "execution_count": 8,
   "id": "0f66a526-7b39-47bd-8c0e-3ce4efb48d1b",
   "metadata": {},
   "outputs": [
    {
     "ename": "TypeError",
     "evalue": "'int' object is not iterable",
     "output_type": "error",
     "traceback": [
      "\u001b[1;31m---------------------------------------------------------------------------\u001b[0m",
      "\u001b[1;31mTypeError\u001b[0m                                 Traceback (most recent call last)",
      "Cell \u001b[1;32mIn[8], line 3\u001b[0m\n\u001b[0;32m      1\u001b[0m \u001b[38;5;66;03m# we can use a loop to DRY up this code:\u001b[39;00m\n\u001b[1;32m----> 3\u001b[0m \u001b[38;5;28;01mfor\u001b[39;00m counter \u001b[38;5;129;01min\u001b[39;00m \u001b[38;5;241m3\u001b[39m:\n\u001b[0;32m      4\u001b[0m     \u001b[38;5;28mprint\u001b[39m(\u001b[38;5;124m'\u001b[39m\u001b[38;5;124mHooray for Python!\u001b[39m\u001b[38;5;124m'\u001b[39m)\n",
      "\u001b[1;31mTypeError\u001b[0m: 'int' object is not iterable"
     ]
    }
   ],
   "source": [
    "# we can use a loop to DRY up this code:\n",
    "\n",
    "for counter in 3:\n",
    "    print('Hooray for Python!')"
   ]
  },
  {
   "cell_type": "markdown",
   "id": "db7fe3de-2feb-4410-bbc4-3d4b7591e2c1",
   "metadata": {},
   "source": [
    "# Strings are iterable, but numbers aren't\n",
    "\n",
    "If you try to iterate over a number (an integer or float), you'll get an error.\n",
    "\n",
    "How can you iterate a certain number of times? \n",
    "\n",
    "We can't directly iterate over an integer, as we've seen. Instead, we need to iterate over a *range*. `range` is the special builtin that creates such ranges for us.\n",
    "\n",
    "The easiest way to use `range` is to call it with an integer argument, indicating how many times you want it to execute."
   ]
  },
  {
   "cell_type": "code",
   "execution_count": 13,
   "id": "47578933-badd-4161-9167-95fdabcaadde",
   "metadata": {},
   "outputs": [
    {
     "name": "stdout",
     "output_type": "stream",
     "text": [
      "Hooray for Python!\n",
      "Hooray for Python!\n",
      "Hooray for Python!\n"
     ]
    }
   ],
   "source": [
    "# this is how you iterate a certain number of times!\n",
    "\n",
    "for count in range(3):\n",
    "    print('Hooray for Python!')"
   ]
  },
  {
   "cell_type": "code",
   "execution_count": 14,
   "id": "e223696c-0cb2-4584-a410-a14a94d76edb",
   "metadata": {},
   "outputs": [
    {
     "name": "stdout",
     "output_type": "stream",
     "text": [
      "[0] Hooray for Python!\n",
      "[1] Hooray for Python!\n",
      "[2] Hooray for Python!\n"
     ]
    }
   ],
   "source": [
    "# what about count? We have a loop variable there, but what is its value with each iteration?\n",
    "# count actually does get a value with each iteration -- it starts at 0, and goes up by 1, one at a time\n",
    "\n",
    "for count in range(3):\n",
    "    print(f'[{count}] Hooray for Python!')\n"
   ]
  },
  {
   "cell_type": "markdown",
   "id": "32609378-02c7-4130-a64f-7c10d2c068ac",
   "metadata": {},
   "source": [
    "Just as a string's length is n, but its maximum index is n-1, so too will `range` return 3 elements, and they will be numbered 0, 1, and 2 -- the maximum being the range argument - 1."
   ]
  },
  {
   "cell_type": "code",
   "execution_count": 15,
   "id": "fbfdb98b-e45f-44a6-a99b-6098e24b8e82",
   "metadata": {},
   "outputs": [
    {
     "data": {
      "text/plain": [
       "'HoorayHoorayHoorayHoorayHoorayHooray'"
      ]
     },
     "execution_count": 15,
     "metadata": {},
     "output_type": "execute_result"
    }
   ],
   "source": [
    "'Hooray' * 6   # this will work!\n"
   ]
  },
  {
   "cell_type": "code",
   "execution_count": 16,
   "id": "d785bb27-2934-4f6d-8959-fd34c7c745f1",
   "metadata": {},
   "outputs": [
    {
     "name": "stdout",
     "output_type": "stream",
     "text": [
      "Hooray\n"
     ]
    },
    {
     "ename": "TypeError",
     "evalue": "unsupported operand type(s) for *: 'NoneType' and 'int'",
     "output_type": "error",
     "traceback": [
      "\u001b[1;31m---------------------------------------------------------------------------\u001b[0m",
      "\u001b[1;31mTypeError\u001b[0m                                 Traceback (most recent call last)",
      "Cell \u001b[1;32mIn[16], line 1\u001b[0m\n\u001b[1;32m----> 1\u001b[0m \u001b[38;5;28;43mprint\u001b[39;49m\u001b[43m(\u001b[49m\u001b[38;5;124;43m'\u001b[39;49m\u001b[38;5;124;43mHooray\u001b[39;49m\u001b[38;5;124;43m'\u001b[39;49m\u001b[43m)\u001b[49m\u001b[43m \u001b[49m\u001b[38;5;241;43m*\u001b[39;49m\u001b[43m \u001b[49m\u001b[38;5;241;43m6\u001b[39;49m\n",
      "\u001b[1;31mTypeError\u001b[0m: unsupported operand type(s) for *: 'NoneType' and 'int'"
     ]
    }
   ],
   "source": [
    "print('Hooray') * 6"
   ]
  },
  {
   "cell_type": "markdown",
   "id": "9123ae27-dc1f-4f5f-8495-57d666ec168e",
   "metadata": {},
   "source": [
    "# Some reminders/hints\n",
    "\n",
    "1. You can get the length of a string with the `len` function.\n",
    "2. You can get a `range` by invoking `range` on an integer. That integer can be hard-coded or it can come from another function or method (yes, this is a hint!)\n",
    "3. You can get a \"slice\" (substring) from a string with `s[start:end]`, where `end` is 1 past the index you want.\n",
    "4. You cannot give a single index beyond the bounds of a string (e.g., you cannot say `s[100000]`) but you can give it a bit of leeway on a slice (i.e., the first or last index can be beyond the bounds).\n",
    "\n",
    "# Exercise: Name triangle\n",
    "\n",
    "1. Ask the user to enter their name.\n",
    "2. Print a triangle with their name -- first, just the first letter. Then the first two. Then the first three. Etc. Until you get to the full name.\n",
    "\n",
    "Example:\n",
    "\n",
    "    Enter your name: Reuven\n",
    "    R\n",
    "    Re\n",
    "    Reu\n",
    "    Reuv\n",
    "    Reuve\n",
    "    Reuven\n",
    "\n",
    "No blank lines and also ensure that the full name is printed at the end.    "
   ]
  },
  {
   "cell_type": "code",
   "execution_count": 17,
   "id": "4fcb9354-f061-462f-861d-bf1ed63ad3de",
   "metadata": {},
   "outputs": [
    {
     "name": "stdout",
     "output_type": "stream",
     "text": [
      "R\n",
      "Re\n",
      "Reu\n",
      "Reuv\n",
      "Reuve\n",
      "Reuven\n"
     ]
    }
   ],
   "source": [
    "name = 'Reuven'\n",
    "\n",
    "# how can I print a name triangle?\n",
    "print(name[:1])   # index 0\n",
    "print(name[:2])   # indexes 0+1\n",
    "print(name[:3])   # indexes 0+1+2\n",
    "print(name[:4])   # indexes 0+1+2+3\n",
    "print(name[:5])   # indexes 0+1+2+3+4\n",
    "print(name[:6])   # indexes 0+1+2+3+4+5"
   ]
  },
  {
   "cell_type": "code",
   "execution_count": 20,
   "id": "c923e9b2-2e18-4c7e-bd41-37d2b5351613",
   "metadata": {},
   "outputs": [
    {
     "name": "stdout",
     "output_type": "stream",
     "text": [
      "R\n",
      "Re\n",
      "Reu\n",
      "Reuv\n",
      "Reuve\n",
      "Reuven\n"
     ]
    }
   ],
   "source": [
    "# how can I accomplish this with a for loop?\n",
    "\n",
    "for index in range(6):     # iterate 6 times, getting the numbers 0-5\n",
    "    print(name[:index+1])  # take that number, add 1 to it, and set it to be the max index"
   ]
  },
  {
   "cell_type": "code",
   "execution_count": 22,
   "id": "f0c50e9f-1448-4c0c-a255-f6994ffec0dc",
   "metadata": {},
   "outputs": [
    {
     "name": "stdin",
     "output_type": "stream",
     "text": [
      "Enter your name:  something else entirely\n"
     ]
    },
    {
     "name": "stdout",
     "output_type": "stream",
     "text": [
      "s\n",
      "so\n",
      "som\n",
      "some\n",
      "somet\n",
      "someth\n",
      "somethi\n",
      "somethin\n",
      "something\n",
      "something \n",
      "something e\n",
      "something el\n",
      "something els\n",
      "something else\n",
      "something else \n",
      "something else e\n",
      "something else en\n",
      "something else ent\n",
      "something else enti\n",
      "something else entir\n",
      "something else entire\n",
      "something else entirel\n",
      "something else entirely\n"
     ]
    }
   ],
   "source": [
    "# let's make it general for all names\n",
    "\n",
    "name = input('Enter your name: ').strip()\n",
    "\n",
    "for index in range(len(name)):     # iterate 6 times, getting the numbers 0-5\n",
    "    print(name[:index+1])          # take that number, add 1 to it, and set it to be the max index"
   ]
  },
  {
   "cell_type": "code",
   "execution_count": 23,
   "id": "718bd1fb-ab43-48a0-8a6d-d5db1ca60f15",
   "metadata": {},
   "outputs": [
    {
     "name": "stdin",
     "output_type": "stream",
     "text": [
      "What is your name?  Reuven\n"
     ]
    },
    {
     "name": "stdout",
     "output_type": "stream",
     "text": [
      "R\n",
      "Re\n",
      "Reu\n",
      "Reuv\n",
      "Reuve\n",
      "Reuven\n"
     ]
    }
   ],
   "source": [
    "name=input('What is your name? ').strip() \n",
    "\n",
    "total = 0\n",
    "\n",
    "for numOfLetters in name:\n",
    "    total+=1\n",
    "    print(name[:total])"
   ]
  },
  {
   "cell_type": "markdown",
   "id": "2fae2625-1cb5-4533-b278-d42452b0b81a",
   "metadata": {},
   "source": [
    "What happened in this exercise?\n",
    "\n",
    "Our goal was to have the numbers we would need for slices on our string, one after another:\n",
    "\n",
    "```python\n",
    "print(name[:1])   # indexes 0\n",
    "print(name[:2])   # indexes 0+1\n",
    "print(name[:3])   # indexes 0+1+2\n",
    "print(name[:4])   # indexes 0+1+2+3\n",
    "print(name[:5])   # indexes 0+1+2+3+4\n",
    "print(name[:6])   # indexes 0+1+2+3+4+5\n",
    "```\n",
    "\n",
    "Basically, I'll need to iterate such that I start with 1, and get up to 6.  Whatever number I get will then be used in the endpoint of the slice to give me what I want.\n",
    "\n",
    "I have a few ways to do that:\n",
    "\n",
    "1. Iterate over `range`. But `range` starts with 0. So you can ask for `range` from 0 through 5, and then add 1 to its result. That was my solution:\n",
    "\n",
    "```python\n",
    "for index in range(len(name)):\n",
    "    print(name[:index+1])\n",
    "```\n",
    "\n",
    "2. Iterate over the characters in `name`. But ignore the characters, and use them just to add numbers to the `total` variable. `total` will then contain the slice endpoint:\n",
    "\n",
    "```python\n",
    "total = 0\n",
    "\n",
    "for numOfLetters in name:\n",
    "    total+=1\n",
    "    print(name[:total])\n",
    "```\n",
    "\n"
   ]
  },
  {
   "cell_type": "markdown",
   "id": "45f48f7f-a54d-42b9-93f0-ce86efc14afe",
   "metadata": {},
   "source": [
    "# Next up\n",
    "\n",
    "- where's the index?\n",
    "- `while` loops\n",
    "- `break` -- to exit a loop early\n",
    "\n"
   ]
  },
  {
   "cell_type": "markdown",
   "id": "0d524d58-d154-4bb4-93f3-971ee0ea75ea",
   "metadata": {},
   "source": [
    "In languages like C, `for` loops work very differently:\n",
    "\n",
    "- We start with a variable assigned to an integer (say, 0)\n",
    "- We have a condition saying when we should stop (say, `< 5`)\n",
    "- We say what should happen to our variable with each iteration\n",
    "\n",
    "This means that loops in C are always using integers. Those integers are the indexes. We use the indexes to retrieve values from our strings and other data structures.\n",
    "\n",
    "In other words, C doesn't have a facility to give me the characters of a string one by one. So I need to use the indexes to retrieve them.\n",
    "\n",
    "Python gives me the characters. And besides, most of the time, I'm not interested in the indexes. I'm interested in the characters. Python supplies this -- why mess with the index?\n",
    "\n",
    "Sometimes we want the index, as in this example. Sometimes for other reasons.\n",
    "\n",
    "How can I do it in Python?"
   ]
  },
  {
   "cell_type": "code",
   "execution_count": 24,
   "id": "24d0e24f-e62f-4ebb-8aa3-c07c57896904",
   "metadata": {},
   "outputs": [
    {
     "name": "stdout",
     "output_type": "stream",
     "text": [
      "0: a\n",
      "1: b\n",
      "2: c\n",
      "3: d\n",
      "4: e\n"
     ]
    }
   ],
   "source": [
    "# option 1 -- calculate it manually\n",
    "\n",
    "index = 0\n",
    "s = 'abcde'\n",
    "\n",
    "for one_character in s:\n",
    "    print(f'{index}: {one_character}')\n",
    "    index += 1"
   ]
  },
  {
   "cell_type": "code",
   "execution_count": 25,
   "id": "05326921-c749-4e1e-8dbf-9ee0ba111522",
   "metadata": {},
   "outputs": [
    {
     "name": "stdout",
     "output_type": "stream",
     "text": [
      "0: a\n",
      "1: b\n",
      "2: c\n",
      "3: d\n",
      "4: e\n"
     ]
    }
   ],
   "source": [
    "# option 2 -- use Python's \"enumerate\" function\n",
    "# enumerate is meant to be called (a) in a loop (b) with an iterable \n",
    "\n",
    "# we call enumerate, passing it the iterable as an argument\n",
    "# we get back not only the original elements, but also their indexes\n",
    "# the for loop is going to look REALLY weird\n",
    "\n",
    "s = 'abcde'\n",
    "\n",
    "for index, one_character in enumerate(s):    # we now have *TWO* loop variables! enumerate sets both\n",
    "    print(f'{index}: {one_character}')"
   ]
  },
  {
   "cell_type": "markdown",
   "id": "00893f5b-fd69-4246-9894-3f0f6a885a5c",
   "metadata": {},
   "source": [
    "# `while` loops\n",
    "\n",
    "When we use a `for` loop, it's because we want to do the same thing for each element of a string (or any other iterable data structure). But sometimes, I don't want to repeat code once for every element. Rather, I don't know how many times I'll need to repeat the code. I know, though, when I'll want to stop.\n",
    "\n",
    "In such cases, we use a `while` loop:\n",
    "\n",
    "- `while` loops are a lot like `if` statements\n",
    "- The big difference is that `if` statements, when their condition is `True`, execute their block once. `while` loops, by contrast, execute their block again and again, stopping only when the condition is `False`.\n",
    "- This allows us to execute a loop any number of times, without knowing in advance when it'll stop, but knowing that when it does, our condition has been met.\n",
    "\n"
   ]
  },
  {
   "cell_type": "code",
   "execution_count": 26,
   "id": "41a487fc-ca86-4bf5-84b4-7833ce4e7b2a",
   "metadata": {},
   "outputs": [
    {
     "name": "stdout",
     "output_type": "stream",
     "text": [
      "5\n",
      "4\n",
      "3\n",
      "2\n",
      "1\n"
     ]
    }
   ],
   "source": [
    "# example while loop\n",
    "\n",
    "x = 5\n",
    "\n",
    "while x > 0:\n",
    "    print(x)\n",
    "    x -= 1    # this means: x = x - 1, aka reduce x by 1"
   ]
  },
  {
   "cell_type": "markdown",
   "id": "51781857-4058-40ff-81b6-298e458af464",
   "metadata": {},
   "source": [
    "# Exercise: Sum to 100\n",
    "\n",
    "1. Define `total` to be 0.\n",
    "2. Ask the user to enter a number.\n",
    "3. (Optional: If the entered string isn't numeric, then scold them and let them try again.)\n",
    "4. Add the number to `total`.\n",
    "5. Keep asking until `total` is 100 or more. At that point, you can stop asking.\n",
    "6. Print `total`."
   ]
  },
  {
   "cell_type": "code",
   "execution_count": 30,
   "id": "5458b98c-cddd-4551-b875-8f8bd14b2b49",
   "metadata": {},
   "outputs": [
    {
     "name": "stdout",
     "output_type": "stream",
     "text": [
      "\tTotal is currently 0\n"
     ]
    },
    {
     "name": "stdin",
     "output_type": "stream",
     "text": [
      "Enter a number:  20\n"
     ]
    },
    {
     "name": "stdout",
     "output_type": "stream",
     "text": [
      "\tTotal is currently 20\n"
     ]
    },
    {
     "name": "stdin",
     "output_type": "stream",
     "text": [
      "Enter a number:  30\n"
     ]
    },
    {
     "name": "stdout",
     "output_type": "stream",
     "text": [
      "\tTotal is currently 50\n"
     ]
    },
    {
     "name": "stdin",
     "output_type": "stream",
     "text": [
      "Enter a number:  49\n"
     ]
    },
    {
     "name": "stdout",
     "output_type": "stream",
     "text": [
      "\tTotal is currently 99\n"
     ]
    },
    {
     "name": "stdin",
     "output_type": "stream",
     "text": [
      "Enter a number:  100000\n"
     ]
    },
    {
     "name": "stdout",
     "output_type": "stream",
     "text": [
      "total = 100099\n"
     ]
    }
   ],
   "source": [
    "total = 0\n",
    "\n",
    "while total < 100:\n",
    "    print(f'\\tTotal is currently {total}')\n",
    "    s = input('Enter a number: ')\n",
    "    total += int(s)   # get an int based on s, then add that to total\n",
    "\n",
    "print(f'total = {total}')"
   ]
  },
  {
   "cell_type": "markdown",
   "id": "ba988679-97de-4ee0-ba57-2fc11ee5b1de",
   "metadata": {},
   "source": [
    "# Stopping a loop early\n",
    "\n",
    "- `for` loops, as we've seen, will go through all of the elements of an iterable\n",
    "- `while` loops will go until the condition is `False`\n",
    "\n",
    "What if we want to stop the loop early, because we have achieved our goals?\n",
    "\n",
    "What if we want to stop the current iteration early, and then go onto the next one?\n",
    "\n",
    "We have two special statements we can use in Python, inside of loops, for exactly those reasons:\n",
    "\n",
    "- `break` -- this exits the loop completely, right away, no questions. If you have a \"nested loop,\" one inside of another, then it breaks out of the innermost loop that it is inside. Execute continues right after that loop's end.\n",
    "- `continue` -- this exits the current iteration, but then goes back for the next one."
   ]
  },
  {
   "cell_type": "code",
   "execution_count": null,
   "id": "0c365296-1c8d-4e79-9e60-0c6170f878f5",
   "metadata": {},
   "outputs": [],
   "source": [
    "# let's pretend that there is no \"in\" operator in Python\n",
    "# I have a string, and want to know whether a character is in that string\n",
    "\n",
    "s = 'abcde'\n",
    "look_for = 'd'  \n",
    "\n",
    "for one_character in s:\n",
    "    if look_for == one_cha"
   ]
  }
 ],
 "metadata": {
  "kernelspec": {
   "display_name": "Python 3 (ipykernel)",
   "language": "python",
   "name": "python3"
  },
  "language_info": {
   "codemirror_mode": {
    "name": "ipython",
    "version": 3
   },
   "file_extension": ".py",
   "mimetype": "text/x-python",
   "name": "python",
   "nbconvert_exporter": "python",
   "pygments_lexer": "ipython3",
   "version": "3.11.4"
  }
 },
 "nbformat": 4,
 "nbformat_minor": 5
}
