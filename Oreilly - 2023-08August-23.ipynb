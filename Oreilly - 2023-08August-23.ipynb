{
 "cells": [
  {
   "cell_type": "markdown",
   "id": "fb54da44-75f3-4c73-aa3d-45d227566f62",
   "metadata": {},
   "source": [
    "# Agenda, day 3: Dictionaries and files\n",
    "\n",
    "1. Dictionaries\n",
    "    - What are dictionaries?\n",
    "    - How can we define them and retrieve from them?\n",
    "    - Paradigm 1: Read-only dictionaries\n",
    "    - Paradigm 2: Updating dictionaries\n",
    "    - Paradigm 3: Start with an empty dict, and modify it from there\n",
    "    - How do dicts work behind the scenes?\n",
    "    - Iterating over a dict with a `for` loop\n",
    "3. Files\n",
    "    - What does it mean to work with files?\n",
    "    - Reading from (text) files -- good and bad techniques\n",
    "    - Working with text from files\n",
    "    - Writing to text files\n",
    "    - Using the `with` statement"
   ]
  },
  {
   "cell_type": "markdown",
   "id": "8e215ea1-b10a-414b-ae60-35b76c7f1ef1",
   "metadata": {},
   "source": [
    "# Loops\n",
    "\n",
    "The basic idea behind loops is that we have a task that we want to do repeatedly. Instead of typing the command many times, we type the command one time, inside of a loop, and the computer repeats things for us.\n",
    "\n",
    "There are two types of loops in Python, which reflect two different types of repetition we might want to do:\n",
    "\n",
    "1. `for` loops -- which go through a sequence (string, list, or tuple) one element at a time, letting us do something with each element.\n",
    "2. `while` loops -- which repeat the body of the loop until a condition (a la `if`) returns a `False` value.\n",
    "\n",
    "`for` loops are great for:\n",
    "- Doing the same thing with each element of a sequence\n",
    "- Going through a range of numbers -- using `range`\n",
    "- Going through a list of filenames in a directory\n",
    "- Going through a list of records that you have retrieved from a database\n",
    "- Testing all of the IP addresses on your network, to make sure they're connected\n",
    "\n",
    "`while` loops are great for:\n",
    "- You know what you want to do, but don't know how long you'll have to do it -- you can identify the condition when it should end, though\n",
    "- We want to get input from the user repeatedly, and don't know when they'll stop\n",
    "- We want to get a command input from the user, and don't know how many commands they'll give us"
   ]
  },
  {
   "cell_type": "markdown",
   "id": "9742c7c4-b9d2-4c75-bcfd-cbccdd6100f3",
   "metadata": {},
   "source": [
    "# Lists as accumulators\n",
    "\n",
    "We can use a list to accumulate information over the life of a program. We do this by defining an empty list. Whenever we want to put a new value onto the list, we just run `list.append`.\n"
   ]
  },
  {
   "cell_type": "code",
   "execution_count": 1,
   "id": "19a95044-92d5-4526-a3eb-a63de008a955",
   "metadata": {},
   "outputs": [
    {
     "name": "stdout",
     "output_type": "stream",
     "text": [
      "[10]\n",
      "[]\n"
     ]
    }
   ],
   "source": [
    "evens = []\n",
    "odds = []\n",
    "\n",
    "number = 10    \n",
    "\n",
    "# if number is even, then we'll add it to evens\n",
    "if number % 2 == 0:\n",
    "    evens.append(number)\n",
    "# otherwise, we'll add it to odds\n",
    "else:\n",
    "    odds.append(number)\n",
    "\n",
    "print(evens)\n",
    "print(odds)"
   ]
  },
  {
   "cell_type": "code",
   "execution_count": 2,
   "id": "5bbeb2b8-e779-4a8f-83f0-d58bbf25071c",
   "metadata": {},
   "outputs": [
    {
     "name": "stdout",
     "output_type": "stream",
     "text": [
      "[10]\n",
      "[13]\n"
     ]
    }
   ],
   "source": [
    "number = 13 \n",
    "\n",
    "# if number is even, then we'll add it to evens\n",
    "if number % 2 == 0:\n",
    "    evens.append(number)\n",
    "# otherwise, we'll add it to odds\n",
    "else:\n",
    "    odds.append(number)\n",
    "\n",
    "print(evens)\n",
    "print(odds)"
   ]
  },
  {
   "cell_type": "code",
   "execution_count": 3,
   "id": "c4685e84-9109-46bb-9053-66b7c9a74329",
   "metadata": {},
   "outputs": [
    {
     "name": "stdout",
     "output_type": "stream",
     "text": [
      "[10, 20, 22]\n",
      "[15, 35, 17]\n"
     ]
    }
   ],
   "source": [
    "# wouldn't it be better to just iterate over a list of numbers?\n",
    "evens = []\n",
    "odds = []\n",
    "\n",
    "all_numbers = [10, 15, 20, 35, 17, 22]\n",
    "\n",
    "for number in all_numbers:\n",
    "    # if number is even, then we'll add it to evens\n",
    "    if number % 2 == 0:\n",
    "        evens.append(number)\n",
    "    # otherwise, we'll add it to odds\n",
    "    else:\n",
    "        odds.append(number)\n",
    "\n",
    "print(evens)\n",
    "print(odds)"
   ]
  },
  {
   "cell_type": "code",
   "execution_count": 4,
   "id": "f55d8b72-a4c5-4001-bc08-70dd004595ae",
   "metadata": {},
   "outputs": [
    {
     "name": "stdin",
     "output_type": "stream",
     "text": [
      "Enter numbers:  10 15 20 35 22 17\n"
     ]
    },
    {
     "name": "stdout",
     "output_type": "stream",
     "text": [
      "[10, 20, 22]\n",
      "[15, 35, 17]\n"
     ]
    }
   ],
   "source": [
    "# what if I got inputs as a string?\n",
    "\n",
    "evens = []\n",
    "odds = []\n",
    "\n",
    "s = input('Enter numbers: ').strip()\n",
    "\n",
    "all_numbers = s.split()    # split always returns a list of strings\n",
    "\n",
    "for number in all_numbers:\n",
    "    number = int(number)   # get an integer based on the current number, which is a string\n",
    "\n",
    "    # if number is even, then we'll add it to evens\n",
    "    if number % 2 == 0:\n",
    "        evens.append(number)\n",
    "    # otherwise, we'll add it to odds\n",
    "    else:\n",
    "        odds.append(number)\n",
    "\n",
    "print(evens)\n",
    "print(odds)"
   ]
  },
  {
   "cell_type": "code",
   "execution_count": 5,
   "id": "be520d49-24cd-404f-a174-3a667e9070aa",
   "metadata": {},
   "outputs": [
    {
     "name": "stdin",
     "output_type": "stream",
     "text": [
      "Enter string:  hello! 123\n"
     ]
    },
    {
     "name": "stdout",
     "output_type": "stream",
     "text": [
      "['e', 'o']\n",
      "['1', '2', '3']\n",
      "['h', 'l', 'l', '!', ' ']\n"
     ]
    }
   ],
   "source": [
    "# vowels, digits, and others\n",
    "\n",
    "vowels = []\n",
    "digits = []\n",
    "others = []\n",
    "\n",
    "s = input('Enter string: ').strip()\n",
    "\n",
    "for one_character in s:\n",
    "    if one_character.isdigit():\n",
    "        digits.append(one_character)\n",
    "\n",
    "    elif one_character in 'aeiou':\n",
    "        vowels.append(one_character)\n",
    "\n",
    "    else:\n",
    "        others.append(one_character)\n",
    "\n",
    "print(vowels)\n",
    "print(digits)\n",
    "print(others)"
   ]
  },
  {
   "cell_type": "code",
   "execution_count": 6,
   "id": "cf2450f8-c9fa-4531-a573-d497d1abbc65",
   "metadata": {},
   "outputs": [
    {
     "data": {
      "text/plain": [
       "'a    b    c'"
      ]
     },
     "execution_count": 6,
     "metadata": {},
     "output_type": "execute_result"
    }
   ],
   "source": [
    "# str.strip is a method that returns a new string, without any whitespace (space, \\n, \\t, \\r, \\v)\n",
    "# on the outside of the string\n",
    "\n",
    "s = '     a    b    c    '\n",
    "\n",
    "s.strip()  # this returns a new string -- it doesn't modify s!"
   ]
  },
  {
   "cell_type": "markdown",
   "id": "c5c184d0-65ed-4108-8962-c7dc342a9863",
   "metadata": {},
   "source": [
    "# Dictionaries\n",
    "\n",
    "Dictionaries (aka \"dicts\" in the Python world) are the most powerful, most useful data structure in the language. They are not unique to Python! However, in other languages, we call them other things:\n",
    "\n",
    "- hash tables\n",
    "- hashes\n",
    "- name-value pairs\n",
    "- key-value pairs\n",
    "- hashmaps\n",
    "- maps\n",
    "- associative arrays\n",
    "\n",
    "The basic idea of a dictionary is that we have names and values, or keys and values.  \n",
    "\n",
    "When you think about a Python list, you think about the elements, the values of the list. The index that you use to retrieve those values is an annoyance, isn't set by you, and has nothing to do with the problem you're trying to solve.\n",
    "\n",
    "You can think of dictionaries (kind of) as lists in which you determine both the index and the value.  The index is known as the \"key.\" Via the key, you can retrieve the value.\n",
    "\n",
    "This means that you no longer need to just use 0, 1, 2, 3, etc. to retrieve values from your dict. Rather, you need to know what keys are in there.\n",
    "\n",
    "Keys:\n",
    "- Can be any immutable type (i.e., basically numbers and strings)\n",
    "- Must be unique -- if you reuse them, then you will lose data, too."
   ]
  },
  {
   "cell_type": "code",
   "execution_count": 7,
   "id": "62e58019-0c68-4000-8359-d4a55d85aaa7",
   "metadata": {},
   "outputs": [],
   "source": [
    "# let's create a dict!\n",
    "# - use {} to define it\n",
    "# - we define it with key-value pairs\n",
    "# - each key is whatever you wish to set it to (assuming that it's immutable)\n",
    "# - each value can be literally anything at all in Python\n",
    "# - we separate the key and value with :\n",
    "# - we separate pairs with commas\n",
    "\n",
    "d = {'a':10, 'b':20, 'c':30}"
   ]
  },
  {
   "cell_type": "code",
   "execution_count": 8,
   "id": "ba260351-c2bc-4740-9029-1563ff4d0218",
   "metadata": {},
   "outputs": [
    {
     "data": {
      "text/plain": [
       "3"
      ]
     },
     "execution_count": 8,
     "metadata": {},
     "output_type": "execute_result"
    }
   ],
   "source": [
    "len(d)  # how many key-value pairs are there in d?"
   ]
  },
  {
   "cell_type": "code",
   "execution_count": 9,
   "id": "266c54ef-e998-46ba-8f49-9a6f92a6c74e",
   "metadata": {},
   "outputs": [
    {
     "data": {
      "text/plain": [
       "10"
      ]
     },
     "execution_count": 9,
     "metadata": {},
     "output_type": "execute_result"
    }
   ],
   "source": [
    "# how can I retrieve from the dict?\n",
    "d['a']"
   ]
  },
  {
   "cell_type": "code",
   "execution_count": 10,
   "id": "9957582c-8dd8-4072-a553-cd19d8ec4f5d",
   "metadata": {},
   "outputs": [
    {
     "data": {
      "text/plain": [
       "20"
      ]
     },
     "execution_count": 10,
     "metadata": {},
     "output_type": "execute_result"
    }
   ],
   "source": [
    "d['b']"
   ]
  },
  {
   "cell_type": "code",
   "execution_count": 11,
   "id": "1cb9bb7e-c9c0-4ee7-9f04-ef7fb51d0a34",
   "metadata": {},
   "outputs": [
    {
     "data": {
      "text/plain": [
       "30"
      ]
     },
     "execution_count": 11,
     "metadata": {},
     "output_type": "execute_result"
    }
   ],
   "source": [
    "d['c']"
   ]
  },
  {
   "cell_type": "code",
   "execution_count": 12,
   "id": "15d87b47-3936-4095-b569-5517bea03108",
   "metadata": {},
   "outputs": [
    {
     "ename": "KeyError",
     "evalue": "'hello'",
     "output_type": "error",
     "traceback": [
      "\u001b[1;31m---------------------------------------------------------------------------\u001b[0m",
      "\u001b[1;31mKeyError\u001b[0m                                  Traceback (most recent call last)",
      "Cell \u001b[1;32mIn[12], line 1\u001b[0m\n\u001b[1;32m----> 1\u001b[0m \u001b[43md\u001b[49m\u001b[43m[\u001b[49m\u001b[38;5;124;43m'\u001b[39;49m\u001b[38;5;124;43mhello\u001b[39;49m\u001b[38;5;124;43m'\u001b[39;49m\u001b[43m]\u001b[49m\n",
      "\u001b[1;31mKeyError\u001b[0m: 'hello'"
     ]
    }
   ],
   "source": [
    "d['hello']"
   ]
  },
  {
   "cell_type": "code",
   "execution_count": 13,
   "id": "5ad6492e-19c1-40b5-8e3d-f40d26c112b9",
   "metadata": {},
   "outputs": [
    {
     "name": "stdout",
     "output_type": "stream",
     "text": [
      "No such key \"hello\" in here\n"
     ]
    }
   ],
   "source": [
    "# we can avoid key errors if we first check whether the key is in the dict\n",
    "# we use \"in\" for that\n",
    "\n",
    "if 'hello' in d:      # \"in\" only looks at the keys -- not the values!\n",
    "    print(d['hello'])\n",
    "else:\n",
    "    print(f'No such key \"hello\" in here')"
   ]
  },
  {
   "cell_type": "markdown",
   "id": "1d022724-f934-4e31-a359-b477aa4745fb",
   "metadata": {},
   "source": [
    "# Exercise: Restaurant\n",
    "\n",
    "0. Define `total` to be 0\n",
    "1. Define a dict, called `menu`, whose keys are item names on a menu, and whose values are the prices of those items.\n",
    "2. Have the user ask, again and again, for something on the menu.\n",
    "    - If we got an empty string, break out of the loop\n",
    "    - If we got a string that *is* a key, then retrieve the value, print the price, and add to the total.\n",
    "    - If we got a request that is *not* a key, then scold the user\n",
    "3. After the user enters an empty string, we can exit and print the total.\n",
    "\n",
    "Example:\n",
    "\n",
    "    Order: apple\n",
    "    apple is 3, total is 3\n",
    "    Order: banana\n",
    "    banana is 2, total is 5\n",
    "    Order: elephant\n",
    "    we're out of elephant today!\n",
    "    Order: [ENTER]\n",
    "    Total is 5"
   ]
  },
  {
   "cell_type": "code",
   "execution_count": 14,
   "id": "7a24677d-1cd6-4755-88c5-58cf0b338a75",
   "metadata": {},
   "outputs": [],
   "source": [
    "total = 0\n",
    "\n",
    "menu = { 'sandwich':10,  'tea':5,  'apple':3, 'cake':7    }"
   ]
  },
  {
   "cell_type": "code",
   "execution_count": 15,
   "id": "2489fa16-454a-43fc-85de-add9458eaaaa",
   "metadata": {},
   "outputs": [
    {
     "data": {
      "text/plain": [
       "4"
      ]
     },
     "execution_count": 15,
     "metadata": {},
     "output_type": "execute_result"
    }
   ],
   "source": [
    "len(menu)"
   ]
  },
  {
   "cell_type": "code",
   "execution_count": 17,
   "id": "08fd9343-8654-404f-8665-61600d7fc9c2",
   "metadata": {},
   "outputs": [
    {
     "data": {
      "text/plain": [
       "10"
      ]
     },
     "execution_count": 17,
     "metadata": {},
     "output_type": "execute_result"
    }
   ],
   "source": [
    "menu['sandwich']   # get the value in the dict \"menu\" for the key \"sandwich\""
   ]
  },
  {
   "cell_type": "code",
   "execution_count": 18,
   "id": "71f62312-d528-4840-af28-14d2776b7d8d",
   "metadata": {},
   "outputs": [
    {
     "data": {
      "text/plain": [
       "10"
      ]
     },
     "execution_count": 18,
     "metadata": {},
     "output_type": "execute_result"
    }
   ],
   "source": [
    "order = 'sandwich'\n",
    "\n",
    "menu[order]"
   ]
  },
  {
   "cell_type": "code",
   "execution_count": 19,
   "id": "bc6265d8-d45e-47f0-9008-a2918e1bc039",
   "metadata": {},
   "outputs": [
    {
     "ename": "KeyError",
     "evalue": "'ostrich'",
     "output_type": "error",
     "traceback": [
      "\u001b[1;31m---------------------------------------------------------------------------\u001b[0m",
      "\u001b[1;31mKeyError\u001b[0m                                  Traceback (most recent call last)",
      "Cell \u001b[1;32mIn[19], line 3\u001b[0m\n\u001b[0;32m      1\u001b[0m order \u001b[38;5;241m=\u001b[39m \u001b[38;5;124m'\u001b[39m\u001b[38;5;124mostrich\u001b[39m\u001b[38;5;124m'\u001b[39m\n\u001b[1;32m----> 3\u001b[0m \u001b[43mmenu\u001b[49m\u001b[43m[\u001b[49m\u001b[43morder\u001b[49m\u001b[43m]\u001b[49m   \u001b[38;5;66;03m# what is the price of ostrich?\u001b[39;00m\n",
      "\u001b[1;31mKeyError\u001b[0m: 'ostrich'"
     ]
    }
   ],
   "source": [
    "order = 'ostrich'\n",
    "\n",
    "menu[order]   # what is the price of ostrich?"
   ]
  },
  {
   "cell_type": "code",
   "execution_count": 20,
   "id": "58f8b1b2-c318-4399-9865-360c7eaccd95",
   "metadata": {},
   "outputs": [
    {
     "name": "stdout",
     "output_type": "stream",
     "text": [
      "ostrich is not on the menu\n"
     ]
    }
   ],
   "source": [
    "if order in menu:    # is the thing the person wants also a key in \"menu\"?\n",
    "    print(menu[order])\n",
    "else:\n",
    "    print(f'{order} is not on the menu')"
   ]
  },
  {
   "cell_type": "code",
   "execution_count": 22,
   "id": "f8d63ef6-eb53-4b82-9256-8e1e94c55b41",
   "metadata": {},
   "outputs": [
    {
     "name": "stdin",
     "output_type": "stream",
     "text": [
      "Order:  sandwich\n"
     ]
    },
    {
     "name": "stdout",
     "output_type": "stream",
     "text": [
      "10\n"
     ]
    }
   ],
   "source": [
    "total = 0\n",
    "menu = { 'sandwich':10,  'tea':5,  'apple':3, 'cake':7    }\n",
    "\n",
    "while True:\n",
    "    order = input('Order: ').strip()\n",
    "\n",
    "    if order == '':\n",
    "        break\n",
    "    \n",
    "    if order in menu:    # is the thing the person wants also a key in \"menu\"?\n",
    "        price = menu[order]\n",
    "        total += price\n",
    "        print(f'{order} costs {price}; total is now {total}')\n",
    "    else:\n",
    "        print(f'{order} is not on the menu')"
   ]
  },
  {
   "cell_type": "code",
   "execution_count": null,
   "id": "c66b4398-41f7-40e6-a673-ce7cf8df816e",
   "metadata": {},
   "outputs": [],
   "source": []
  }
 ],
 "metadata": {
  "kernelspec": {
   "display_name": "Python 3 (ipykernel)",
   "language": "python",
   "name": "python3"
  },
  "language_info": {
   "codemirror_mode": {
    "name": "ipython",
    "version": 3
   },
   "file_extension": ".py",
   "mimetype": "text/x-python",
   "name": "python",
   "nbconvert_exporter": "python",
   "pygments_lexer": "ipython3",
   "version": "3.11.4"
  }
 },
 "nbformat": 4,
 "nbformat_minor": 5
}
