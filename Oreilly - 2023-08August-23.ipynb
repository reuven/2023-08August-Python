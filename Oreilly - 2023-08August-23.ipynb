{
 "cells": [
  {
   "cell_type": "markdown",
   "id": "fb54da44-75f3-4c73-aa3d-45d227566f62",
   "metadata": {},
   "source": [
    "# Agenda, day 3\n"
   ]
  },
  {
   "cell_type": "code",
   "execution_count": null,
   "id": "19a95044-92d5-4526-a3eb-a63de008a955",
   "metadata": {},
   "outputs": [],
   "source": []
  }
 ],
 "metadata": {
  "kernelspec": {
   "display_name": "Python 3 (ipykernel)",
   "language": "python",
   "name": "python3"
  },
  "language_info": {
   "codemirror_mode": {
    "name": "ipython",
    "version": 3
   },
   "file_extension": ".py",
   "mimetype": "text/x-python",
   "name": "python",
   "nbconvert_exporter": "python",
   "pygments_lexer": "ipython3",
   "version": "3.11.4"
  }
 },
 "nbformat": 4,
 "nbformat_minor": 5
}
