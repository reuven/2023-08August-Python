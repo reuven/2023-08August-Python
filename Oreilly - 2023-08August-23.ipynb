{
 "cells": [
  {
   "cell_type": "markdown",
   "id": "fb54da44-75f3-4c73-aa3d-45d227566f62",
   "metadata": {},
   "source": [
    "# Agenda, day 3: Dictionaries and files\n",
    "\n",
    "1. Dictionaries\n",
    "    - What are dictionaries?\n",
    "    - How can we define them and retrieve from them?\n",
    "    - Paradigm 1: Read-only dictionaries\n",
    "    - Paradigm 2: Updating dictionaries\n",
    "    - Paradigm 3: Start with an empty dict, and modify it from there\n",
    "    - How do dicts work behind the scenes?\n",
    "    - Iterating over a dict with a `for` loop\n",
    "3. Files\n",
    "    - What does it mean to work with files?\n",
    "    - Reading from (text) files -- good and bad techniques\n",
    "    - Working with text from files\n",
    "    - Writing to text files\n",
    "    - Using the `with` statement"
   ]
  },
  {
   "cell_type": "markdown",
   "id": "8e215ea1-b10a-414b-ae60-35b76c7f1ef1",
   "metadata": {},
   "source": [
    "# Loops\n",
    "\n",
    "The basic idea behind loops is that we have a task that we want to do repeatedly. Instead of typing the command many times, we type the command one time, inside of a loop, and the computer repeats things for us.\n",
    "\n",
    "There are two types of loops in Python, which reflect two different types of repetition we might want to do:\n",
    "\n",
    "1. `for` loops -- which go through a sequence (string, list, or tuple) one element at a time, letting us do something with each element.\n",
    "2. `while` loops -- which repeat the body of the loop until a condition (a la `if`) returns a `False` value.\n",
    "\n",
    "`for` loops are great for:\n",
    "- Doing the same thing with each element of a sequence\n",
    "- Going through a range of numbers -- using `range`\n",
    "- Going through a list of filenames in a directory\n",
    "- Going through a list of records that you have retrieved from a database\n",
    "- Testing all of the IP addresses on your network, to make sure they're connected\n",
    "\n",
    "`while` loops are great for:\n",
    "- You know what you want to do, but don't know how long you'll have to do it -- you can identify the condition when it should end, though\n",
    "- We want to get input from the user repeatedly, and don't know when they'll stop\n",
    "- We want to get a command input from the user, and don't know how many commands they'll give us"
   ]
  },
  {
   "cell_type": "markdown",
   "id": "9742c7c4-b9d2-4c75-bcfd-cbccdd6100f3",
   "metadata": {},
   "source": [
    "# Lists as accumulators\n",
    "\n",
    "We can use a list to accumulate information over the life of a program. We do this by defining an empty list. Whenever we want to put a new value onto the list, we just run `list.append`.\n"
   ]
  },
  {
   "cell_type": "code",
   "execution_count": 1,
   "id": "19a95044-92d5-4526-a3eb-a63de008a955",
   "metadata": {},
   "outputs": [
    {
     "name": "stdout",
     "output_type": "stream",
     "text": [
      "[10]\n",
      "[]\n"
     ]
    }
   ],
   "source": [
    "evens = []\n",
    "odds = []\n",
    "\n",
    "number = 10    \n",
    "\n",
    "# if number is even, then we'll add it to evens\n",
    "if number % 2 == 0:\n",
    "    evens.append(number)\n",
    "# otherwise, we'll add it to odds\n",
    "else:\n",
    "    odds.append(number)\n",
    "\n",
    "print(evens)\n",
    "print(odds)"
   ]
  },
  {
   "cell_type": "code",
   "execution_count": 2,
   "id": "5bbeb2b8-e779-4a8f-83f0-d58bbf25071c",
   "metadata": {},
   "outputs": [
    {
     "name": "stdout",
     "output_type": "stream",
     "text": [
      "[10]\n",
      "[13]\n"
     ]
    }
   ],
   "source": [
    "number = 13 \n",
    "\n",
    "# if number is even, then we'll add it to evens\n",
    "if number % 2 == 0:\n",
    "    evens.append(number)\n",
    "# otherwise, we'll add it to odds\n",
    "else:\n",
    "    odds.append(number)\n",
    "\n",
    "print(evens)\n",
    "print(odds)"
   ]
  },
  {
   "cell_type": "code",
   "execution_count": 3,
   "id": "c4685e84-9109-46bb-9053-66b7c9a74329",
   "metadata": {},
   "outputs": [
    {
     "name": "stdout",
     "output_type": "stream",
     "text": [
      "[10, 20, 22]\n",
      "[15, 35, 17]\n"
     ]
    }
   ],
   "source": [
    "# wouldn't it be better to just iterate over a list of numbers?\n",
    "evens = []\n",
    "odds = []\n",
    "\n",
    "all_numbers = [10, 15, 20, 35, 17, 22]\n",
    "\n",
    "for number in all_numbers:\n",
    "    # if number is even, then we'll add it to evens\n",
    "    if number % 2 == 0:\n",
    "        evens.append(number)\n",
    "    # otherwise, we'll add it to odds\n",
    "    else:\n",
    "        odds.append(number)\n",
    "\n",
    "print(evens)\n",
    "print(odds)"
   ]
  },
  {
   "cell_type": "code",
   "execution_count": 4,
   "id": "f55d8b72-a4c5-4001-bc08-70dd004595ae",
   "metadata": {},
   "outputs": [
    {
     "name": "stdin",
     "output_type": "stream",
     "text": [
      "Enter numbers:  10 15 20 35 22 17\n"
     ]
    },
    {
     "name": "stdout",
     "output_type": "stream",
     "text": [
      "[10, 20, 22]\n",
      "[15, 35, 17]\n"
     ]
    }
   ],
   "source": [
    "# what if I got inputs as a string?\n",
    "\n",
    "evens = []\n",
    "odds = []\n",
    "\n",
    "s = input('Enter numbers: ').strip()\n",
    "\n",
    "all_numbers = s.split()    # split always returns a list of strings\n",
    "\n",
    "for number in all_numbers:\n",
    "    number = int(number)   # get an integer based on the current number, which is a string\n",
    "\n",
    "    # if number is even, then we'll add it to evens\n",
    "    if number % 2 == 0:\n",
    "        evens.append(number)\n",
    "    # otherwise, we'll add it to odds\n",
    "    else:\n",
    "        odds.append(number)\n",
    "\n",
    "print(evens)\n",
    "print(odds)"
   ]
  },
  {
   "cell_type": "code",
   "execution_count": 5,
   "id": "be520d49-24cd-404f-a174-3a667e9070aa",
   "metadata": {},
   "outputs": [
    {
     "name": "stdin",
     "output_type": "stream",
     "text": [
      "Enter string:  hello! 123\n"
     ]
    },
    {
     "name": "stdout",
     "output_type": "stream",
     "text": [
      "['e', 'o']\n",
      "['1', '2', '3']\n",
      "['h', 'l', 'l', '!', ' ']\n"
     ]
    }
   ],
   "source": [
    "# vowels, digits, and others\n",
    "\n",
    "vowels = []\n",
    "digits = []\n",
    "others = []\n",
    "\n",
    "s = input('Enter string: ').strip()\n",
    "\n",
    "for one_character in s:\n",
    "    if one_character.isdigit():\n",
    "        digits.append(one_character)\n",
    "\n",
    "    elif one_character in 'aeiou':\n",
    "        vowels.append(one_character)\n",
    "\n",
    "    else:\n",
    "        others.append(one_character)\n",
    "\n",
    "print(vowels)\n",
    "print(digits)\n",
    "print(others)"
   ]
  },
  {
   "cell_type": "code",
   "execution_count": 6,
   "id": "cf2450f8-c9fa-4531-a573-d497d1abbc65",
   "metadata": {},
   "outputs": [
    {
     "data": {
      "text/plain": [
       "'a    b    c'"
      ]
     },
     "execution_count": 6,
     "metadata": {},
     "output_type": "execute_result"
    }
   ],
   "source": [
    "# str.strip is a method that returns a new string, without any whitespace (space, \\n, \\t, \\r, \\v)\n",
    "# on the outside of the string\n",
    "\n",
    "s = '     a    b    c    '\n",
    "\n",
    "s.strip()  # this returns a new string -- it doesn't modify s!"
   ]
  },
  {
   "cell_type": "markdown",
   "id": "c5c184d0-65ed-4108-8962-c7dc342a9863",
   "metadata": {},
   "source": [
    "# Dictionaries\n",
    "\n",
    "Dictionaries (aka \"dicts\" in the Python world) are the most powerful, most useful data structure in the language. They are not unique to Python! However, in other languages, we call them other things:\n",
    "\n",
    "- hash tables\n",
    "- hashes\n",
    "- name-value pairs\n",
    "- key-value pairs\n",
    "- hashmaps\n",
    "- maps\n",
    "- associative arrays\n",
    "\n",
    "The basic idea of a dictionary is that we have names and values, or keys and values.  \n",
    "\n",
    "When you think about a Python list, you think about the elements, the values of the list. The index that you use to retrieve those values is an annoyance, isn't set by you, and has nothing to do with the problem you're trying to solve.\n",
    "\n",
    "You can think of dictionaries (kind of) as lists in which you determine both the index and the value.  The index is known as the \"key.\" Via the key, you can retrieve the value.\n",
    "\n",
    "This means that you no longer need to just use 0, 1, 2, 3, etc. to retrieve values from your dict. Rather, you need to know what keys are in there.\n",
    "\n",
    "Keys:\n",
    "- Can be any immutable type (i.e., basically numbers and strings)\n",
    "- Must be unique -- if you reuse them, then you will lose data, too."
   ]
  },
  {
   "cell_type": "code",
   "execution_count": 7,
   "id": "62e58019-0c68-4000-8359-d4a55d85aaa7",
   "metadata": {},
   "outputs": [],
   "source": [
    "# let's create a dict!\n",
    "# - use {} to define it\n",
    "# - we define it with key-value pairs\n",
    "# - each key is whatever you wish to set it to (assuming that it's immutable)\n",
    "# - each value can be literally anything at all in Python\n",
    "# - we separate the key and value with :\n",
    "# - we separate pairs with commas\n",
    "\n",
    "d = {'a':10, 'b':20, 'c':30}"
   ]
  },
  {
   "cell_type": "code",
   "execution_count": 8,
   "id": "ba260351-c2bc-4740-9029-1563ff4d0218",
   "metadata": {},
   "outputs": [
    {
     "data": {
      "text/plain": [
       "3"
      ]
     },
     "execution_count": 8,
     "metadata": {},
     "output_type": "execute_result"
    }
   ],
   "source": [
    "len(d)  # how many key-value pairs are there in d?"
   ]
  },
  {
   "cell_type": "code",
   "execution_count": 9,
   "id": "266c54ef-e998-46ba-8f49-9a6f92a6c74e",
   "metadata": {},
   "outputs": [
    {
     "data": {
      "text/plain": [
       "10"
      ]
     },
     "execution_count": 9,
     "metadata": {},
     "output_type": "execute_result"
    }
   ],
   "source": [
    "# how can I retrieve from the dict?\n",
    "d['a']"
   ]
  },
  {
   "cell_type": "code",
   "execution_count": 10,
   "id": "9957582c-8dd8-4072-a553-cd19d8ec4f5d",
   "metadata": {},
   "outputs": [
    {
     "data": {
      "text/plain": [
       "20"
      ]
     },
     "execution_count": 10,
     "metadata": {},
     "output_type": "execute_result"
    }
   ],
   "source": [
    "d['b']"
   ]
  },
  {
   "cell_type": "code",
   "execution_count": 11,
   "id": "1cb9bb7e-c9c0-4ee7-9f04-ef7fb51d0a34",
   "metadata": {},
   "outputs": [
    {
     "data": {
      "text/plain": [
       "30"
      ]
     },
     "execution_count": 11,
     "metadata": {},
     "output_type": "execute_result"
    }
   ],
   "source": [
    "d['c']"
   ]
  },
  {
   "cell_type": "code",
   "execution_count": 12,
   "id": "15d87b47-3936-4095-b569-5517bea03108",
   "metadata": {},
   "outputs": [
    {
     "ename": "KeyError",
     "evalue": "'hello'",
     "output_type": "error",
     "traceback": [
      "\u001b[1;31m---------------------------------------------------------------------------\u001b[0m",
      "\u001b[1;31mKeyError\u001b[0m                                  Traceback (most recent call last)",
      "Cell \u001b[1;32mIn[12], line 1\u001b[0m\n\u001b[1;32m----> 1\u001b[0m \u001b[43md\u001b[49m\u001b[43m[\u001b[49m\u001b[38;5;124;43m'\u001b[39;49m\u001b[38;5;124;43mhello\u001b[39;49m\u001b[38;5;124;43m'\u001b[39;49m\u001b[43m]\u001b[49m\n",
      "\u001b[1;31mKeyError\u001b[0m: 'hello'"
     ]
    }
   ],
   "source": [
    "d['hello']"
   ]
  },
  {
   "cell_type": "code",
   "execution_count": 13,
   "id": "5ad6492e-19c1-40b5-8e3d-f40d26c112b9",
   "metadata": {},
   "outputs": [
    {
     "name": "stdout",
     "output_type": "stream",
     "text": [
      "No such key \"hello\" in here\n"
     ]
    }
   ],
   "source": [
    "# we can avoid key errors if we first check whether the key is in the dict\n",
    "# we use \"in\" for that\n",
    "\n",
    "if 'hello' in d:      # \"in\" only looks at the keys -- not the values!\n",
    "    print(d['hello'])\n",
    "else:\n",
    "    print(f'No such key \"hello\" in here')"
   ]
  },
  {
   "cell_type": "markdown",
   "id": "1d022724-f934-4e31-a359-b477aa4745fb",
   "metadata": {},
   "source": [
    "# Exercise: Restaurant\n",
    "\n",
    "0. Define `total` to be 0\n",
    "1. Define a dict, called `menu`, whose keys are item names on a menu, and whose values are the prices of those items.\n",
    "2. Have the user ask, again and again, for something on the menu.\n",
    "    - If we got an empty string, break out of the loop\n",
    "    - If we got a string that *is* a key, then retrieve the value, print the price, and add to the total.\n",
    "    - If we got a request that is *not* a key, then scold the user\n",
    "3. After the user enters an empty string, we can exit and print the total.\n",
    "\n",
    "Example:\n",
    "\n",
    "    Order: apple\n",
    "    apple is 3, total is 3\n",
    "    Order: banana\n",
    "    banana is 2, total is 5\n",
    "    Order: elephant\n",
    "    we're out of elephant today!\n",
    "    Order: [ENTER]\n",
    "    Total is 5"
   ]
  },
  {
   "cell_type": "code",
   "execution_count": 14,
   "id": "7a24677d-1cd6-4755-88c5-58cf0b338a75",
   "metadata": {},
   "outputs": [],
   "source": [
    "total = 0\n",
    "\n",
    "menu = { 'sandwich':10,  'tea':5,  'apple':3, 'cake':7    }"
   ]
  },
  {
   "cell_type": "code",
   "execution_count": 15,
   "id": "2489fa16-454a-43fc-85de-add9458eaaaa",
   "metadata": {},
   "outputs": [
    {
     "data": {
      "text/plain": [
       "4"
      ]
     },
     "execution_count": 15,
     "metadata": {},
     "output_type": "execute_result"
    }
   ],
   "source": [
    "len(menu)"
   ]
  },
  {
   "cell_type": "code",
   "execution_count": 17,
   "id": "08fd9343-8654-404f-8665-61600d7fc9c2",
   "metadata": {},
   "outputs": [
    {
     "data": {
      "text/plain": [
       "10"
      ]
     },
     "execution_count": 17,
     "metadata": {},
     "output_type": "execute_result"
    }
   ],
   "source": [
    "menu['sandwich']   # get the value in the dict \"menu\" for the key \"sandwich\""
   ]
  },
  {
   "cell_type": "code",
   "execution_count": 18,
   "id": "71f62312-d528-4840-af28-14d2776b7d8d",
   "metadata": {},
   "outputs": [
    {
     "data": {
      "text/plain": [
       "10"
      ]
     },
     "execution_count": 18,
     "metadata": {},
     "output_type": "execute_result"
    }
   ],
   "source": [
    "order = 'sandwich'\n",
    "\n",
    "menu[order]"
   ]
  },
  {
   "cell_type": "code",
   "execution_count": 19,
   "id": "bc6265d8-d45e-47f0-9008-a2918e1bc039",
   "metadata": {},
   "outputs": [
    {
     "ename": "KeyError",
     "evalue": "'ostrich'",
     "output_type": "error",
     "traceback": [
      "\u001b[1;31m---------------------------------------------------------------------------\u001b[0m",
      "\u001b[1;31mKeyError\u001b[0m                                  Traceback (most recent call last)",
      "Cell \u001b[1;32mIn[19], line 3\u001b[0m\n\u001b[0;32m      1\u001b[0m order \u001b[38;5;241m=\u001b[39m \u001b[38;5;124m'\u001b[39m\u001b[38;5;124mostrich\u001b[39m\u001b[38;5;124m'\u001b[39m\n\u001b[1;32m----> 3\u001b[0m \u001b[43mmenu\u001b[49m\u001b[43m[\u001b[49m\u001b[43morder\u001b[49m\u001b[43m]\u001b[49m   \u001b[38;5;66;03m# what is the price of ostrich?\u001b[39;00m\n",
      "\u001b[1;31mKeyError\u001b[0m: 'ostrich'"
     ]
    }
   ],
   "source": [
    "order = 'ostrich'\n",
    "\n",
    "menu[order]   # what is the price of ostrich?"
   ]
  },
  {
   "cell_type": "code",
   "execution_count": 20,
   "id": "58f8b1b2-c318-4399-9865-360c7eaccd95",
   "metadata": {},
   "outputs": [
    {
     "name": "stdout",
     "output_type": "stream",
     "text": [
      "ostrich is not on the menu\n"
     ]
    }
   ],
   "source": [
    "if order in menu:    # is the thing the person wants also a key in \"menu\"?\n",
    "    print(menu[order])\n",
    "else:\n",
    "    print(f'{order} is not on the menu')"
   ]
  },
  {
   "cell_type": "code",
   "execution_count": 23,
   "id": "f8d63ef6-eb53-4b82-9256-8e1e94c55b41",
   "metadata": {},
   "outputs": [
    {
     "name": "stdin",
     "output_type": "stream",
     "text": [
      "Order:  sandwich\n"
     ]
    },
    {
     "name": "stdout",
     "output_type": "stream",
     "text": [
      "sandwich costs 10; total is now 10\n"
     ]
    },
    {
     "name": "stdin",
     "output_type": "stream",
     "text": [
      "Order:  tea\n"
     ]
    },
    {
     "name": "stdout",
     "output_type": "stream",
     "text": [
      "tea costs 5; total is now 15\n"
     ]
    },
    {
     "name": "stdin",
     "output_type": "stream",
     "text": [
      "Order:  cake\n"
     ]
    },
    {
     "name": "stdout",
     "output_type": "stream",
     "text": [
      "cake costs 7; total is now 22\n"
     ]
    },
    {
     "name": "stdin",
     "output_type": "stream",
     "text": [
      "Order:  banana\n"
     ]
    },
    {
     "name": "stdout",
     "output_type": "stream",
     "text": [
      "banana is not on the menu\n"
     ]
    },
    {
     "name": "stdin",
     "output_type": "stream",
     "text": [
      "Order:  \n"
     ]
    },
    {
     "name": "stdout",
     "output_type": "stream",
     "text": [
      "Total is 22\n"
     ]
    }
   ],
   "source": [
    "total = 0\n",
    "menu = { 'sandwich':10,  'tea':5,  'apple':3, 'cake':7    }\n",
    "\n",
    "while True:\n",
    "    order = input('Order: ').strip()\n",
    "\n",
    "    if order == '':\n",
    "        break\n",
    "    \n",
    "    if order in menu:    # is the thing the person wants also a key in \"menu\"?\n",
    "        price = menu[order]\n",
    "        total += price\n",
    "        print(f'{order} costs {price}; total is now {total}')\n",
    "    else:\n",
    "        print(f'{order} is not on the menu')\n",
    "\n",
    "print(f'Total is {total}')"
   ]
  },
  {
   "cell_type": "markdown",
   "id": "ede0a671-c8d5-4e7d-ada1-d0dd3af352d1",
   "metadata": {},
   "source": [
    "# Dictionaries are mutable!\n",
    "\n",
    "- If you want to add key-value pairs to a dict, you can.\n",
    "- If you want to modify the value associated with a key, you can."
   ]
  },
  {
   "cell_type": "code",
   "execution_count": 24,
   "id": "ac2d01e8-081f-4c5d-893c-a50a79a2465e",
   "metadata": {},
   "outputs": [
    {
     "data": {
      "text/plain": [
       "{'a': 2345, 'b': 20, 'c': 30}"
      ]
     },
     "execution_count": 24,
     "metadata": {},
     "output_type": "execute_result"
    }
   ],
   "source": [
    "d = {'a':10, 'b':20, 'c':30}\n",
    "\n",
    "d['a'] = 2345    # replace the existing value asociated with 'a' with 2345\n",
    "d"
   ]
  },
  {
   "cell_type": "code",
   "execution_count": 25,
   "id": "4eca6585-c49b-4a19-80f9-5dde954cf598",
   "metadata": {},
   "outputs": [],
   "source": [
    "# when we assign to a key that already exists, the key remains, and the value is changed/updated"
   ]
  },
  {
   "cell_type": "code",
   "execution_count": 26,
   "id": "8022bce0-d138-4ba5-b69f-1097e9b5139c",
   "metadata": {},
   "outputs": [
    {
     "data": {
      "text/plain": [
       "{'a': 2345, 'b': 20, 'c': 30, 'x': 12345}"
      ]
     },
     "execution_count": 26,
     "metadata": {},
     "output_type": "execute_result"
    }
   ],
   "source": [
    "# how can I add new key-value pairs to my dict?\n",
    "# we just assign, same as we did to update values -- make sure to use a key that doesn't already exist in there\n",
    "\n",
    "d['x'] = 12345\n",
    "d"
   ]
  },
  {
   "cell_type": "code",
   "execution_count": 27,
   "id": "8398d2d9-7289-4cd5-84a4-9f4e8d46d8f9",
   "metadata": {},
   "outputs": [
    {
     "data": {
      "text/plain": [
       "{'a': 2345, 'b': 20, 'c': 30, 'x': 12345, 'y': 'goodbye!'}"
      ]
     },
     "execution_count": 27,
     "metadata": {},
     "output_type": "execute_result"
    }
   ],
   "source": [
    "d['y'] = 'goodbye!'\n",
    "d"
   ]
  },
  {
   "cell_type": "code",
   "execution_count": 28,
   "id": "a87b7283-4b3e-4543-adec-96cb38ca1dec",
   "metadata": {},
   "outputs": [
    {
     "data": {
      "text/plain": [
       "{'sandwich': 10, 'tea': 5, 'apple': 3, 'cake': 7}"
      ]
     },
     "execution_count": 28,
     "metadata": {},
     "output_type": "execute_result"
    }
   ],
   "source": [
    "menu"
   ]
  },
  {
   "cell_type": "code",
   "execution_count": 29,
   "id": "4fbfa42b-09e8-4f4a-bcb0-13958a6c0084",
   "metadata": {},
   "outputs": [
    {
     "data": {
      "text/plain": [
       "{'sandwich': 10, 'tea': 5, 'apple': 3, 'cake': 7, 'coffee': 7}"
      ]
     },
     "execution_count": 29,
     "metadata": {},
     "output_type": "execute_result"
    }
   ],
   "source": [
    "menu['coffee'] = 7\n",
    "menu"
   ]
  },
  {
   "cell_type": "code",
   "execution_count": 30,
   "id": "bdb255d8-dc5f-4b8f-968b-6e424e0ac96a",
   "metadata": {},
   "outputs": [
    {
     "data": {
      "text/plain": [
       "{'sandwich': 10, 'tea': 5, 'apple': 3, 'cake': 7, 'coffee': 8}"
      ]
     },
     "execution_count": 30,
     "metadata": {},
     "output_type": "execute_result"
    }
   ],
   "source": [
    "menu['coffee'] = 8   # now I have increased the price\n",
    "menu"
   ]
  },
  {
   "cell_type": "code",
   "execution_count": 32,
   "id": "2b9e5019-2d6c-4785-8fd0-e114dca54ae5",
   "metadata": {},
   "outputs": [
    {
     "data": {
      "text/plain": [
       "8"
      ]
     },
     "execution_count": 32,
     "metadata": {},
     "output_type": "execute_result"
    }
   ],
   "source": [
    "# what about removing things from a dict?\n",
    "# we use the \"pop\" method -- give it a key, and it'll remove the key and its value - -and will return the value\n",
    "\n",
    "menu.pop('coffee')"
   ]
  },
  {
   "cell_type": "code",
   "execution_count": 33,
   "id": "5b5216e5-9d97-4dab-864a-bf400ea57eea",
   "metadata": {},
   "outputs": [
    {
     "data": {
      "text/plain": [
       "{'sandwich': 10, 'tea': 5, 'apple': 3, 'cake': 7}"
      ]
     },
     "execution_count": 33,
     "metadata": {},
     "output_type": "execute_result"
    }
   ],
   "source": [
    "menu"
   ]
  },
  {
   "cell_type": "code",
   "execution_count": 34,
   "id": "ab401fa8-9eeb-49eb-a0a6-a9ed561ef440",
   "metadata": {},
   "outputs": [],
   "source": [
    "del(menu['tea'])  # you can remove a key-value pair this way, too"
   ]
  },
  {
   "cell_type": "code",
   "execution_count": 35,
   "id": "a457b2be-eb8a-440c-ac04-2344f3e3d153",
   "metadata": {},
   "outputs": [
    {
     "data": {
      "text/plain": [
       "{'sandwich': 10, 'apple': 3, 'cake': 7}"
      ]
     },
     "execution_count": 35,
     "metadata": {},
     "output_type": "execute_result"
    }
   ],
   "source": [
    "menu"
   ]
  },
  {
   "cell_type": "code",
   "execution_count": 36,
   "id": "7d76d1b9-0bcf-4a81-90c6-9f58c8bf723a",
   "metadata": {},
   "outputs": [
    {
     "data": {
      "text/plain": [
       "{}"
      ]
     },
     "execution_count": 36,
     "metadata": {},
     "output_type": "execute_result"
    }
   ],
   "source": [
    "# the dict.clear method removes all key-value pairs from a dict\n",
    "menu.clear()\n",
    "menu"
   ]
  },
  {
   "cell_type": "code",
   "execution_count": 37,
   "id": "189e1324-298e-4b54-ae90-de855b2872a9",
   "metadata": {},
   "outputs": [],
   "source": [
    "del(menu)  # now the variable is gone, losing us the entire dict"
   ]
  },
  {
   "cell_type": "code",
   "execution_count": 38,
   "id": "1c9e185e-45f8-4174-b797-56c72c0a5783",
   "metadata": {},
   "outputs": [
    {
     "ename": "NameError",
     "evalue": "name 'menu' is not defined",
     "output_type": "error",
     "traceback": [
      "\u001b[1;31m---------------------------------------------------------------------------\u001b[0m",
      "\u001b[1;31mNameError\u001b[0m                                 Traceback (most recent call last)",
      "Cell \u001b[1;32mIn[38], line 1\u001b[0m\n\u001b[1;32m----> 1\u001b[0m \u001b[43mmenu\u001b[49m\n",
      "\u001b[1;31mNameError\u001b[0m: name 'menu' is not defined"
     ]
    }
   ],
   "source": [
    "menu"
   ]
  },
  {
   "cell_type": "markdown",
   "id": "97d051f6-1064-48d2-8c44-e1edfaeef94f",
   "metadata": {},
   "source": [
    "# Next up:\n",
    "\n",
    "1. Paradigm 2 -- updating a dict, but not modifying the keys\n",
    "2. Looping on dicts\n",
    "3. Paradigm 3 -- starting with an empty dict"
   ]
  },
  {
   "cell_type": "markdown",
   "id": "2b8a1cdf-ecc1-43b7-9c06-3e69999f10b2",
   "metadata": {},
   "source": [
    "# Examples of where to use dicts\n",
    "\n",
    "1. Month names (keys) to month numbers (values)\n",
    "2. Month numbers (keys) to month names (values)\n",
    "3. User IDs and real names\n",
    "4. User IDs and dicts (yes, a dict can be a value) with first name, last name, etc.\n",
    "\n",
    "You will, at some point, see opportunities to use dicts all over. "
   ]
  },
  {
   "cell_type": "markdown",
   "id": "9f5b491e-8642-4330-b96b-d5f4478b98cc",
   "metadata": {},
   "source": [
    "# Paradigm 2\n",
    "\n",
    "In this paradigm for dict use, you create it at the start of the program, and you give each of the values default/starting values - often 0 or the empty list.\n",
    "\n",
    "Over the course of the program, you add to that default. You won't ever add or remove keys, but you will definitely update the values.\n",
    "\n",
    "Could you use several variables instead of one dict? Yes! But having them all in a dict gives you semantic power, and also helps you to keep track of them."
   ]
  },
  {
   "cell_type": "markdown",
   "id": "db5ec23a-5f47-4ff1-8bdd-185487efed27",
   "metadata": {},
   "source": [
    "# Exercise: Digits, vowels, and others (dict edition)\n",
    "\n",
    "1. Define a dict with three keys -- `digits`, `vowels`, and `others` -- all of which have 0 for the value.\n",
    "2. Ask the user to enter a string.\n",
    "3. Go through the string, one character at a time:\n",
    "    - If it's a digit, increase the count for `digits`\n",
    "    - If it's a vowel, increase the count for `vowels`\n",
    "    - If neither is the case, then increase the count for `others`\n",
    "4. Print the dict.\n",
    "\n",
    "Example:\n",
    "\n",
    "    Enter a string: hello! 123\n",
    "    {'digits':3, 'vowels':2, 'others':5}"
   ]
  },
  {
   "cell_type": "code",
   "execution_count": 39,
   "id": "078dbe95-1225-4b07-b35d-6957b46f0616",
   "metadata": {},
   "outputs": [
    {
     "name": "stdin",
     "output_type": "stream",
     "text": [
      "Enter a string:  hello! 123\n"
     ]
    },
    {
     "name": "stdout",
     "output_type": "stream",
     "text": [
      "{'digits': 3, 'vowels': 2, 'others': 5}\n"
     ]
    }
   ],
   "source": [
    "counts = {'digits':0, \n",
    "          'vowels':0, \n",
    "          'others':0}\n",
    "\n",
    "s = input('Enter a string: ').strip()\n",
    "\n",
    "for one_character in s:\n",
    "    if one_character.isdigit():\n",
    "        counts['digits'] += 1\n",
    "    elif one_character in 'aeiou':\n",
    "        counts['vowels'] += 1\n",
    "    else:\n",
    "        counts['others'] += 1\n",
    "\n",
    "print(counts)"
   ]
  },
  {
   "cell_type": "markdown",
   "id": "17fd8c39-1e19-4753-a61f-4f816c8e043f",
   "metadata": {},
   "source": [
    "# Loops and dictionaries\n",
    "\n",
    "Can we loop over a dict? Let's try!\n"
   ]
  },
  {
   "cell_type": "code",
   "execution_count": 40,
   "id": "257bc458-00b7-4248-b972-75aa58642594",
   "metadata": {},
   "outputs": [
    {
     "name": "stdout",
     "output_type": "stream",
     "text": [
      "a\n",
      "b\n",
      "c\n"
     ]
    }
   ],
   "source": [
    "d = {'a':100, 'b':200, 'c':300}\n",
    "\n",
    "# if you loop over a dict, you get the keys\n",
    "for one_item in d:\n",
    "    print(one_item)"
   ]
  },
  {
   "cell_type": "code",
   "execution_count": 41,
   "id": "0e4dc872-eb99-4469-97ed-1a212377f772",
   "metadata": {},
   "outputs": [
    {
     "name": "stdout",
     "output_type": "stream",
     "text": [
      "a: 100\n",
      "b: 200\n",
      "c: 300\n"
     ]
    }
   ],
   "source": [
    "# if I want to loop over a dict and print all of the keys and values,\n",
    "# one way to do it is as follows:\n",
    "\n",
    "for one_key in d:\n",
    "    print(f'{one_key}: {d[one_key]}')"
   ]
  },
  {
   "cell_type": "code",
   "execution_count": 42,
   "id": "451a4a80-c1b6-4a05-815e-9e20c97b09e3",
   "metadata": {},
   "outputs": [
    {
     "data": {
      "text/plain": [
       "dict_keys(['a', 'b', 'c'])"
      ]
     },
     "execution_count": 42,
     "metadata": {},
     "output_type": "execute_result"
    }
   ],
   "source": [
    "# there are some dict methods you might have discovered...\n",
    "d.keys()"
   ]
  },
  {
   "cell_type": "code",
   "execution_count": 43,
   "id": "116f4bbe-2a0a-4d3a-9aa0-694a11b714eb",
   "metadata": {},
   "outputs": [
    {
     "name": "stdout",
     "output_type": "stream",
     "text": [
      "a: 100\n",
      "b: 200\n",
      "c: 300\n"
     ]
    }
   ],
   "source": [
    "# could I instead say:\n",
    "\n",
    "for one_key in d.keys():   # NEVER EVER EVER EVER EVER EVER EVER DO THIS! PLEASE!\n",
    "    print(f'{one_key}: {d[one_key]}')    "
   ]
  },
  {
   "cell_type": "markdown",
   "id": "d2cac391-d1a6-46ac-8b47-bc12fc1c2cd9",
   "metadata": {},
   "source": [
    "Running a `for` loop on a dict object gives you the keys.\n",
    "\n",
    "Running a `for` loop on `d.keys()` first requires that Python find the `keys` method. Then the method needs to run. Then the method needs to return its data structure. Then we can finally iterate over the keys... the same keys we get from the object itself.\n",
    "\n",
    "Using `d.keys()` for iteration has no added value."
   ]
  },
  {
   "cell_type": "code",
   "execution_count": 44,
   "id": "49b85af7-5615-4e97-b55a-eea642fc0d95",
   "metadata": {},
   "outputs": [
    {
     "data": {
      "text/plain": [
       "dict_values([100, 200, 300])"
      ]
     },
     "execution_count": 44,
     "metadata": {},
     "output_type": "execute_result"
    }
   ],
   "source": [
    "# there is also a d.values()\n",
    "\n",
    "d.values()"
   ]
  },
  {
   "cell_type": "code",
   "execution_count": 45,
   "id": "e5ac306e-1314-41c3-a6b0-c829951bfaa2",
   "metadata": {},
   "outputs": [
    {
     "data": {
      "text/plain": [
       "dict_items([('a', 100), ('b', 200), ('c', 300)])"
      ]
     },
     "execution_count": 45,
     "metadata": {},
     "output_type": "execute_result"
    }
   ],
   "source": [
    "d.items()"
   ]
  },
  {
   "cell_type": "code",
   "execution_count": 46,
   "id": "a82641da-250e-4293-bdc0-b677317483de",
   "metadata": {},
   "outputs": [
    {
     "name": "stdout",
     "output_type": "stream",
     "text": [
      "a: 100\n",
      "b: 200\n",
      "c: 300\n"
     ]
    }
   ],
   "source": [
    "# there's a better way to iterate over a dict\n",
    "# the dict.items method returns what's basically a list of tuples\n",
    "# each tuple contains two elements, a key and a value\n",
    "\n",
    "for t in d.items():\n",
    "    key, value = t   # unpacking\n",
    "    print(f'{key}: {value}')"
   ]
  },
  {
   "cell_type": "code",
   "execution_count": 47,
   "id": "82248279-8a82-4135-ba1a-058d85195697",
   "metadata": {},
   "outputs": [
    {
     "name": "stdout",
     "output_type": "stream",
     "text": [
      "a: 100\n",
      "b: 200\n",
      "c: 300\n"
     ]
    }
   ],
   "source": [
    "# remember from yesterday.. unpacking!\n",
    "\n",
    "# my favorite way to iterate over a dict!\n",
    "\n",
    "for key, value in d.items():\n",
    "    print(f'{key}: {value}')"
   ]
  },
  {
   "cell_type": "markdown",
   "id": "11090b3a-2ea4-4785-9a46-88a6367c38e0",
   "metadata": {},
   "source": [
    "# Paradigm 3\n",
    "\n",
    "- Start with an empty dict\n",
    "- Sometimes, you'll need to add a new key\n",
    "- Sometimes, you'll need to add/update a value\n",
    "\n",
    "This is appropriate when we don't know what names (keys) we'll get, and we don't know what values we'll get, but we know what we want to do with them.\n",
    "\n"
   ]
  },
  {
   "cell_type": "code",
   "execution_count": 48,
   "id": "6ba22879-78fa-4f87-8a69-916de64e976f",
   "metadata": {},
   "outputs": [
    {
     "ename": "KeyError",
     "evalue": "'h'",
     "output_type": "error",
     "traceback": [
      "\u001b[1;31m---------------------------------------------------------------------------\u001b[0m",
      "\u001b[1;31mKeyError\u001b[0m                                  Traceback (most recent call last)",
      "Cell \u001b[1;32mIn[48], line 8\u001b[0m\n\u001b[0;32m      5\u001b[0m s \u001b[38;5;241m=\u001b[39m \u001b[38;5;124m'\u001b[39m\u001b[38;5;124mhello! 123\u001b[39m\u001b[38;5;124m'\u001b[39m\n\u001b[0;32m      7\u001b[0m \u001b[38;5;28;01mfor\u001b[39;00m one_character \u001b[38;5;129;01min\u001b[39;00m s:\n\u001b[1;32m----> 8\u001b[0m     \u001b[43mcounts\u001b[49m\u001b[43m[\u001b[49m\u001b[43mone_character\u001b[49m\u001b[43m]\u001b[49m \u001b[38;5;241m+\u001b[39m\u001b[38;5;241m=\u001b[39m \u001b[38;5;241m1\u001b[39m    \u001b[38;5;66;03m# my ideal!\u001b[39;00m\n",
      "\u001b[1;31mKeyError\u001b[0m: 'h'"
     ]
    }
   ],
   "source": [
    "# Example: Character counter\n",
    "\n",
    "counts = {}\n",
    "\n",
    "s = 'hello! 123'\n",
    "\n",
    "for one_character in s:\n",
    "    counts[one_character] += 1    # my ideal!"
   ]
  },
  {
   "cell_type": "code",
   "execution_count": 49,
   "id": "ced59cd3-511b-44a3-9fe0-b3a32f32981a",
   "metadata": {},
   "outputs": [
    {
     "data": {
      "text/plain": [
       "{'h': 1, 'e': 1, 'l': 2, 'o': 1, '!': 1, ' ': 1, '1': 1, '2': 1, '3': 1}"
      ]
     },
     "execution_count": 49,
     "metadata": {},
     "output_type": "execute_result"
    }
   ],
   "source": [
    "# Example: Character counter\n",
    "\n",
    "counts = {}\n",
    "\n",
    "s = 'hello! 123'\n",
    "\n",
    "for one_character in s:\n",
    "    if one_character in counts:\n",
    "        counts[one_character] += 1    # add 1 to the value of anything that already exists\n",
    "    else:\n",
    "        counts[one_character] = 1     # assign a new key-value pair to the dict\n",
    "\n",
    "counts"
   ]
  },
  {
   "cell_type": "markdown",
   "id": "0e35b1d5-1527-4faf-823e-c888ba1aadd9",
   "metadata": {},
   "source": [
    "# Exercise: Rainfall\n",
    "\n",
    "1. Define an empty dictionary, called `rainfall`. Eventually, the keys will be strings (names of cities) and the values will be integers (mm of rain).\n",
    "2. Ask the user to enter the name of a city.\n",
    "    - If they give us an empty city name, stop asking\n",
    "3. If they gave us a city name, then ask (in a separate question) for the number of mm that fell there yesterday. We can assign this to `mm_rain`.\n",
    "4. Check to see if we previously knew about this city:\n",
    "    - If it's new, then assign the city name and `mm_rain` to the `rainfall` dict\n",
    "    - If it's not new, then just update the value, adding `mm_rain`\n",
    "5. Print out the `rainfall` dict, with one key-value pair on each line.\n",
    "\n",
    "Example:\n",
    "\n",
    "    City: Tel Aviv\n",
    "    Rain: 2\n",
    "    City: Jerusalem\n",
    "    Rain: 3\n",
    "    City: Tel Aviv\n",
    "    Rain: 1\n",
    "    City: [ENTER]\n",
    "    Tel Aviv: 3\n",
    "    Jeusalem: 3\n",
    "    "
   ]
  },
  {
   "cell_type": "code",
   "execution_count": 54,
   "id": "6a291c1e-7013-4646-9dd3-b3c0f295f4a3",
   "metadata": {},
   "outputs": [
    {
     "name": "stdin",
     "output_type": "stream",
     "text": [
      "City:  a\n",
      "Rain:  5\n",
      "City:  b\n",
      "Rain:  4\n",
      "City:  a\n",
      "Rain:  3\n",
      "City:  \n"
     ]
    },
    {
     "name": "stdout",
     "output_type": "stream",
     "text": [
      "a: 8\n",
      "b: 4\n"
     ]
    }
   ],
   "source": [
    "rainfall = {}\n",
    "\n",
    "while True:    \n",
    "    city_name = input('City: ').strip()\n",
    "\n",
    "    if city_name == '':\n",
    "        break\n",
    "\n",
    "    mm_rain = input('Rain: ').strip()\n",
    "    mm_rain = int(mm_rain)   # we are not checking whether mm_rain contains only digits\n",
    "\n",
    "    if city_name in rainfall:   # if city_name is already a key...\n",
    "        rainfall[city_name] += mm_rain  # existing cities -- add to their values\n",
    "    else:\n",
    "        rainfall[city_name] = mm_rain   # new cities -- set the value\n",
    "\n",
    "for key, value in rainfall.items():\n",
    "    print(f'{key}: {value}')\n",
    "    "
   ]
  },
  {
   "cell_type": "code",
   "execution_count": 52,
   "id": "47769b40-aee6-4ae2-9c55-cd7ba9484db8",
   "metadata": {},
   "outputs": [
    {
     "name": "stdout",
     "output_type": "stream",
     "text": [
      "{'Tel Aviv': '53', 'Jerusalem': '4'}\n"
     ]
    }
   ],
   "source": [
    "print(rainfall)"
   ]
  },
  {
   "cell_type": "markdown",
   "id": "22ac9e8b-1ca9-4277-bee1-312aee210112",
   "metadata": {},
   "source": [
    "# Next up\n",
    "\n",
    "1. How do dictionaries work?\n",
    "2. A little more dict practice\n",
    "3. Files -- reading and writing "
   ]
  },
  {
   "cell_type": "markdown",
   "id": "fe1bda81-e49a-4ef2-8664-1b7fcb936884",
   "metadata": {},
   "source": [
    "# How do dicts work?\n",
    "\n",
    "Let's start off by considering (to some degree) how lists work:\n",
    "\n",
    "- We start with an empty list\n",
    "- We add an element, and it gets index 0 (automatically)\n",
    "- We add another element, and it gets index 1 (automatically)\n",
    "- When we add the nth element, it gets index n-1 automatically\n",
    "\n",
    "There isn't any way to predict where a value will be stored in a list. This means that if someone asks whether a value is in the list, we'll need to look (potentially) through the whole list to find it.\n",
    "\n",
    "This means that searching for a value in a list will take longer if the list is longer.  \n",
    "\n",
    "In CS theory circles, we can say that the time it takes to search a list is O(n) -- meaning, it grows with the length of the list.\n",
    "\n",
    "Dictionaries are completely different. When we store data in a dict, we are determining the key, and we are determining the value. Here's the thing: The key helps to determine where the key-value pair is stored in memory.\n",
    "\n",
    "When we want to store key `'a'` and value `5`, Python needs to decide where it will be stored. In the case of a list, it just took the next possible location. In the case of a dictionary, Python runs a function on the key. The result of that function tells us where to store the key-value pair.\n",
    "\n",
    "This is known as a \"hash function,\" and it returns the same value for the same argument, again and again. But the value for `'a'` and the value for `'b'` seem to be completely disconnected. A good hash function doesn't let you predict what value you'll get for a given input.  \n",
    "\n",
    "When I want to store\n",
    "\n",
    "    d['a'] = 1\n",
    "\n",
    "Python run:\n",
    "\n",
    "    location = hash('a')\n",
    "    store_at[location]('a', 1)\n",
    "\n",
    "This is one reason why dict keys have to be unique -- if two keys have the same hash function result, then you could end up in such a situation, where two key-value pairs want to be stored in the same place.\n",
    "\n",
    "Let's say I want to find out whether `'a'` is in the dict. I can just run the hash function on `'a'`, get a number and jump to there -- if I see it, then yes, 'a' is in the dict. If not, I can just give up.\n",
    "\n",
    "Lookup in a dict is thus super super fast -- we call it O(1), \"constant time.\" It doesn't matter (mostly) how big a dict gets, beacuse the search and lookup times will be so fast."
   ]
  }
 ],
 "metadata": {
  "kernelspec": {
   "display_name": "Python 3 (ipykernel)",
   "language": "python",
   "name": "python3"
  },
  "language_info": {
   "codemirror_mode": {
    "name": "ipython",
    "version": 3
   },
   "file_extension": ".py",
   "mimetype": "text/x-python",
   "name": "python",
   "nbconvert_exporter": "python",
   "pygments_lexer": "ipython3",
   "version": "3.11.4"
  }
 },
 "nbformat": 4,
 "nbformat_minor": 5
}
