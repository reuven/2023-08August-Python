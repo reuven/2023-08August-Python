{
 "cells": [
  {
   "cell_type": "markdown",
   "id": "fb54da44-75f3-4c73-aa3d-45d227566f62",
   "metadata": {},
   "source": [
    "# Agenda, day 3: Dictionaries and files\n",
    "\n",
    "1. Dictionaries\n",
    "    - What are dictionaries?\n",
    "    - How can we define them and retrieve from them?\n",
    "    - Paradigm 1: Read-only dictionaries\n",
    "    - Paradigm 2: Updating dictionaries\n",
    "    - Paradigm 3: Start with an empty dict, and modify it from there\n",
    "    - How do dicts work behind the scenes?\n",
    "    - Iterating over a dict with a `for` loop\n",
    "3. Files\n",
    "    - What does it mean to work with files?\n",
    "    - Reading from (text) files -- good and bad techniques\n",
    "    - Working with text from files\n",
    "    - Writing to text files\n",
    "    - Using the `with` statement"
   ]
  },
  {
   "cell_type": "markdown",
   "id": "8e215ea1-b10a-414b-ae60-35b76c7f1ef1",
   "metadata": {},
   "source": [
    "# Loops\n",
    "\n",
    "The basic idea behind loops is that we have a task that we want to do repeatedly. Instead of typing the command many times, we type the command one time, inside of a loop, and the computer repeats things for us.\n",
    "\n",
    "There are two types of loops in Python, which reflect two different types of repetition we might want to do:\n",
    "\n",
    "1. `for` loops -- which go through a sequence (string, list, or tuple) one element at a time, letting us do something with each element.\n",
    "2. `while` loops -- which repeat the body of the loop until a condition (a la `if`) returns a `False` value.\n",
    "\n",
    "`for` loops are great for:\n",
    "- Doing the same thing with each element of a sequence\n",
    "- Going through a range of numbers\n",
    "- Going through a list of filenames in a directory\n",
    "- Going through a list of records that you have retrieved from a database\n",
    "- Testing all of the IP addresses on your network, to make sure they're connected"
   ]
  },
  {
   "cell_type": "code",
   "execution_count": null,
   "id": "19a95044-92d5-4526-a3eb-a63de008a955",
   "metadata": {},
   "outputs": [],
   "source": []
  }
 ],
 "metadata": {
  "kernelspec": {
   "display_name": "Python 3 (ipykernel)",
   "language": "python",
   "name": "python3"
  },
  "language_info": {
   "codemirror_mode": {
    "name": "ipython",
    "version": 3
   },
   "file_extension": ".py",
   "mimetype": "text/x-python",
   "name": "python",
   "nbconvert_exporter": "python",
   "pygments_lexer": "ipython3",
   "version": "3.11.4"
  }
 },
 "nbformat": 4,
 "nbformat_minor": 5
}
