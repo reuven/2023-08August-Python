{
 "cells": [
  {
   "cell_type": "markdown",
   "id": "fb54da44-75f3-4c73-aa3d-45d227566f62",
   "metadata": {},
   "source": [
    "# Agenda, day 3: Dictionaries and files\n",
    "\n",
    "1. Dictionaries\n",
    "    - What are dictionaries?\n",
    "    - How can we define them and retrieve from them?\n",
    "    - Paradigm 1: Read-only dictionaries\n",
    "    - Paradigm 2: Updating dictionaries\n",
    "    - Paradigm 3: Start with an empty dict, and modify it from there\n",
    "    - How do dicts work behind the scenes?\n",
    "    - Iterating over a dict with a `for` loop\n",
    "3. Files\n",
    "    - What does it mean to work with files?\n",
    "    - Reading from (text) files -- good and bad techniques\n",
    "    - Working with text from files\n",
    "    - Writing to text files\n",
    "    - Using the `with` statement"
   ]
  },
  {
   "cell_type": "code",
   "execution_count": null,
   "id": "19a95044-92d5-4526-a3eb-a63de008a955",
   "metadata": {},
   "outputs": [],
   "source": []
  }
 ],
 "metadata": {
  "kernelspec": {
   "display_name": "Python 3 (ipykernel)",
   "language": "python",
   "name": "python3"
  },
  "language_info": {
   "codemirror_mode": {
    "name": "ipython",
    "version": 3
   },
   "file_extension": ".py",
   "mimetype": "text/x-python",
   "name": "python",
   "nbconvert_exporter": "python",
   "pygments_lexer": "ipython3",
   "version": "3.11.4"
  }
 },
 "nbformat": 4,
 "nbformat_minor": 5
}
