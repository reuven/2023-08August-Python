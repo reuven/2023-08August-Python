{
 "cells": [
  {
   "cell_type": "markdown",
   "id": "f696b7e7-50b8-48ad-baea-d6eba9c2c119",
   "metadata": {},
   "source": [
    "# Agenda: Day 5 (modules and packages)\n",
    "\n",
    "1. What are modules? What do they contain?\n",
    "2. `import` -- and its different variations\n",
    "3. Re-importing modules -- when does this matter, and how do we do it?\n",
    "4. A little bit about writing our own modules\n",
    "5. Python's standard library\n",
    "6. PyPI -- Python Package Index, and installing things with `pip` (warning: this might not work for you)\n",
    "7. Where to from here?\n",
    "    - How/where can you improve your Python after this course?\n",
    "    - What could/should you study next?"
   ]
  },
  {
   "cell_type": "markdown",
   "id": "1bbd1342-6aaa-4c3b-b413-ed41a889884e",
   "metadata": {},
   "source": [
    "# Modules -- what are they?\n",
    "\n",
    "Remember the DRY rule -- \"Don't Repeat Yourself!\"\n",
    "\n",
    "- If you have several lines in a row that roughly repeat themselves, you can use a loop.\n",
    "- If you have the same code in several different places in your program, you can use a function.\n",
    "- If you have the same code in several *different* programs, you can use a library.\n",
    "\n",
    "Every programming language (that I know of) supports the use of external libraries. Those libraries contain data structures, functions, and classes that we might want to use in more than one program.\n",
    "\n",
    "This means that if there's functionality which repeats in my program, then I can benefit by putting it in a library and then using it not just in the current program, but in future programs. If there's functionality that'll help me (or my team, or my company, or the world) beyond my current project, then putting things in a library makes a lot of sense.\n",
    "\n",
    "In Python, we have libraries -- but we call them \"modules.\"\n",
    "\n",
    "Modules do two things:\n",
    "\n",
    "1. They are libraries, as described here.\n",
    "2. They are also *namespaces*, ensuring that variable names don't collide with one another.\n",
    "\n",
    "Namespaces are sort of like last names for variables -- they greatly reduce the chance that we'll have a namespace collision. \n",
    "\n",
    "Imagine having to write the following kinds of software:\n",
    "- Reliable login systems, including cryptography\n",
    "- Printing things on a printer in graphics format\n",
    "- Translates from Python to C\n",
    "- Many modern libraries implement the client side of an API, so that you can access all sorts of online services"
   ]
  },
  {
   "cell_type": "markdown",
   "id": "d7291105-8fe2-48a8-bc47-c0b5f7252510",
   "metadata": {},
   "source": [
    "# Using modules with `import`\n",
    "\n",
    "If you want to use a module in Python, you must first `import` it. The syntax looks like this:\n",
    "\n",
    "    import random\n",
    "\n",
    "Notice a few things about this:\n",
    "\n",
    "1. I don't put the word `random` in quotes. That's because it's not a string, but rather is the name of the variable to which we'll be assigning the new module.\n",
    "2. I also don't use parentheses after `import` -- it's not a function! Only functions need to use ()\n",
    "3. I'm not giving a filename to `import`, but rather, I'm giving the name of the module that wish would be installed into my current Python."
   ]
  },
  {
   "cell_type": "code",
   "execution_count": 1,
   "id": "96407941-1ae1-45d5-8186-e8c77d570bb0",
   "metadata": {},
   "outputs": [],
   "source": [
    "import random"
   ]
  },
  {
   "cell_type": "code",
   "execution_count": 2,
   "id": "10e14c8d-90f3-4dac-b86e-e16669595a0c",
   "metadata": {},
   "outputs": [
    {
     "data": {
      "text/plain": [
       "module"
      ]
     },
     "execution_count": 2,
     "metadata": {},
     "output_type": "execute_result"
    }
   ],
   "source": [
    "# what did we get in the module object?\n",
    "type(random)"
   ]
  },
  {
   "cell_type": "code",
   "execution_count": 4,
   "id": "2f862ae5-1be9-4bbe-a183-e0e431b26f1c",
   "metadata": {},
   "outputs": [
    {
     "data": {
      "text/plain": [
       "5"
      ]
     },
     "execution_count": 4,
     "metadata": {},
     "output_type": "execute_result"
    }
   ],
   "source": [
    "# what can we do with a module object?\n",
    "# not much! We can retrieve items from its attributes:\n",
    "\n",
    "random.randint(0, 10)    # because \"randint\" is a function defined in the \"random\" module"
   ]
  },
  {
   "cell_type": "code",
   "execution_count": 5,
   "id": "a5c9e4b8-5f75-486f-895e-adfe3beda4fc",
   "metadata": {},
   "outputs": [
    {
     "data": {
      "text/plain": [
       "['BPF',\n",
       " 'LOG4',\n",
       " 'NV_MAGICCONST',\n",
       " 'RECIP_BPF',\n",
       " 'Random',\n",
       " 'SG_MAGICCONST',\n",
       " 'SystemRandom',\n",
       " 'TWOPI',\n",
       " '_ONE',\n",
       " '_Sequence',\n",
       " '_Set',\n",
       " '__all__',\n",
       " '__builtins__',\n",
       " '__cached__',\n",
       " '__doc__',\n",
       " '__file__',\n",
       " '__loader__',\n",
       " '__name__',\n",
       " '__package__',\n",
       " '__spec__',\n",
       " '_accumulate',\n",
       " '_acos',\n",
       " '_bisect',\n",
       " '_ceil',\n",
       " '_cos',\n",
       " '_e',\n",
       " '_exp',\n",
       " '_floor',\n",
       " '_index',\n",
       " '_inst',\n",
       " '_isfinite',\n",
       " '_log',\n",
       " '_os',\n",
       " '_pi',\n",
       " '_random',\n",
       " '_repeat',\n",
       " '_sha512',\n",
       " '_sin',\n",
       " '_sqrt',\n",
       " '_test',\n",
       " '_test_generator',\n",
       " '_urandom',\n",
       " '_warn',\n",
       " 'betavariate',\n",
       " 'choice',\n",
       " 'choices',\n",
       " 'expovariate',\n",
       " 'gammavariate',\n",
       " 'gauss',\n",
       " 'getrandbits',\n",
       " 'getstate',\n",
       " 'lognormvariate',\n",
       " 'normalvariate',\n",
       " 'paretovariate',\n",
       " 'randbytes',\n",
       " 'randint',\n",
       " 'random',\n",
       " 'randrange',\n",
       " 'sample',\n",
       " 'seed',\n",
       " 'setstate',\n",
       " 'shuffle',\n",
       " 'triangular',\n",
       " 'uniform',\n",
       " 'vonmisesvariate',\n",
       " 'weibullvariate']"
      ]
     },
     "execution_count": 5,
     "metadata": {},
     "output_type": "execute_result"
    }
   ],
   "source": [
    "# what if you don't know what attributes are available?\n",
    "dir(random)"
   ]
  },
  {
   "cell_type": "markdown",
   "id": "8a093f7a-d556-440c-812f-5bc2fc1de820",
   "metadata": {},
   "source": [
    "# Exercise: Count punctuation\n",
    "\n",
    "1. Write a function, `count_punctuation`, which will take a string and return the number of punctuation characters in it.\n",
    "2. Set `total` to 0.\n",
    "3. Go through each character. You can find out what characters are considered punctuation marks by checking `string.punctuation`.\n",
    "4. If so, add 1 to the count\n",
    "5. Return the count when you're done.\n",
    "\n",
    "Example:\n",
    "\n",
    "    count_punctation('He is really a what?!?')\n",
    "    3\n",
    "\n",
    "If I mention `string.punctuation` in my description, that means you should `import` the `string` module, and then you should consult with its `string.punctuation` attribute to know if the current character is punctuation."
   ]
  },
  {
   "cell_type": "code",
   "execution_count": 7,
   "id": "198f6e3d-6137-41df-bd6a-78be0577cb81",
   "metadata": {},
   "outputs": [
    {
     "name": "stdout",
     "output_type": "stream",
     "text": [
      "3\n"
     ]
    }
   ],
   "source": [
    "# given a string, count the punctuation marks\n",
    "import string\n",
    "s = 'He is really a what?!?'\n",
    "total = 0\n",
    "\n",
    "for one_character in s:\n",
    "    if one_character in string.punctuation:\n",
    "        total += 1\n",
    "\n",
    "print(total)\n"
   ]
  },
  {
   "cell_type": "markdown",
   "id": "7b99224c-370d-4156-a5a2-b7a526a85ac9",
   "metadata": {},
   "source": [
    "# If I want to call random.randint, I can:\n",
    "\n"
   ]
  },
  {
   "cell_type": "code",
   "execution_count": 8,
   "id": "e8da10e3-2838-43fb-84cd-cade82fa4b94",
   "metadata": {},
   "outputs": [
    {
     "data": {
      "text/plain": [
       "91"
      ]
     },
     "execution_count": 8,
     "metadata": {},
     "output_type": "execute_result"
    }
   ],
   "source": [
    "random.randint(0, 100)"
   ]
  },
  {
   "cell_type": "code",
   "execution_count": 9,
   "id": "4ed5b848-13fc-4ae7-9cf8-f88f26c1d605",
   "metadata": {},
   "outputs": [
    {
     "ename": "NameError",
     "evalue": "name 'randint' is not defined",
     "output_type": "error",
     "traceback": [
      "\u001b[1;31m---------------------------------------------------------------------------\u001b[0m",
      "\u001b[1;31mNameError\u001b[0m                                 Traceback (most recent call last)",
      "Cell \u001b[1;32mIn[9], line 5\u001b[0m\n\u001b[0;32m      1\u001b[0m \u001b[38;5;66;03m# what if I want to just say \"randint\"?\u001b[39;00m\n\u001b[0;32m      2\u001b[0m \n\u001b[0;32m      3\u001b[0m \u001b[38;5;66;03m# I can't right now:\u001b[39;00m\n\u001b[1;32m----> 5\u001b[0m \u001b[43mrandint\u001b[49m\n",
      "\u001b[1;31mNameError\u001b[0m: name 'randint' is not defined"
     ]
    }
   ],
   "source": [
    "# what if I want to just say \"randint\"?\n",
    "\n",
    "# I can't right now:\n",
    "\n",
    "randint"
   ]
  },
  {
   "cell_type": "code",
   "execution_count": 12,
   "id": "e3e51fcc-095a-4a86-9fd7-2d54d1d3663c",
   "metadata": {},
   "outputs": [
    {
     "data": {
      "text/plain": [
       "91"
      ]
     },
     "execution_count": 12,
     "metadata": {},
     "output_type": "execute_result"
    }
   ],
   "source": [
    "# I can you randint, only under the namespace of \"random\"\n",
    "# If want to call randint by itself, rather than via its module, can I?\n",
    "\n",
    "from random import randint \n",
    "\n",
    "# This makes it possible to invoke \"randint\" without \"random\".\n",
    "\n",
    "randint(0, 100)"
   ]
  },
  {
   "cell_type": "code",
   "execution_count": 13,
   "id": "06cd453e-da58-416e-97a1-1cd4a3692780",
   "metadata": {},
   "outputs": [],
   "source": [
    "# let's make this a function now:\n",
    "\n",
    "import string\n",
    "\n",
    "def count_punctuation(s):\n",
    "    total = 0\n",
    "    \n",
    "    for one_character in s:\n",
    "        if one_character in string.punctuation:\n",
    "            total += 1\n",
    "    \n",
    "    print(total)\n"
   ]
  },
  {
   "cell_type": "code",
   "execution_count": 17,
   "id": "073c4817-325f-4250-96eb-5490d16cfa84",
   "metadata": {},
   "outputs": [
    {
     "name": "stdout",
     "output_type": "stream",
     "text": [
      "3\n"
     ]
    }
   ],
   "source": [
    "count_punctuation('hello out there?!?')"
   ]
  },
  {
   "cell_type": "code",
   "execution_count": 18,
   "id": "ceffb157-7ef1-43c6-8b19-848b05a8c894",
   "metadata": {},
   "outputs": [],
   "source": [
    "# let's use from..import syntax now\n",
    "\n",
    "from string import punctuation\n",
    "\n",
    "def count_punctuation(s):\n",
    "    total = 0\n",
    "    \n",
    "    for one_character in s:\n",
    "        if one_character in punctuation:\n",
    "            total += 1\n",
    "    \n",
    "    print(total)\n"
   ]
  },
  {
   "cell_type": "code",
   "execution_count": 19,
   "id": "156cc198-51fb-4370-b730-164831ea2b4d",
   "metadata": {},
   "outputs": [
    {
     "name": "stdout",
     "output_type": "stream",
     "text": [
      "2\n"
     ]
    }
   ],
   "source": [
    "count_punctuation('hello! hello?')"
   ]
  },
  {
   "cell_type": "markdown",
   "id": "9231e6e2-ce40-414f-93b6-aed27512ad1b",
   "metadata": {},
   "source": [
    "# Different forms of `import`\n",
    "\n",
    "1. `import MODNAME` -- we define a new module called MODNAME, all names are attributes on it\n",
    "2. `import MODNAME as ALIAS`  -- we define a new module called ALIAS, whose contents come from MODNAME.py\n",
    "3. `from MODNAME import NAME` -- we can now call NAME by itself, rather than as MODNAME.NAME.\n",
    "4. `from MODNAME import NAME as ALIAS`  -- we can now call NAME with an alias, rather than as MODNAME.NAME\n",
    "5. `from MODNAME import *` -- this is a HORRIBLE, HORRIBLE, AWFUL IDEA!"
   ]
  },
  {
   "cell_type": "code",
   "execution_count": 21,
   "id": "ab7f3882-2b56-4353-b84b-47fce1263967",
   "metadata": {},
   "outputs": [],
   "source": [
    "# let's assume that you use randint in your module.\n",
    "# you could say\n",
    "\n",
    "from random import randint\n",
    "\n",
    "# what if we have another function variable whose name is the same? Then we will have a namespace collsion!\n",
    "\n",
    "# First: This is why namespaces exist, so we can work without having to worry about variable names colliding.\n",
    "# BUT I've heard from companies where basically outlaw the use of \"from .. import\" because it leads to great\n",
    "# ambiguity, that the names are no longer conextualized.\n",
    "\n",
    "# We have another solution: We can alias our module or its imported name\n",
    "\n",
    "import random as r   # the idea is that \"r\" is an alias to our random module."
   ]
  },
  {
   "cell_type": "code",
   "execution_count": 22,
   "id": "2aa86b13-42e6-44b4-bc6e-d1b4ae92c039",
   "metadata": {},
   "outputs": [
    {
     "data": {
      "text/plain": [
       "<module 'random' from '/usr/local/Cellar/python@3.11/3.11.4_1/Frameworks/Python.framework/Versions/3.11/lib/python3.11/random.py'>"
      ]
     },
     "execution_count": 22,
     "metadata": {},
     "output_type": "execute_result"
    }
   ],
   "source": [
    "random"
   ]
  },
  {
   "cell_type": "code",
   "execution_count": 23,
   "id": "d7eada5f-9016-40e7-b191-f8f27b152f2d",
   "metadata": {},
   "outputs": [
    {
     "data": {
      "text/plain": [
       "<module 'random' from '/usr/local/Cellar/python@3.11/3.11.4_1/Frameworks/Python.framework/Versions/3.11/lib/python3.11/random.py'>"
      ]
     },
     "execution_count": 23,
     "metadata": {},
     "output_type": "execute_result"
    }
   ],
   "source": [
    "r"
   ]
  },
  {
   "cell_type": "code",
   "execution_count": 24,
   "id": "5940f117-0384-4c64-a222-367ed0834762",
   "metadata": {},
   "outputs": [
    {
     "data": {
      "text/plain": [
       "True"
      ]
     },
     "execution_count": 24,
     "metadata": {},
     "output_type": "execute_result"
    }
   ],
   "source": [
    "random is r"
   ]
  },
  {
   "cell_type": "code",
   "execution_count": 26,
   "id": "b202733f-6665-41ab-8f31-868a9332f755",
   "metadata": {},
   "outputs": [],
   "source": [
    "# aliases can be conventions\n",
    "\n",
    "import numpy as np\n",
    "import pandas as pd"
   ]
  },
  {
   "cell_type": "markdown",
   "id": "6a966eda-1809-49a4-8f11-102762679a60",
   "metadata": {},
   "source": [
    "# Exercise: Files' first lines\n",
    "\n",
    "1. The `glob` module in Python gives us access to pattern-matching for filenames. You can thus run `glob.glob(\"*.txt\")`, and you'll get back a list of strings that seemed match that pattern.\n",
    "2. Each string is a filename.\n",
    "3. Iterate over the list of filenames, open each file, and print the first line of each file.\n",
    "\n",
    "Try to keep your pattern within the bounds of as normal possible. In a real program, we would be able to recover -- here, we don't yet have exception handling, so just be careful.\n",
    "\n",
    "glob.glob('*.txt')  # this returns a list of filenames\n",
    "- Iterate over that list\n",
    "- Open the file, get the first line\n",
    "\n",
    "Note that `f.readline()` (singular!) returns one line from a file.\n",
    "\n",
    "- Is it better to use `import` here? Or is `from .. import` better? What are the trade-offs?\n",
    "\n",
    "Another way:\n",
    "- Take the list we get from `glob.glob` (list of strings / filenames)\n",
    "- Go through each filenames, one by one\n",
    "- Open the file based on that, iterate over the lines\n",
    "  Immediately `break`\n",
    "  \n"
   ]
  },
  {
   "cell_type": "code",
   "execution_count": 28,
   "id": "ec0bea70-bc3d-42ad-bd7c-fb77ac5c61c2",
   "metadata": {},
   "outputs": [
    {
     "data": {
      "text/plain": [
       "['myconfig.txt',\n",
       " 'mini-access-log.txt',\n",
       " 'nums.txt',\n",
       " 'shoe-data.txt',\n",
       " 'linux-etc-passwd.txt',\n",
       " 'wcfile.txt',\n",
       " 'myfile.txt']"
      ]
     },
     "execution_count": 28,
     "metadata": {},
     "output_type": "execute_result"
    }
   ],
   "source": [
    "import glob\n",
    "\n",
    "pattern = '*.txt'\n",
    "\n",
    "glob.glob(pattern)"
   ]
  },
  {
   "cell_type": "code",
   "execution_count": 29,
   "id": "168f5215-f12c-46b8-a7eb-c15b345114dd",
   "metadata": {},
   "outputs": [
    {
     "data": {
      "text/plain": [
       "['myconfig.txt',\n",
       " 'mini-access-log.txt',\n",
       " 'nums.txt',\n",
       " 'shoe-data.txt',\n",
       " 'linux-etc-passwd.txt',\n",
       " 'wcfile.txt',\n",
       " 'myfile.txt']"
      ]
     },
     "execution_count": 29,
     "metadata": {},
     "output_type": "execute_result"
    }
   ],
   "source": [
    "from glob import glob\n",
    "\n",
    "pattern = '*.txt'\n",
    "\n",
    "glob(pattern)"
   ]
  },
  {
   "cell_type": "code",
   "execution_count": null,
   "id": "876d1adc-c1e4-4757-bd11-439ecf25e06c",
   "metadata": {},
   "outputs": [],
   "source": []
  }
 ],
 "metadata": {
  "kernelspec": {
   "display_name": "Python 3 (ipykernel)",
   "language": "python",
   "name": "python3"
  },
  "language_info": {
   "codemirror_mode": {
    "name": "ipython",
    "version": 3
   },
   "file_extension": ".py",
   "mimetype": "text/x-python",
   "name": "python",
   "nbconvert_exporter": "python",
   "pygments_lexer": "ipython3",
   "version": "3.11.4"
  }
 },
 "nbformat": 4,
 "nbformat_minor": 5
}
