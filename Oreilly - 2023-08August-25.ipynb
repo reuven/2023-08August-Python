{
 "cells": [
  {
   "cell_type": "markdown",
   "id": "f696b7e7-50b8-48ad-baea-d6eba9c2c119",
   "metadata": {},
   "source": [
    "# Agenda: Day 5 (modules and packages)\n",
    "\n",
    "1. What are modules? What do they contain?\n",
    "2. `import` -- and its different variations\n",
    "3. Re-importing modules -- when does this matter, and how do we do it?\n",
    "4. A little bit about writing our own modules\n",
    "5. Python's standard library\n",
    "6. PyPI -- Python Package Index, and installing things with `pip` (warning: this might not work for you)\n",
    "7. Where to from here?\n",
    "    - How/where can you improve your Python after this course?\n",
    "    - What could/should you study next?"
   ]
  },
  {
   "cell_type": "markdown",
   "id": "1bbd1342-6aaa-4c3b-b413-ed41a889884e",
   "metadata": {},
   "source": [
    "# Modules -- what are they?\n",
    "\n",
    "Remember the DRY rule -- \"Don't Repeat Yourself!\"\n",
    "\n",
    "- If you have several lines in a row that roughly repeat themselves, you can use a loop.\n",
    "- If you have the same code in several different places in your program, you can use a function."
   ]
  }
 ],
 "metadata": {
  "kernelspec": {
   "display_name": "Python 3 (ipykernel)",
   "language": "python",
   "name": "python3"
  },
  "language_info": {
   "codemirror_mode": {
    "name": "ipython",
    "version": 3
   },
   "file_extension": ".py",
   "mimetype": "text/x-python",
   "name": "python",
   "nbconvert_exporter": "python",
   "pygments_lexer": "ipython3",
   "version": "3.11.4"
  }
 },
 "nbformat": 4,
 "nbformat_minor": 5
}
