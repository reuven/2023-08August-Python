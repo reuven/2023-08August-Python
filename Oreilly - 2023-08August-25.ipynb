{
 "cells": [
  {
   "cell_type": "markdown",
   "id": "f696b7e7-50b8-48ad-baea-d6eba9c2c119",
   "metadata": {},
   "source": [
    "# Agenda: Day 5 (modules and packages)\n",
    "\n",
    "1. What are modules? What do they contain?\n",
    "2. `import` -- and its different variations\n",
    "3. Re-importing modules -- when does this matter, and how do we do it?\n",
    "4. A little bit about writing our own modules\n",
    "5. Python's standard library\n",
    "6. PyPI -- Python Package Index, and installing things with `pip` (warning: this might not work for you)\n",
    "7. Where to from here?\n",
    "    - How/where can you improve your Python after this course?\n",
    "    - What could/should you study next?"
   ]
  },
  {
   "cell_type": "markdown",
   "id": "1bbd1342-6aaa-4c3b-b413-ed41a889884e",
   "metadata": {},
   "source": [
    "# Modules -- what are they?\n",
    "\n",
    "Remember the DRY rule -- \"Don't Repeat Yourself!\"\n",
    "\n",
    "- If you have several lines in a row that roughly repeat themselves, you can use a loop.\n",
    "- If you have the same code in several different places in your program, you can use a function.\n",
    "- If you have the same code in several *different* programs, you can use a library.\n",
    "\n",
    "Every programming language (that I know of) supports the use of external libraries. Those libraries contain data structures, functions, and classes that we might want to use in more than one program.\n",
    "\n",
    "This means that if there's functionality which repeats in my program, then I can benefit by putting it in a library and then using it not just in the current program, but in future programs. If there's functionality that'll help me (or my team, or my company, or the world) beyond my current project, then putting things in a library makes a lot of sense.\n",
    "\n",
    "In Python, we have libraries -- but we call them \"modules.\"\n",
    "\n",
    "Modules do two things:\n",
    "\n",
    "1. They are libraries, as described here.\n",
    "2. They are also *namespaces*, ensuring that variable names don't collide with one another.\n",
    "\n",
    "Namespaces are sort of like last names for variables -- they greatly reduce the chance that we'll have a namespace collision. \n",
    "\n",
    "Imagine having to write the following kinds of software:\n",
    "- Reliable login systems, including cryptography\n",
    "- Printing things on a printer in graphics format\n",
    "- Translates from Python to C\n",
    "- Many modern libraries implement the client side of an API, so that you can access all sorts of online services"
   ]
  },
  {
   "cell_type": "markdown",
   "id": "d7291105-8fe2-48a8-bc47-c0b5f7252510",
   "metadata": {},
   "source": [
    "# Using modules with `import`\n",
    "\n",
    "If you want to use a module in Python, you must first `import` it. The syntax looks like this:\n",
    "\n",
    "    import random\n",
    "\n",
    "Notice a few things about this:\n",
    "\n",
    "1. I don't put the word `random` in quotes. That's because it's not a string, but rather is the name of the variable to which we'll be assigning the new module.\n",
    "2. I also don't use parentheses after `import` -- it's not a function! Only functions need to use ()\n",
    "3. I'm not giving a filename to `import`, but rather, I'm giving the name of the module that wish would be installed into my current Python."
   ]
  },
  {
   "cell_type": "code",
   "execution_count": 1,
   "id": "96407941-1ae1-45d5-8186-e8c77d570bb0",
   "metadata": {},
   "outputs": [],
   "source": [
    "import random"
   ]
  },
  {
   "cell_type": "code",
   "execution_count": 2,
   "id": "10e14c8d-90f3-4dac-b86e-e16669595a0c",
   "metadata": {},
   "outputs": [
    {
     "data": {
      "text/plain": [
       "module"
      ]
     },
     "execution_count": 2,
     "metadata": {},
     "output_type": "execute_result"
    }
   ],
   "source": [
    "# what did we get in the module object?\n",
    "type(random)"
   ]
  },
  {
   "cell_type": "code",
   "execution_count": 4,
   "id": "2f862ae5-1be9-4bbe-a183-e0e431b26f1c",
   "metadata": {},
   "outputs": [
    {
     "data": {
      "text/plain": [
       "5"
      ]
     },
     "execution_count": 4,
     "metadata": {},
     "output_type": "execute_result"
    }
   ],
   "source": [
    "# what can we do with a module object?\n",
    "# not much! We can retrieve items from its attributes:\n",
    "\n",
    "random.randint(0, 10)    # because \"randint\" is a function defined in the \"random\" module"
   ]
  },
  {
   "cell_type": "code",
   "execution_count": 5,
   "id": "a5c9e4b8-5f75-486f-895e-adfe3beda4fc",
   "metadata": {},
   "outputs": [
    {
     "data": {
      "text/plain": [
       "['BPF',\n",
       " 'LOG4',\n",
       " 'NV_MAGICCONST',\n",
       " 'RECIP_BPF',\n",
       " 'Random',\n",
       " 'SG_MAGICCONST',\n",
       " 'SystemRandom',\n",
       " 'TWOPI',\n",
       " '_ONE',\n",
       " '_Sequence',\n",
       " '_Set',\n",
       " '__all__',\n",
       " '__builtins__',\n",
       " '__cached__',\n",
       " '__doc__',\n",
       " '__file__',\n",
       " '__loader__',\n",
       " '__name__',\n",
       " '__package__',\n",
       " '__spec__',\n",
       " '_accumulate',\n",
       " '_acos',\n",
       " '_bisect',\n",
       " '_ceil',\n",
       " '_cos',\n",
       " '_e',\n",
       " '_exp',\n",
       " '_floor',\n",
       " '_index',\n",
       " '_inst',\n",
       " '_isfinite',\n",
       " '_log',\n",
       " '_os',\n",
       " '_pi',\n",
       " '_random',\n",
       " '_repeat',\n",
       " '_sha512',\n",
       " '_sin',\n",
       " '_sqrt',\n",
       " '_test',\n",
       " '_test_generator',\n",
       " '_urandom',\n",
       " '_warn',\n",
       " 'betavariate',\n",
       " 'choice',\n",
       " 'choices',\n",
       " 'expovariate',\n",
       " 'gammavariate',\n",
       " 'gauss',\n",
       " 'getrandbits',\n",
       " 'getstate',\n",
       " 'lognormvariate',\n",
       " 'normalvariate',\n",
       " 'paretovariate',\n",
       " 'randbytes',\n",
       " 'randint',\n",
       " 'random',\n",
       " 'randrange',\n",
       " 'sample',\n",
       " 'seed',\n",
       " 'setstate',\n",
       " 'shuffle',\n",
       " 'triangular',\n",
       " 'uniform',\n",
       " 'vonmisesvariate',\n",
       " 'weibullvariate']"
      ]
     },
     "execution_count": 5,
     "metadata": {},
     "output_type": "execute_result"
    }
   ],
   "source": [
    "# what if you don't know what attributes are available?\n",
    "dir(random)"
   ]
  },
  {
   "cell_type": "markdown",
   "id": "8a093f7a-d556-440c-812f-5bc2fc1de820",
   "metadata": {},
   "source": [
    "# Exercise: Count punctuation\n",
    "\n",
    "1. Write a function, `count_punctuation`, which will take a string and return the number of punctuation characters in it.\n",
    "2. Set `total` to 0.\n",
    "3. Go through each character. You can find out what characters are considered punctuation marks by checking `string.punctuation`.\n",
    "4. If so, add 1 to the count\n",
    "5. Return the count when you're done.\n",
    "\n",
    "Example:\n",
    "\n",
    "    count_punctation('He is really a what?!?')\n",
    "    3\n",
    "\n",
    "If I mention `string.punctuation` in my description, that means you should `import` the `string` module, and then you should consult with its `string.punctuation` attribute to know if the current character is punctuation."
   ]
  },
  {
   "cell_type": "code",
   "execution_count": 7,
   "id": "198f6e3d-6137-41df-bd6a-78be0577cb81",
   "metadata": {},
   "outputs": [
    {
     "name": "stdout",
     "output_type": "stream",
     "text": [
      "3\n"
     ]
    }
   ],
   "source": [
    "# given a string, count the punctuation marks\n",
    "import string\n",
    "s = 'He is really a what?!?'\n",
    "total = 0\n",
    "\n",
    "for one_character in s:\n",
    "    if one_character in string.punctuation:\n",
    "        total += 1\n",
    "\n",
    "print(total)\n"
   ]
  },
  {
   "cell_type": "markdown",
   "id": "7b99224c-370d-4156-a5a2-b7a526a85ac9",
   "metadata": {},
   "source": [
    "# If I want to call random.randint, I can:\n",
    "\n"
   ]
  },
  {
   "cell_type": "code",
   "execution_count": 8,
   "id": "e8da10e3-2838-43fb-84cd-cade82fa4b94",
   "metadata": {},
   "outputs": [
    {
     "data": {
      "text/plain": [
       "91"
      ]
     },
     "execution_count": 8,
     "metadata": {},
     "output_type": "execute_result"
    }
   ],
   "source": [
    "random.randint(0, 100)"
   ]
  },
  {
   "cell_type": "code",
   "execution_count": 9,
   "id": "4ed5b848-13fc-4ae7-9cf8-f88f26c1d605",
   "metadata": {},
   "outputs": [
    {
     "ename": "NameError",
     "evalue": "name 'randint' is not defined",
     "output_type": "error",
     "traceback": [
      "\u001b[1;31m---------------------------------------------------------------------------\u001b[0m",
      "\u001b[1;31mNameError\u001b[0m                                 Traceback (most recent call last)",
      "Cell \u001b[1;32mIn[9], line 5\u001b[0m\n\u001b[0;32m      1\u001b[0m \u001b[38;5;66;03m# what if I want to just say \"randint\"?\u001b[39;00m\n\u001b[0;32m      2\u001b[0m \n\u001b[0;32m      3\u001b[0m \u001b[38;5;66;03m# I can't right now:\u001b[39;00m\n\u001b[1;32m----> 5\u001b[0m \u001b[43mrandint\u001b[49m\n",
      "\u001b[1;31mNameError\u001b[0m: name 'randint' is not defined"
     ]
    }
   ],
   "source": [
    "# what if I want to just say \"randint\"?\n",
    "\n",
    "# I can't right now:\n",
    "\n",
    "randint"
   ]
  },
  {
   "cell_type": "code",
   "execution_count": 12,
   "id": "e3e51fcc-095a-4a86-9fd7-2d54d1d3663c",
   "metadata": {},
   "outputs": [
    {
     "data": {
      "text/plain": [
       "91"
      ]
     },
     "execution_count": 12,
     "metadata": {},
     "output_type": "execute_result"
    }
   ],
   "source": [
    "# I can you randint, only under the namespace of \"random\"\n",
    "# If want to call randint by itself, rather than via its module, can I?\n",
    "\n",
    "from random import randint \n",
    "\n",
    "# This makes it possible to invoke \"randint\" without \"random\".\n",
    "\n",
    "randint(0, 100)"
   ]
  },
  {
   "cell_type": "code",
   "execution_count": 13,
   "id": "06cd453e-da58-416e-97a1-1cd4a3692780",
   "metadata": {},
   "outputs": [],
   "source": [
    "# let's make this a function now:\n",
    "\n",
    "import string\n",
    "\n",
    "def count_punctuation(s):\n",
    "    total = 0\n",
    "    \n",
    "    for one_character in s:\n",
    "        if one_character in string.punctuation:\n",
    "            total += 1\n",
    "    \n",
    "    print(total)\n"
   ]
  },
  {
   "cell_type": "code",
   "execution_count": 17,
   "id": "073c4817-325f-4250-96eb-5490d16cfa84",
   "metadata": {},
   "outputs": [
    {
     "name": "stdout",
     "output_type": "stream",
     "text": [
      "3\n"
     ]
    }
   ],
   "source": [
    "count_punctuation('hello out there?!?')"
   ]
  },
  {
   "cell_type": "code",
   "execution_count": 18,
   "id": "ceffb157-7ef1-43c6-8b19-848b05a8c894",
   "metadata": {},
   "outputs": [],
   "source": [
    "# let's use from..import syntax now\n",
    "\n",
    "from string import punctuation\n",
    "\n",
    "def count_punctuation(s):\n",
    "    total = 0\n",
    "    \n",
    "    for one_character in s:\n",
    "        if one_character in punctuation:\n",
    "            total += 1\n",
    "    \n",
    "    print(total)\n"
   ]
  },
  {
   "cell_type": "code",
   "execution_count": 19,
   "id": "156cc198-51fb-4370-b730-164831ea2b4d",
   "metadata": {},
   "outputs": [
    {
     "name": "stdout",
     "output_type": "stream",
     "text": [
      "2\n"
     ]
    }
   ],
   "source": [
    "count_punctuation('hello! hello?')"
   ]
  },
  {
   "cell_type": "markdown",
   "id": "9231e6e2-ce40-414f-93b6-aed27512ad1b",
   "metadata": {},
   "source": [
    "# Different forms of `import`\n",
    "\n",
    "1. `import MODNAME` -- we define a new module called MODNAME, all names are attributes on it\n",
    "2. `import MODNAME as ALIAS`  -- we define a new module called ALIAS, whose contents come from MODNAME.py\n",
    "3. `from MODNAME import NAME` -- we can now call NAME by itself, rather than as MODNAME.NAME.\n",
    "4. `from MODNAME import NAME as ALIAS`  -- we can now call NAME with an alias, rather than as MODNAME.NAME\n",
    "5. `from MODNAME import *` -- this is a HORRIBLE, HORRIBLE, AWFUL IDEA!"
   ]
  },
  {
   "cell_type": "code",
   "execution_count": 21,
   "id": "ab7f3882-2b56-4353-b84b-47fce1263967",
   "metadata": {},
   "outputs": [],
   "source": [
    "# let's assume that you use randint in your module.\n",
    "# you could say\n",
    "\n",
    "from random import randint\n",
    "\n",
    "# what if we have another function variable whose name is the same? Then we will have a namespace collsion!\n",
    "\n",
    "# First: This is why namespaces exist, so we can work without having to worry about variable names colliding.\n",
    "# BUT I've heard from companies where basically outlaw the use of \"from .. import\" because it leads to great\n",
    "# ambiguity, that the names are no longer conextualized.\n",
    "\n",
    "# We have another solution: We can alias our module or its imported name\n",
    "\n",
    "import random as r   # the idea is that \"r\" is an alias to our random module."
   ]
  },
  {
   "cell_type": "code",
   "execution_count": 22,
   "id": "2aa86b13-42e6-44b4-bc6e-d1b4ae92c039",
   "metadata": {},
   "outputs": [
    {
     "data": {
      "text/plain": [
       "<module 'random' from '/usr/local/Cellar/python@3.11/3.11.4_1/Frameworks/Python.framework/Versions/3.11/lib/python3.11/random.py'>"
      ]
     },
     "execution_count": 22,
     "metadata": {},
     "output_type": "execute_result"
    }
   ],
   "source": [
    "random"
   ]
  },
  {
   "cell_type": "code",
   "execution_count": 23,
   "id": "d7eada5f-9016-40e7-b191-f8f27b152f2d",
   "metadata": {},
   "outputs": [
    {
     "data": {
      "text/plain": [
       "<module 'random' from '/usr/local/Cellar/python@3.11/3.11.4_1/Frameworks/Python.framework/Versions/3.11/lib/python3.11/random.py'>"
      ]
     },
     "execution_count": 23,
     "metadata": {},
     "output_type": "execute_result"
    }
   ],
   "source": [
    "r"
   ]
  },
  {
   "cell_type": "code",
   "execution_count": 24,
   "id": "5940f117-0384-4c64-a222-367ed0834762",
   "metadata": {},
   "outputs": [
    {
     "data": {
      "text/plain": [
       "True"
      ]
     },
     "execution_count": 24,
     "metadata": {},
     "output_type": "execute_result"
    }
   ],
   "source": [
    "random is r"
   ]
  },
  {
   "cell_type": "code",
   "execution_count": 26,
   "id": "b202733f-6665-41ab-8f31-868a9332f755",
   "metadata": {},
   "outputs": [],
   "source": [
    "# aliases can be conventions\n",
    "\n",
    "import numpy as np\n",
    "import pandas as pd"
   ]
  },
  {
   "cell_type": "markdown",
   "id": "6a966eda-1809-49a4-8f11-102762679a60",
   "metadata": {},
   "source": [
    "# Exercise: Files' first lines\n",
    "\n",
    "1. The `glob` module in Python gives us access to pattern-matching for filenames. You can thus run `glob.glob(\"*.txt\")`, and you'll get back a list of strings that seemed match that pattern.\n",
    "2. Each string is a filename.\n",
    "3. Iterate over the list of filenames, open each file, and print the first line of each file.\n",
    "\n",
    "Try to keep your pattern within the bounds of as normal possible. In a real program, we would be able to recover -- here, we don't yet have exception handling, so just be careful.\n",
    "\n",
    "glob.glob('*.txt')  # this returns a list of filenames\n",
    "- Iterate over that list\n",
    "- Open the file, get the first line\n",
    "\n",
    "Note that `f.readline()` (singular!) returns one line from a file.\n",
    "\n",
    "- Is it better to use `import` here? Or is `from .. import` better? What are the trade-offs?\n",
    "\n",
    "Another way:\n",
    "- Take the list we get from `glob.glob` (list of strings / filenames)\n",
    "- Go through each filenames, one by one\n",
    "- Open the file based on that, iterate over the lines\n",
    "  Immediately `break`\n",
    "  \n"
   ]
  },
  {
   "cell_type": "code",
   "execution_count": 28,
   "id": "ec0bea70-bc3d-42ad-bd7c-fb77ac5c61c2",
   "metadata": {},
   "outputs": [
    {
     "data": {
      "text/plain": [
       "['myconfig.txt',\n",
       " 'mini-access-log.txt',\n",
       " 'nums.txt',\n",
       " 'shoe-data.txt',\n",
       " 'linux-etc-passwd.txt',\n",
       " 'wcfile.txt',\n",
       " 'myfile.txt']"
      ]
     },
     "execution_count": 28,
     "metadata": {},
     "output_type": "execute_result"
    }
   ],
   "source": [
    "# it's very clear in this version that we know what module was imported, and where the function came from\n",
    "\n",
    "import glob   # this means that the module object is available, if we want any other functionality\n",
    "\n",
    "pattern = '*.txt'\n",
    "\n",
    "glob.glob(pattern)"
   ]
  },
  {
   "cell_type": "code",
   "execution_count": 29,
   "id": "168f5215-f12c-46b8-a7eb-c15b345114dd",
   "metadata": {},
   "outputs": [
    {
     "data": {
      "text/plain": [
       "['myconfig.txt',\n",
       " 'mini-access-log.txt',\n",
       " 'nums.txt',\n",
       " 'shoe-data.txt',\n",
       " 'linux-etc-passwd.txt',\n",
       " 'wcfile.txt',\n",
       " 'myfile.txt']"
      ]
     },
     "execution_count": 29,
     "metadata": {},
     "output_type": "execute_result"
    }
   ],
   "source": [
    "# this keeps things somewhat ambiguous -- where did this \"glob\" function come from?\n",
    "\n",
    "from glob import glob  # only the \"glob.glob\" function is available. Other functionality is not.\n",
    "\n",
    "pattern = '*.txt'\n",
    "\n",
    "glob(pattern)"
   ]
  },
  {
   "cell_type": "code",
   "execution_count": 32,
   "id": "876d1adc-c1e4-4757-bd11-439ecf25e06c",
   "metadata": {},
   "outputs": [
    {
     "name": "stdout",
     "output_type": "stream",
     "text": [
      "myconfig.txt\n",
      "\ta=10\n",
      "\n",
      "mini-access-log.txt\n",
      "\t67.218.116.165 - - [30/Jan/2010:00:03:18 +0200] \"GET /robots.txt HTTP/1.0\" 200 99 \"-\" \"Mozilla/5.0 (Twiceler-0.9 http://www.cuil.com/twiceler/robot.html)\"\n",
      "\n",
      "nums.txt\n",
      "\t5\n",
      "\n",
      "shoe-data.txt\n",
      "\tAdidas\torange\t43\n",
      "\n",
      "linux-etc-passwd.txt\n",
      "\t# This is a comment\n",
      "\n",
      "wcfile.txt\n",
      "\tThis is a test file.\n",
      "\n",
      "myfile.txt\n",
      "\thello again\n",
      "\n"
     ]
    }
   ],
   "source": [
    "for one_filename in glob(pattern):\n",
    "    print(one_filename)\n",
    "    print(f'\\t{open(one_filename).readline()}')"
   ]
  },
  {
   "cell_type": "code",
   "execution_count": 33,
   "id": "24f15574-1300-454b-9e6e-80c508eccfbf",
   "metadata": {},
   "outputs": [
    {
     "name": "stdout",
     "output_type": "stream",
     "text": [
      "myconfig.txt\n",
      "a=10\n",
      "\n",
      "mini-access-log.txt\n",
      "67.218.116.165 - - [30/Jan/2010:00:03:18 +0200] \"GET /robots.txt HTTP/1.0\" 200 99 \"-\" \"Mozilla/5.0 (Twiceler-0.9 http://www.cuil.com/twiceler/robot.html)\"\n",
      "\n",
      "nums.txt\n",
      "5\n",
      "\n",
      "shoe-data.txt\n",
      "Adidas\torange\t43\n",
      "\n",
      "linux-etc-passwd.txt\n",
      "# This is a comment\n",
      "\n",
      "wcfile.txt\n",
      "This is a test file.\n",
      "\n",
      "myfile.txt\n",
      "hello again\n",
      "\n"
     ]
    }
   ],
   "source": [
    "for one_filename in glob(pattern):\n",
    "    print(one_filename)\n",
    "    for one_line in open(one_filename):\n",
    "        print(one_line)\n",
    "        break"
   ]
  },
  {
   "cell_type": "markdown",
   "id": "0b3afb3e-92ef-4f96-be2a-4f6d1c13614a",
   "metadata": {},
   "source": [
    "# Next up\n",
    "\n",
    "- How do modules work (a little)\n",
    "- Python standard library"
   ]
  },
  {
   "cell_type": "code",
   "execution_count": 35,
   "id": "90018e72-ea50-4219-8f8c-70a1ab97cb52",
   "metadata": {},
   "outputs": [],
   "source": [
    "# import -- no parentheses\n",
    "# mymod -- not a filename\n",
    "# mymod -- we don't add the .py suffix\n",
    "# mymod -- we don't put quotes around its name\n",
    "\n",
    "import mymod"
   ]
  },
  {
   "cell_type": "code",
   "execution_count": 36,
   "id": "f2ddfba3-12d8-4252-b69e-4d3f43f6743a",
   "metadata": {},
   "outputs": [
    {
     "data": {
      "text/plain": [
       "module"
      ]
     },
     "execution_count": 36,
     "metadata": {},
     "output_type": "execute_result"
    }
   ],
   "source": [
    "type(mymod)"
   ]
  },
  {
   "cell_type": "code",
   "execution_count": 37,
   "id": "24113dd0-1f8a-448e-abc5-a10158ab9b55",
   "metadata": {},
   "outputs": [
    {
     "data": {
      "text/plain": [
       "<module 'mymod' from '/Users/reuven/Courses/Current/2023-08August-Python/mymod.py'>"
      ]
     },
     "execution_count": 37,
     "metadata": {},
     "output_type": "execute_result"
    }
   ],
   "source": [
    "mymod"
   ]
  },
  {
   "cell_type": "code",
   "execution_count": 38,
   "id": "6ffce62b-2580-4d9e-9c88-05cccdbb8885",
   "metadata": {},
   "outputs": [
    {
     "data": {
      "text/plain": [
       "['__builtins__',\n",
       " '__cached__',\n",
       " '__doc__',\n",
       " '__file__',\n",
       " '__loader__',\n",
       " '__name__',\n",
       " '__package__',\n",
       " '__spec__']"
      ]
     },
     "execution_count": 38,
     "metadata": {},
     "output_type": "execute_result"
    }
   ],
   "source": [
    "# what was defined on this module? Let's check its attributes with \"dir\"\n",
    "\n",
    "dir(mymod)"
   ]
  },
  {
   "cell_type": "markdown",
   "id": "b7305373-09fe-498a-ae7f-0c38bdfbba58",
   "metadata": {},
   "source": [
    "Python looks for modules in all of the directories named in the `sys.path` list of strings. When you use `import`, it goes through each of these directories, one at a time, looking for your module."
   ]
  },
  {
   "cell_type": "code",
   "execution_count": 39,
   "id": "c77e7efa-1306-4fcb-bf8a-9073be4800fd",
   "metadata": {},
   "outputs": [],
   "source": [
    "import mymod"
   ]
  },
  {
   "cell_type": "code",
   "execution_count": 40,
   "id": "e204d8f1-78e9-4696-81c6-27e55cc0f446",
   "metadata": {},
   "outputs": [
    {
     "data": {
      "text/plain": [
       "['__builtins__',\n",
       " '__cached__',\n",
       " '__file__',\n",
       " '__loader__',\n",
       " '__name__',\n",
       " '__package__',\n",
       " '__spec__',\n",
       " 'hello',\n",
       " 'x',\n",
       " 'y']"
      ]
     },
     "execution_count": 40,
     "metadata": {},
     "output_type": "execute_result"
    }
   ],
   "source": [
    "dir(mymod)"
   ]
  },
  {
   "cell_type": "markdown",
   "id": "cf5116fc-dfc4-4433-b86e-d803f0f04b65",
   "metadata": {},
   "source": [
    "# Modules normally only load once\n",
    "\n",
    "If you use `import` in a Python program, then that imports the module *until the program exits*. This means that (normally) when you're in Jupyter, if you load a module and then change it, you'll need to reload it.\n"
   ]
  },
  {
   "cell_type": "code",
   "execution_count": 41,
   "id": "75c64d7f-4be7-4699-baf7-8a315a9d094f",
   "metadata": {},
   "outputs": [
    {
     "data": {
      "text/plain": [
       "100"
      ]
     },
     "execution_count": 41,
     "metadata": {},
     "output_type": "execute_result"
    }
   ],
   "source": [
    "# how do I get access to the variables and function I wrote:\n",
    "# I just access them as attributes of the module\n",
    "\n",
    "mymod.x"
   ]
  },
  {
   "cell_type": "code",
   "execution_count": 42,
   "id": "8a398b89-90f2-416f-a27f-cfef1a83f9f4",
   "metadata": {},
   "outputs": [
    {
     "data": {
      "text/plain": [
       "[10, 20, 30]"
      ]
     },
     "execution_count": 42,
     "metadata": {},
     "output_type": "execute_result"
    }
   ],
   "source": [
    "mymod.y"
   ]
  },
  {
   "cell_type": "code",
   "execution_count": 43,
   "id": "db2e4c05-ed3a-4906-a91f-bd119bea4631",
   "metadata": {},
   "outputs": [
    {
     "data": {
      "text/plain": [
       "'Hello, world!'"
      ]
     },
     "execution_count": 43,
     "metadata": {},
     "output_type": "execute_result"
    }
   ],
   "source": [
    "mymod.hello('world')"
   ]
  },
  {
   "cell_type": "code",
   "execution_count": 44,
   "id": "316174ae-ece0-4f1f-a905-1a5e103e6c59",
   "metadata": {},
   "outputs": [
    {
     "name": "stdout",
     "output_type": "stream",
     "text": [
      "Hello from mymod!\n",
      "Goodbye from mymod!\n"
     ]
    }
   ],
   "source": [
    "import mymod"
   ]
  },
  {
   "cell_type": "code",
   "execution_count": 45,
   "id": "423328c8-0353-4c7a-a60e-0a0d2d95d84d",
   "metadata": {},
   "outputs": [
    {
     "data": {
      "text/plain": [
       "['__builtins__',\n",
       " '__cached__',\n",
       " '__file__',\n",
       " '__loader__',\n",
       " '__name__',\n",
       " '__package__',\n",
       " '__spec__',\n",
       " 'hello',\n",
       " 'x',\n",
       " 'y']"
      ]
     },
     "execution_count": 45,
     "metadata": {},
     "output_type": "execute_result"
    }
   ],
   "source": [
    "dir(mymod)"
   ]
  },
  {
   "cell_type": "code",
   "execution_count": 46,
   "id": "60441170-1d19-4346-915a-5dfcd968e0a3",
   "metadata": {},
   "outputs": [
    {
     "data": {
      "text/plain": [
       "'mymod'"
      ]
     },
     "execution_count": 46,
     "metadata": {},
     "output_type": "execute_result"
    }
   ],
   "source": [
    "mymod.__name__    # \"dunder name\" -- double underscore name"
   ]
  },
  {
   "cell_type": "code",
   "execution_count": 47,
   "id": "583be1f8-9b1e-438d-bf9c-faf5e89f5af0",
   "metadata": {},
   "outputs": [
    {
     "name": "stdout",
     "output_type": "stream",
     "text": [
      "Hello from mymod!\n",
      "Goodbye from mymod!\n"
     ]
    }
   ],
   "source": [
    "import mymod"
   ]
  },
  {
   "cell_type": "markdown",
   "id": "334c17ab-8da3-4d42-a677-b6daa959e10f",
   "metadata": {},
   "source": [
    "# `__name__` is a special variable\n",
    "\n",
    "The variable `__name__` is always defined in Python. It is a string, indicating whether the current namespace (i.e., where global variables are stored) is the original, startup Python namespace or if we're in a module that was loaded.\n",
    "\n",
    "- If `__name__` is accessed from a file that was imported, then `__name__` is the name of the module\n",
    "- In other cases, if `__name__` is accessed from a file that was the first to run in the program from the command line... then it is the special string value `'__main__'`.\n",
    "\n",
    "This allows our modules to distinguish between when they are running as standalone programs, and when they are being imported as modules. How would I distinguish?\n",
    "\n",
    "One of the most famous lines in all of Python:\n",
    "\n",
    "```python\n",
    "if __name__ == '__main__':\n",
    "    # stuff goes here, assuming that the program was *not* imported, and this is a standalone call\n",
    "```"
   ]
  },
  {
   "cell_type": "code",
   "execution_count": 48,
   "id": "b06f5f3a-ea76-4bdf-bbd9-72759d008f19",
   "metadata": {},
   "outputs": [],
   "source": [
    "import mymod"
   ]
  },
  {
   "cell_type": "markdown",
   "id": "739bf243-ff4c-451f-8451-6a9053795b7c",
   "metadata": {},
   "source": [
    "# Exercise: Create and import a module\n",
    "\n",
    "1. Using Jupyter's file-editor capability, create a file called `littlemod.py`. In that file, define a variable `name` to be your name (a string).\n",
    "2. Import the module into Jupyter, and see that you can access that variable."
   ]
  },
  {
   "cell_type": "code",
   "execution_count": 49,
   "id": "551d4ebf-6f28-4cde-b7b3-28c662dbaac4",
   "metadata": {},
   "outputs": [],
   "source": [
    "import littlemod"
   ]
  },
  {
   "cell_type": "code",
   "execution_count": 50,
   "id": "21ffebc4-b27e-4f7a-b6b3-bb2f854319e3",
   "metadata": {},
   "outputs": [
    {
     "data": {
      "text/plain": [
       "'Reuven'"
      ]
     },
     "execution_count": 50,
     "metadata": {},
     "output_type": "execute_result"
    }
   ],
   "source": [
    "littlemod.name"
   ]
  },
  {
   "cell_type": "code",
   "execution_count": 54,
   "id": "3643a16b-bc34-454e-b0bb-3113b3d12084",
   "metadata": {},
   "outputs": [
    {
     "data": {
      "text/plain": [
       "['__builtins__',\n",
       " '__cached__',\n",
       " '__doc__',\n",
       " '__file__',\n",
       " '__loader__',\n",
       " '__name__',\n",
       " '__package__',\n",
       " '__spec__',\n",
       " 'name']"
      ]
     },
     "execution_count": 54,
     "metadata": {},
     "output_type": "execute_result"
    }
   ],
   "source": [
    "dir(littlemod)"
   ]
  },
  {
   "cell_type": "code",
   "execution_count": 59,
   "id": "aac1efd7-a446-4844-b1c1-4641650bfa2a",
   "metadata": {},
   "outputs": [],
   "source": [
    "import littlemod"
   ]
  },
  {
   "cell_type": "code",
   "execution_count": 60,
   "id": "57e632f4-c54e-49fe-830a-e6fcc94ff225",
   "metadata": {},
   "outputs": [
    {
     "data": {
      "text/plain": [
       "['__builtins__',\n",
       " '__cached__',\n",
       " '__file__',\n",
       " '__loader__',\n",
       " '__name__',\n",
       " '__package__',\n",
       " '__spec__',\n",
       " 'greet',\n",
       " 'name']"
      ]
     },
     "execution_count": 60,
     "metadata": {},
     "output_type": "execute_result"
    }
   ],
   "source": [
    "dir(littlemod)"
   ]
  },
  {
   "cell_type": "code",
   "execution_count": 61,
   "id": "88a5c956-4fa4-425d-a242-01ad05b61cd5",
   "metadata": {},
   "outputs": [
    {
     "data": {
      "text/plain": [
       "'Hello, my amazing boss, Reuven!'"
      ]
     },
     "execution_count": 61,
     "metadata": {},
     "output_type": "execute_result"
    }
   ],
   "source": [
    "littlemod.greet('Reuven')"
   ]
  },
  {
   "cell_type": "code",
   "execution_count": 62,
   "id": "d9efc79f-fc1c-4d23-8121-d6c08647c887",
   "metadata": {},
   "outputs": [
    {
     "data": {
      "text/plain": [
       "'Hello, someone else, whoever you are'"
      ]
     },
     "execution_count": 62,
     "metadata": {},
     "output_type": "execute_result"
    }
   ],
   "source": [
    "littlemod.greet('someone else')"
   ]
  },
  {
   "cell_type": "markdown",
   "id": "f371bb83-03a2-4d73-87a9-1c7cb26a0c46",
   "metadata": {},
   "source": [
    "# Python's standard library\n",
    "\n",
    "We can write modules, of course. But Python comes with a huge number of modules when you download and install the language. For years, people talked about Python as \"batteries included,\" meaning that anything you would need to do was likely in the standard library, and thus automatically available with a simple `import`. \n",
    "\n",
    "Anything that comes with the standard library is guaranteed to be available for anyone with Python on their computer. This means that if I write a program with Python 3.11 on my Mac, and I use a bunch of modules from the standard library, then I give my program to you, using Windows (but also Python 3.11), you can run the program without any fear that the modules will be broken."
   ]
  },
  {
   "cell_type": "code",
   "execution_count": 63,
   "id": "58d317dd-20e8-4e5c-866d-780a5bf16a29",
   "metadata": {},
   "outputs": [
    {
     "data": {
      "text/plain": [
       "['/Users/reuven/Courses/Current/2023-08August-Python',\n",
       " '/usr/local/Cellar/python@3.11/3.11.4_1/Frameworks/Python.framework/Versions/3.11/lib/python311.zip',\n",
       " '/usr/local/Cellar/python@3.11/3.11.4_1/Frameworks/Python.framework/Versions/3.11/lib/python3.11',\n",
       " '/usr/local/Cellar/python@3.11/3.11.4_1/Frameworks/Python.framework/Versions/3.11/lib/python3.11/lib-dynload',\n",
       " '',\n",
       " '/usr/local/lib/python3.11/site-packages',\n",
       " '/usr/local/Cellar/pybind11/2.11.1/libexec/lib/python3.11/site-packages',\n",
       " '/usr/local/opt/python-tk@3.11/libexec']"
      ]
     },
     "execution_count": 63,
     "metadata": {},
     "output_type": "execute_result"
    }
   ],
   "source": [
    "import sys\n",
    "sys.path"
   ]
  },
  {
   "cell_type": "code",
   "execution_count": 64,
   "id": "115cc95b-efbf-4bc5-a41b-0f55c33d54ba",
   "metadata": {},
   "outputs": [],
   "source": [
    "import fixer_currency"
   ]
  },
  {
   "cell_type": "markdown",
   "id": "ebad31dd-c3d5-4714-bfa8-2c689a1a32bf",
   "metadata": {},
   "source": [
    "# Next up\n",
    "\n",
    "- Finalizing some loose ends with modules/packages\n",
    "- What next? For Python, for you, and your career  -- questions will be amazing to answer then!\n",
    "\n"
   ]
  },
  {
   "cell_type": "markdown",
   "id": "7125a01d-c9d0-4912-a065-3eb512ba8645",
   "metadata": {},
   "source": [
    "# Some module/package thoughts\n",
    "\n",
    "How can we know if a module is good?  How can we know if a module is safe? https://awesome-python.com to the rescue!"
   ]
  },
  {
   "cell_type": "markdown",
   "id": "f157e760-025c-4f06-89ba-0e6d7d9ed260",
   "metadata": {},
   "source": [
    "# Exercise: Character count\n",
    "\n",
    "1. We've written programs in this course that take a string, iterate over it one character a time, and use a dict to store the number of times each character appears in the string.\n",
    "2. It turns out that Python has a data structure that does this already, the `collections.Counter` object.\n",
    "3. If you create a new instance of `Counter` by running it on a string (e.g., `Counter('abcdeabcde')`, you get back a Counter object, which is similar to a dictionary, but its keys will be the characters in the string and its values will be the number of times that character appears.\n",
    "4. Because it acts like a dictionary, you can iterate over it like one.\n",
    "5. Use `import` and the `Counter` class to ask the user for a string, and then to print a report on how many times each character appeared in it."
   ]
  },
  {
   "cell_type": "code",
   "execution_count": 65,
   "id": "f6d0fcf3-b076-458a-8f17-962a8ca6c145",
   "metadata": {},
   "outputs": [
    {
     "name": "stdin",
     "output_type": "stream",
     "text": [
      "Enter a string:  hello to everyone out there!\n"
     ]
    },
    {
     "name": "stdout",
     "output_type": "stream",
     "text": [
      "h: 2\n",
      "e: 6\n",
      "l: 2\n",
      "o: 4\n",
      " : 4\n",
      "t: 3\n",
      "v: 1\n",
      "r: 2\n",
      "y: 1\n",
      "n: 1\n",
      "u: 1\n",
      "!: 1\n"
     ]
    }
   ],
   "source": [
    "s = input('Enter a string: ').strip()\n",
    "\n",
    "counts = {}\n",
    "\n",
    "for one_character in s:\n",
    "    if one_character in counts:\n",
    "        counts[one_character] += 1\n",
    "    else:\n",
    "        counts[one_character] = 1\n",
    "\n",
    "for key, value in counts.items():\n",
    "    print(f'{key}: {value}')"
   ]
  },
  {
   "cell_type": "code",
   "execution_count": 68,
   "id": "c84e3a0a-4875-43d5-9cd6-889196686ec9",
   "metadata": {},
   "outputs": [
    {
     "name": "stdout",
     "output_type": "stream",
     "text": [
      "h: 2\n",
      "e: 6\n",
      "l: 2\n",
      "o: 4\n",
      " : 4\n",
      "t: 3\n",
      "v: 1\n",
      "r: 2\n",
      "y: 1\n",
      "n: 1\n",
      "u: 1\n",
      "!: 1\n"
     ]
    }
   ],
   "source": [
    "# collections.Counter means -- module collections, class Counter\n",
    "\n",
    "import collections\n",
    "\n",
    "# I could also say: from collections import Counter\n",
    "counts = collections.Counter(s)\n",
    "\n",
    "for key, value in counts.items():\n",
    "    print(f'{key}: {value}')"
   ]
  },
  {
   "cell_type": "markdown",
   "id": "3b78b595-dcfd-48d3-b3b2-340eaac39c89",
   "metadata": {},
   "source": [
    "# What's next?\n",
    "\n",
    "- Where/how can you use Python in your work?\n",
    "- What are good topics for you to learn regarding Python?\n",
    "- How can you improve?"
   ]
  },
  {
   "cell_type": "markdown",
   "id": "1698deac-eae9-4074-9f33-70bb8f1cf0c6",
   "metadata": {},
   "source": [
    "# Using Python in your work\n",
    "\n",
    "The rule of thumb for software is: If it's annoying and time consuming for you to do, then maybe the computer could/should do it for you.\n",
    "\n",
    "Where could you use Python?\n",
    "\n",
    "- Repetitive tasks on your computer:\n",
    "    - Erasing/moving old backup files\n",
    "    - Searching through certain documents\n",
    "    - Retrieving data from important/useful data sources\n",
    "- Data analysis\n",
    "    - Pandas -- data analysis\n",
    "    - Machine learning\n",
    "    - Data engineering\n",
    "- Web development\n",
    "    - Python powers many Web sites -- Django, Flask, FastAPI\n",
    "    - Client-side used to be only JavaScript... PyScript is a new contender using Python!"
   ]
  },
  {
   "cell_type": "markdown",
   "id": "70408e81-8fcf-4c79-80db-644e091f1098",
   "metadata": {},
   "source": [
    "# So, how do we improve?\n",
    "\n",
    "Practice, practice, and more practice: Find opportunities to practice Python"
   ]
  }
 ],
 "metadata": {
  "kernelspec": {
   "display_name": "Python 3 (ipykernel)",
   "language": "python",
   "name": "python3"
  },
  "language_info": {
   "codemirror_mode": {
    "name": "ipython",
    "version": 3
   },
   "file_extension": ".py",
   "mimetype": "text/x-python",
   "name": "python",
   "nbconvert_exporter": "python",
   "pygments_lexer": "ipython3",
   "version": "3.11.4"
  }
 },
 "nbformat": 4,
 "nbformat_minor": 5
}
