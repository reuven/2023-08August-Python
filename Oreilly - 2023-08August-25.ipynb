{
 "cells": [
  {
   "cell_type": "markdown",
   "id": "f696b7e7-50b8-48ad-baea-d6eba9c2c119",
   "metadata": {},
   "source": [
    "# Agenda: Day 5 (modules and packages)\n",
    "\n",
    "1. What are modules? What do they contain?\n",
    "2. `import` -- and its different variations\n",
    "3. Re-importing modules -- when does this matter, and how do we do it?\n",
    "4. A little bit about writing our own modules\n",
    "5. Python's standard library\n",
    "6. PyPI -- Python Package Index, and installing things with `pip` (warning: this might not work for you)\n",
    "7. Where to from here?\n",
    "    - How/where can you improve your Python after this course?\n",
    "    - What could/should you study next?"
   ]
  },
  {
   "cell_type": "markdown",
   "id": "1bbd1342-6aaa-4c3b-b413-ed41a889884e",
   "metadata": {},
   "source": [
    "# Modules -- what are they?\n",
    "\n",
    "Remember the DRY rule -- \"Don't Repeat Yourself!\"\n",
    "\n",
    "- If you have several lines in a row that roughly repeat themselves, you can use a loop.\n",
    "- If you have the same code in several different places in your program, you can use a function.\n",
    "- If you have the same code in several *different* programs, you can use a library.\n",
    "\n",
    "Every programming language (that I know of) supports the use of external libraries. Those libraries contain data structures, functions, and classes that we might want to use in more than one program.\n",
    "\n",
    "This means that if there's functionality which repeats in my program, then I can benefit by putting it in a library and then using it not just in the current program, but in future programs. If there's functionality that'll help me (or my team, or my company, or the world) beyond my current project, then putting things in a library makes a lot of sense.\n",
    "\n",
    "In Python, we have libraries -- but we call them \"modules.\"\n",
    "\n",
    "Modules do two things:\n",
    "\n",
    "1. They are libraries, as described here.\n",
    "2. They are also *namespaces*, ensuring that variable names don't collide with one another.\n",
    "\n",
    "Namespaces are sort of like last names for variables -- they greatly reduce the chance that we'll have a namespace collision. \n",
    "\n",
    "Imagine having to write the following kinds of software:\n",
    "- Reliable login systems, including cryptography\n",
    "- Printing things on a printer in graphics format\n",
    "- Translates from Python to C\n",
    "- Many modern libraries implement the client side of an API, so that you can access all sorts of online services"
   ]
  },
  {
   "cell_type": "markdown",
   "id": "d7291105-8fe2-48a8-bc47-c0b5f7252510",
   "metadata": {},
   "source": [
    "# Using modules with `import`\n",
    "\n",
    "If you want to use a module in Python, you must first `import` it. The syntax looks like this:\n",
    "\n",
    "    import random\n",
    "\n",
    "Notice a few things about this:\n",
    "\n",
    "1. I don't put the word `random` in quotes. That's because it's not a string, but rather is the name of the variable to which we'll be assigning the new module.\n",
    "2. I also don't use parentheses after `import` -- it's not a function! Only functions need to use ()\n",
    "3. I'm not giving a filename to `import`, but rather, I'm giving the name of the module that wish would be installed into my current Python."
   ]
  },
  {
   "cell_type": "code",
   "execution_count": 1,
   "id": "96407941-1ae1-45d5-8186-e8c77d570bb0",
   "metadata": {},
   "outputs": [],
   "source": [
    "import random"
   ]
  },
  {
   "cell_type": "code",
   "execution_count": 2,
   "id": "10e14c8d-90f3-4dac-b86e-e16669595a0c",
   "metadata": {},
   "outputs": [
    {
     "data": {
      "text/plain": [
       "module"
      ]
     },
     "execution_count": 2,
     "metadata": {},
     "output_type": "execute_result"
    }
   ],
   "source": [
    "# what did we get in the module object?\n",
    "type(random)"
   ]
  },
  {
   "cell_type": "code",
   "execution_count": null,
   "id": "2f862ae5-1be9-4bbe-a183-e0e431b26f1c",
   "metadata": {},
   "outputs": [],
   "source": [
    "# what can we do with a module object?\n",
    "# not much! We can retrieve items from its attributes:"
   ]
  }
 ],
 "metadata": {
  "kernelspec": {
   "display_name": "Python 3 (ipykernel)",
   "language": "python",
   "name": "python3"
  },
  "language_info": {
   "codemirror_mode": {
    "name": "ipython",
    "version": 3
   },
   "file_extension": ".py",
   "mimetype": "text/x-python",
   "name": "python",
   "nbconvert_exporter": "python",
   "pygments_lexer": "ipython3",
   "version": "3.11.4"
  }
 },
 "nbformat": 4,
 "nbformat_minor": 5
}
